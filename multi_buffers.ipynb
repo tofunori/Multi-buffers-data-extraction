{
 "cells": [
  {
   "cell_type": "markdown",
   "metadata": {},
   "source": [
    "# Project PICOM"
   ]
  },
  {
   "cell_type": "markdown",
   "metadata": {},
   "source": [
    "## Import the libraries and files"
   ]
  },
  {
   "cell_type": "code",
   "execution_count": 2,
   "metadata": {},
   "outputs": [],
   "source": [
    "import geopandas as gpd\n",
    "import pandas as pd \n",
    "import matplotlib.pyplot as plt\n"
   ]
  },
  {
   "cell_type": "code",
   "execution_count": 3,
   "metadata": {},
   "outputs": [],
   "source": [
    "#Import the files\n",
    "camera_df = gpd.read_file(r\"C:\\Users\\thier\\Downloads\\Projet\\Projet\\Cameras.shp\")\n",
    "rivieres = gpd.read_file(r\"C:\\Users\\thier\\Downloads\\Projet\\Projet\\Rivieres.shp\")\n",
    "roads = gpd.read_file(r\"C:\\Users\\thier\\Downloads\\Projet\\Projet\\Reseau_Routier.shp\")\n",
    "railroad = gpd.read_file(r\"C:\\Users\\thier\\Downloads\\Projet\\Projet\\Reseau_Ferroviaire.shp\")\n",
    "slope = gpd.read_file(r\"C:\\Users\\thier\\Downloads\\Projet\\Projet\\Pente.shp\")\n",
    "landcover = gpd.read_file(r\"C:\\Users\\thier\\Downloads\\Projet\\Projet\\Type_Couverture.shp\")\n",
    "sol = gpd.read_file(r\"C:\\Users\\thier\\Downloads\\Projet\\Projet\\utilisation_territoire2.shp\")\n",
    "\n",
    "\n",
    "\n"
   ]
  },
  {
   "cell_type": "code",
   "execution_count": null,
   "metadata": {},
   "outputs": [],
   "source": [
    "#export the camera dataframe\n",
    "camera_df.to_file(r\"C:\\Users\\thier\\Downloads\\Projet\\Projet\\points.shp\", )\n",
    "camera_df\n"
   ]
  },
  {
   "cell_type": "code",
   "execution_count": 4,
   "metadata": {},
   "outputs": [],
   "source": [
    "#Make sure the projection is the right one\n",
    "camera_df = camera_df.to_crs('EPSG:26918')"
   ]
  },
  {
   "cell_type": "markdown",
   "metadata": {},
   "source": [
    "### Create buffers of 500m, 1km and 2km"
   ]
  },
  {
   "cell_type": "code",
   "execution_count": 6,
   "metadata": {},
   "outputs": [],
   "source": [
    "#Create buffers for each cameras\n",
    "buffered_geometries_500m = camera_df.geometry.apply(lambda geom: geom.buffer(500))\n",
    "buffered_geometries_1km = camera_df.geometry.apply(lambda geom: geom.buffer(1000))\n",
    "buffered_geometries_2km = camera_df.geometry.apply(lambda geom: geom.buffer(2000))\n",
    "\n",
    "# Create GeoDataFrames for each buffer\n",
    "buffered_camera_df_500m = gpd.GeoDataFrame(geometry=buffered_geometries_500m, crs=camera_df.crs)\n",
    "buffered_camera_df_1km = gpd.GeoDataFrame(geometry=buffered_geometries_1km, crs=camera_df.crs)\n",
    "buffered_camera_df_2km = gpd.GeoDataFrame(geometry=buffered_geometries_2km, crs=camera_df.crs)\n"
   ]
  },
  {
   "cell_type": "code",
   "execution_count": 234,
   "metadata": {},
   "outputs": [],
   "source": [
    "#Export the buffers shp\n",
    "buffered_camera_df_500m.to_file(r\"C:\\Users\\thier\\Downloads\\Projet\\Projet\\buffers_500m.shp\")\n",
    "buffered_camera_df_1km.to_file(r\"C:\\Users\\thier\\Downloads\\Projet\\Projet\\buffers_1km.shp\")\n",
    "buffered_camera_df_2km.to_file(r\"C:\\Users\\thier\\Downloads\\Projet\\Projet\\buffers_2km.shp\")"
   ]
  },
  {
   "cell_type": "code",
   "execution_count": 12,
   "metadata": {},
   "outputs": [
    {
     "data": {
      "text/html": [
       "<div>\n",
       "<style scoped>\n",
       "    .dataframe tbody tr th:only-of-type {\n",
       "        vertical-align: middle;\n",
       "    }\n",
       "\n",
       "    .dataframe tbody tr th {\n",
       "        vertical-align: top;\n",
       "    }\n",
       "\n",
       "    .dataframe thead th {\n",
       "        text-align: right;\n",
       "    }\n",
       "</style>\n",
       "<table border=\"1\" class=\"dataframe\">\n",
       "  <thead>\n",
       "    <tr style=\"text-align: right;\">\n",
       "      <th></th>\n",
       "      <th>geometry</th>\n",
       "      <th>id</th>\n",
       "    </tr>\n",
       "  </thead>\n",
       "  <tbody>\n",
       "    <tr>\n",
       "      <th>0</th>\n",
       "      <td>POLYGON ((661317.073 5146532.732, 661312.258 5...</td>\n",
       "      <td>0</td>\n",
       "    </tr>\n",
       "    <tr>\n",
       "      <th>1</th>\n",
       "      <td>POLYGON ((666361.182 5142168.525, 666356.367 5...</td>\n",
       "      <td>1</td>\n",
       "    </tr>\n",
       "    <tr>\n",
       "      <th>2</th>\n",
       "      <td>POLYGON ((668458.106 5143131.861, 668453.291 5...</td>\n",
       "      <td>2</td>\n",
       "    </tr>\n",
       "    <tr>\n",
       "      <th>3</th>\n",
       "      <td>POLYGON ((668806.246 5136849.927, 668801.431 5...</td>\n",
       "      <td>3</td>\n",
       "    </tr>\n",
       "    <tr>\n",
       "      <th>4</th>\n",
       "      <td>POLYGON ((673302.802 5139547.043, 673297.987 5...</td>\n",
       "      <td>4</td>\n",
       "    </tr>\n",
       "    <tr>\n",
       "      <th>5</th>\n",
       "      <td>POLYGON ((674417.376 5140819.057, 674412.560 5...</td>\n",
       "      <td>5</td>\n",
       "    </tr>\n",
       "    <tr>\n",
       "      <th>6</th>\n",
       "      <td>POLYGON ((680118.231 5138058.608, 680113.416 5...</td>\n",
       "      <td>6</td>\n",
       "    </tr>\n",
       "    <tr>\n",
       "      <th>7</th>\n",
       "      <td>POLYGON ((675453.009 5130188.305, 675448.194 5...</td>\n",
       "      <td>7</td>\n",
       "    </tr>\n",
       "    <tr>\n",
       "      <th>8</th>\n",
       "      <td>POLYGON ((677222.147 5129598.863, 677217.332 5...</td>\n",
       "      <td>8</td>\n",
       "    </tr>\n",
       "    <tr>\n",
       "      <th>9</th>\n",
       "      <td>POLYGON ((677487.293 5129553.707, 677482.478 5...</td>\n",
       "      <td>9</td>\n",
       "    </tr>\n",
       "    <tr>\n",
       "      <th>10</th>\n",
       "      <td>POLYGON ((674024.473 5131939.801, 674019.658 5...</td>\n",
       "      <td>10</td>\n",
       "    </tr>\n",
       "    <tr>\n",
       "      <th>11</th>\n",
       "      <td>POLYGON ((682398.590 5133906.399, 682393.775 5...</td>\n",
       "      <td>11</td>\n",
       "    </tr>\n",
       "    <tr>\n",
       "      <th>12</th>\n",
       "      <td>POLYGON ((682555.780 5133829.789, 682550.964 5...</td>\n",
       "      <td>12</td>\n",
       "    </tr>\n",
       "    <tr>\n",
       "      <th>13</th>\n",
       "      <td>POLYGON ((672139.866 5138149.914, 672135.051 5...</td>\n",
       "      <td>13</td>\n",
       "    </tr>\n",
       "    <tr>\n",
       "      <th>14</th>\n",
       "      <td>POLYGON ((665599.156 5148900.978, 665594.341 5...</td>\n",
       "      <td>14</td>\n",
       "    </tr>\n",
       "  </tbody>\n",
       "</table>\n",
       "</div>"
      ],
      "text/plain": [
       "                                             geometry  id\n",
       "0   POLYGON ((661317.073 5146532.732, 661312.258 5...   0\n",
       "1   POLYGON ((666361.182 5142168.525, 666356.367 5...   1\n",
       "2   POLYGON ((668458.106 5143131.861, 668453.291 5...   2\n",
       "3   POLYGON ((668806.246 5136849.927, 668801.431 5...   3\n",
       "4   POLYGON ((673302.802 5139547.043, 673297.987 5...   4\n",
       "5   POLYGON ((674417.376 5140819.057, 674412.560 5...   5\n",
       "6   POLYGON ((680118.231 5138058.608, 680113.416 5...   6\n",
       "7   POLYGON ((675453.009 5130188.305, 675448.194 5...   7\n",
       "8   POLYGON ((677222.147 5129598.863, 677217.332 5...   8\n",
       "9   POLYGON ((677487.293 5129553.707, 677482.478 5...   9\n",
       "10  POLYGON ((674024.473 5131939.801, 674019.658 5...  10\n",
       "11  POLYGON ((682398.590 5133906.399, 682393.775 5...  11\n",
       "12  POLYGON ((682555.780 5133829.789, 682550.964 5...  12\n",
       "13  POLYGON ((672139.866 5138149.914, 672135.051 5...  13\n",
       "14  POLYGON ((665599.156 5148900.978, 665594.341 5...  14"
      ]
     },
     "execution_count": 12,
     "metadata": {},
     "output_type": "execute_result"
    }
   ],
   "source": [
    "# Create a new column 'id' with index values\n",
    "buffered_camera_df_1km['id'] = buffered_camera_df_1km.index\n",
    "buffered_camera_df_1km"
   ]
  },
  {
   "cell_type": "code",
   "execution_count": 13,
   "metadata": {},
   "outputs": [
    {
     "data": {
      "text/html": [
       "<div>\n",
       "<style scoped>\n",
       "    .dataframe tbody tr th:only-of-type {\n",
       "        vertical-align: middle;\n",
       "    }\n",
       "\n",
       "    .dataframe tbody tr th {\n",
       "        vertical-align: top;\n",
       "    }\n",
       "\n",
       "    .dataframe thead th {\n",
       "        text-align: right;\n",
       "    }\n",
       "</style>\n",
       "<table border=\"1\" class=\"dataframe\">\n",
       "  <thead>\n",
       "    <tr style=\"text-align: right;\">\n",
       "      <th></th>\n",
       "      <th>geometry</th>\n",
       "      <th>id</th>\n",
       "    </tr>\n",
       "  </thead>\n",
       "  <tbody>\n",
       "    <tr>\n",
       "      <th>0</th>\n",
       "      <td>POLYGON ((660817.073 5146532.732, 660814.665 5...</td>\n",
       "      <td>0</td>\n",
       "    </tr>\n",
       "    <tr>\n",
       "      <th>1</th>\n",
       "      <td>POLYGON ((665861.182 5142168.525, 665858.774 5...</td>\n",
       "      <td>1</td>\n",
       "    </tr>\n",
       "    <tr>\n",
       "      <th>2</th>\n",
       "      <td>POLYGON ((667958.106 5143131.861, 667955.698 5...</td>\n",
       "      <td>2</td>\n",
       "    </tr>\n",
       "    <tr>\n",
       "      <th>3</th>\n",
       "      <td>POLYGON ((668306.246 5136849.927, 668303.839 5...</td>\n",
       "      <td>3</td>\n",
       "    </tr>\n",
       "    <tr>\n",
       "      <th>4</th>\n",
       "      <td>POLYGON ((672802.802 5139547.043, 672800.395 5...</td>\n",
       "      <td>4</td>\n",
       "    </tr>\n",
       "    <tr>\n",
       "      <th>5</th>\n",
       "      <td>POLYGON ((673917.376 5140819.057, 673914.968 5...</td>\n",
       "      <td>5</td>\n",
       "    </tr>\n",
       "    <tr>\n",
       "      <th>6</th>\n",
       "      <td>POLYGON ((679618.231 5138058.608, 679615.823 5...</td>\n",
       "      <td>6</td>\n",
       "    </tr>\n",
       "    <tr>\n",
       "      <th>7</th>\n",
       "      <td>POLYGON ((674953.009 5130188.305, 674950.602 5...</td>\n",
       "      <td>7</td>\n",
       "    </tr>\n",
       "    <tr>\n",
       "      <th>8</th>\n",
       "      <td>POLYGON ((676722.147 5129598.863, 676719.739 5...</td>\n",
       "      <td>8</td>\n",
       "    </tr>\n",
       "    <tr>\n",
       "      <th>9</th>\n",
       "      <td>POLYGON ((676987.293 5129553.707, 676984.886 5...</td>\n",
       "      <td>9</td>\n",
       "    </tr>\n",
       "    <tr>\n",
       "      <th>10</th>\n",
       "      <td>POLYGON ((673524.473 5131939.801, 673522.066 5...</td>\n",
       "      <td>10</td>\n",
       "    </tr>\n",
       "    <tr>\n",
       "      <th>11</th>\n",
       "      <td>POLYGON ((681898.590 5133906.399, 681896.182 5...</td>\n",
       "      <td>11</td>\n",
       "    </tr>\n",
       "    <tr>\n",
       "      <th>12</th>\n",
       "      <td>POLYGON ((682055.780 5133829.789, 682053.372 5...</td>\n",
       "      <td>12</td>\n",
       "    </tr>\n",
       "    <tr>\n",
       "      <th>13</th>\n",
       "      <td>POLYGON ((671639.866 5138149.914, 671637.459 5...</td>\n",
       "      <td>13</td>\n",
       "    </tr>\n",
       "    <tr>\n",
       "      <th>14</th>\n",
       "      <td>POLYGON ((665099.156 5148900.978, 665096.749 5...</td>\n",
       "      <td>14</td>\n",
       "    </tr>\n",
       "  </tbody>\n",
       "</table>\n",
       "</div>"
      ],
      "text/plain": [
       "                                             geometry  id\n",
       "0   POLYGON ((660817.073 5146532.732, 660814.665 5...   0\n",
       "1   POLYGON ((665861.182 5142168.525, 665858.774 5...   1\n",
       "2   POLYGON ((667958.106 5143131.861, 667955.698 5...   2\n",
       "3   POLYGON ((668306.246 5136849.927, 668303.839 5...   3\n",
       "4   POLYGON ((672802.802 5139547.043, 672800.395 5...   4\n",
       "5   POLYGON ((673917.376 5140819.057, 673914.968 5...   5\n",
       "6   POLYGON ((679618.231 5138058.608, 679615.823 5...   6\n",
       "7   POLYGON ((674953.009 5130188.305, 674950.602 5...   7\n",
       "8   POLYGON ((676722.147 5129598.863, 676719.739 5...   8\n",
       "9   POLYGON ((676987.293 5129553.707, 676984.886 5...   9\n",
       "10  POLYGON ((673524.473 5131939.801, 673522.066 5...  10\n",
       "11  POLYGON ((681898.590 5133906.399, 681896.182 5...  11\n",
       "12  POLYGON ((682055.780 5133829.789, 682053.372 5...  12\n",
       "13  POLYGON ((671639.866 5138149.914, 671637.459 5...  13\n",
       "14  POLYGON ((665099.156 5148900.978, 665096.749 5...  14"
      ]
     },
     "execution_count": 13,
     "metadata": {},
     "output_type": "execute_result"
    }
   ],
   "source": [
    "# Create a new column 'id' with index values\n",
    "buffered_camera_df_500m['id'] = buffered_camera_df_500m.index\n",
    "buffered_camera_df_500m"
   ]
  },
  {
   "cell_type": "code",
   "execution_count": 14,
   "metadata": {},
   "outputs": [
    {
     "data": {
      "text/html": [
       "<div>\n",
       "<style scoped>\n",
       "    .dataframe tbody tr th:only-of-type {\n",
       "        vertical-align: middle;\n",
       "    }\n",
       "\n",
       "    .dataframe tbody tr th {\n",
       "        vertical-align: top;\n",
       "    }\n",
       "\n",
       "    .dataframe thead th {\n",
       "        text-align: right;\n",
       "    }\n",
       "</style>\n",
       "<table border=\"1\" class=\"dataframe\">\n",
       "  <thead>\n",
       "    <tr style=\"text-align: right;\">\n",
       "      <th></th>\n",
       "      <th>geometry</th>\n",
       "      <th>id</th>\n",
       "    </tr>\n",
       "  </thead>\n",
       "  <tbody>\n",
       "    <tr>\n",
       "      <th>0</th>\n",
       "      <td>POLYGON ((662317.073 5146532.732, 662307.442 5...</td>\n",
       "      <td>0</td>\n",
       "    </tr>\n",
       "    <tr>\n",
       "      <th>1</th>\n",
       "      <td>POLYGON ((667361.182 5142168.525, 667351.551 5...</td>\n",
       "      <td>1</td>\n",
       "    </tr>\n",
       "    <tr>\n",
       "      <th>2</th>\n",
       "      <td>POLYGON ((669458.106 5143131.861, 669448.475 5...</td>\n",
       "      <td>2</td>\n",
       "    </tr>\n",
       "    <tr>\n",
       "      <th>3</th>\n",
       "      <td>POLYGON ((669806.246 5136849.927, 669796.616 5...</td>\n",
       "      <td>3</td>\n",
       "    </tr>\n",
       "    <tr>\n",
       "      <th>4</th>\n",
       "      <td>POLYGON ((674302.802 5139547.043, 674293.172 5...</td>\n",
       "      <td>4</td>\n",
       "    </tr>\n",
       "    <tr>\n",
       "      <th>5</th>\n",
       "      <td>POLYGON ((675417.376 5140819.057, 675407.745 5...</td>\n",
       "      <td>5</td>\n",
       "    </tr>\n",
       "    <tr>\n",
       "      <th>6</th>\n",
       "      <td>POLYGON ((681118.231 5138058.608, 681108.600 5...</td>\n",
       "      <td>6</td>\n",
       "    </tr>\n",
       "    <tr>\n",
       "      <th>7</th>\n",
       "      <td>POLYGON ((676453.009 5130188.305, 676443.379 5...</td>\n",
       "      <td>7</td>\n",
       "    </tr>\n",
       "    <tr>\n",
       "      <th>8</th>\n",
       "      <td>POLYGON ((678222.147 5129598.863, 678212.516 5...</td>\n",
       "      <td>8</td>\n",
       "    </tr>\n",
       "    <tr>\n",
       "      <th>9</th>\n",
       "      <td>POLYGON ((678487.293 5129553.707, 678477.663 5...</td>\n",
       "      <td>9</td>\n",
       "    </tr>\n",
       "    <tr>\n",
       "      <th>10</th>\n",
       "      <td>POLYGON ((675024.473 5131939.801, 675014.843 5...</td>\n",
       "      <td>10</td>\n",
       "    </tr>\n",
       "    <tr>\n",
       "      <th>11</th>\n",
       "      <td>POLYGON ((683398.590 5133906.399, 683388.959 5...</td>\n",
       "      <td>11</td>\n",
       "    </tr>\n",
       "    <tr>\n",
       "      <th>12</th>\n",
       "      <td>POLYGON ((683555.780 5133829.789, 683546.149 5...</td>\n",
       "      <td>12</td>\n",
       "    </tr>\n",
       "    <tr>\n",
       "      <th>13</th>\n",
       "      <td>POLYGON ((673139.866 5138149.914, 673130.236 5...</td>\n",
       "      <td>13</td>\n",
       "    </tr>\n",
       "    <tr>\n",
       "      <th>14</th>\n",
       "      <td>POLYGON ((666599.156 5148900.978, 666589.526 5...</td>\n",
       "      <td>14</td>\n",
       "    </tr>\n",
       "  </tbody>\n",
       "</table>\n",
       "</div>"
      ],
      "text/plain": [
       "                                             geometry  id\n",
       "0   POLYGON ((662317.073 5146532.732, 662307.442 5...   0\n",
       "1   POLYGON ((667361.182 5142168.525, 667351.551 5...   1\n",
       "2   POLYGON ((669458.106 5143131.861, 669448.475 5...   2\n",
       "3   POLYGON ((669806.246 5136849.927, 669796.616 5...   3\n",
       "4   POLYGON ((674302.802 5139547.043, 674293.172 5...   4\n",
       "5   POLYGON ((675417.376 5140819.057, 675407.745 5...   5\n",
       "6   POLYGON ((681118.231 5138058.608, 681108.600 5...   6\n",
       "7   POLYGON ((676453.009 5130188.305, 676443.379 5...   7\n",
       "8   POLYGON ((678222.147 5129598.863, 678212.516 5...   8\n",
       "9   POLYGON ((678487.293 5129553.707, 678477.663 5...   9\n",
       "10  POLYGON ((675024.473 5131939.801, 675014.843 5...  10\n",
       "11  POLYGON ((683398.590 5133906.399, 683388.959 5...  11\n",
       "12  POLYGON ((683555.780 5133829.789, 683546.149 5...  12\n",
       "13  POLYGON ((673139.866 5138149.914, 673130.236 5...  13\n",
       "14  POLYGON ((666599.156 5148900.978, 666589.526 5...  14"
      ]
     },
     "execution_count": 14,
     "metadata": {},
     "output_type": "execute_result"
    }
   ],
   "source": [
    "# Create a new column 'id' with index values\n",
    "buffered_camera_df_2km['id'] = buffered_camera_df_2km.index\n",
    "buffered_camera_df_2km"
   ]
  },
  {
   "cell_type": "markdown",
   "metadata": {},
   "source": [
    "## Rivers"
   ]
  },
  {
   "cell_type": "markdown",
   "metadata": {},
   "source": [
    "### Set the rivers shp projection"
   ]
  },
  {
   "cell_type": "code",
   "execution_count": 222,
   "metadata": {},
   "outputs": [
    {
     "name": "stdout",
     "output_type": "stream",
     "text": [
      "CRS of rivieres: EPSG:26918\n",
      "CRS of buffered_camera_df_500m: EPSG:26918\n"
     ]
    }
   ],
   "source": [
    "print(\"CRS of rivieres:\", rivieres.crs)\n",
    "print(\"CRS of buffered_camera_df_500m:\", buffered_camera_df_500m.crs)"
   ]
  },
  {
   "cell_type": "code",
   "execution_count": 221,
   "metadata": {},
   "outputs": [],
   "source": [
    "if rivieres.crs is None:\n",
    "    rivieres.crs = 'EPSG:26918'\n",
    "rivieres = rivieres.to_crs(buffered_camera_df_500m.crs)"
   ]
  },
  {
   "cell_type": "markdown",
   "metadata": {},
   "source": [
    "### Rivers buffers 500m"
   ]
  },
  {
   "cell_type": "code",
   "execution_count": null,
   "metadata": {},
   "outputs": [],
   "source": [
    "import geopandas as gpd\n",
    "import pandas as pd\n",
    "\n",
    "results_df = pd.DataFrame(columns=[\"Buffer Index\", \"Clipped Length\"])\n",
    "\n",
    "# Create an empty GeoDataFrame to store the clipped results\n",
    "clipped_results_gdf = gpd.GeoDataFrame()\n",
    "\n",
    "# Assuming you have a GeoDataFrame called 'rivieres'\n",
    "for selected_buffer_index in range(len(buffered_camera_df_500m)):\n",
    "    selected_buffer = buffered_camera_df_500m.iloc[selected_buffer_index:selected_buffer_index + 1]\n",
    "    clipped_shp = gpd.overlay(rivieres, selected_buffer, how='intersection')\n",
    "    clipped_length = clipped_shp.length.sum()\n",
    "    print(f\"Buffer Index {selected_buffer_index}: Clipped Length = {clipped_length}\")\n",
    "    #clipped_shp.plot()\n",
    "    results_df = pd.concat([results_df, pd.DataFrame({\"Buffer Index\": [selected_buffer_index], \"Clipped Length\": [clipped_length]})], ignore_index=True)\n",
    "    clipped_results_gdf = gpd.GeoDataFrame(pd.concat([clipped_results_gdf, clipped_shp]), crs=rivieres.crs)\n",
    "\n",
    "# Export the results DataFrame to a CSV file\n",
    "results_df.to_csv(r\"C:\\Users\\thier\\Downloads\\Projet\\Projet\\rivers_buffers_500m.csv\", index=False)\n",
    "\n",
    "# Export the clipped results GeoDataFrame to a shapefile\n",
    "#clipped_results_gdf.to_file(r\"C:\\Users\\thier\\Downloads\\Projet\\Projet\\rivers_500m.shp\")\n"
   ]
  },
  {
   "cell_type": "markdown",
   "metadata": {},
   "source": [
    "### Rivers buffers 1km   "
   ]
  },
  {
   "cell_type": "code",
   "execution_count": null,
   "metadata": {},
   "outputs": [],
   "source": [
    "results_df = pd.DataFrame(columns=[\"Buffer Index\", \"Clipped Length\"])\n",
    "\n",
    "# Create an empty GeoDataFrame to store the clipped results\n",
    "clipped_results_gdf = gpd.GeoDataFrame()\n",
    "\n",
    "# Assuming you have a GeoDataFrame called 'rivieres'\n",
    "for selected_buffer_index in range(len(buffered_camera_df_1km)):\n",
    "    selected_buffer = buffered_camera_df_1km.iloc[selected_buffer_index:selected_buffer_index + 1]\n",
    "    clipped_shp = gpd.overlay(rivieres, selected_buffer, how='intersection')\n",
    "    clipped_length = clipped_shp.length.sum()\n",
    "    print(f\"Buffer Index {selected_buffer_index}: Clipped Length = {clipped_length}\")\n",
    "    #clipped_shp.plot()\n",
    "    results_df = pd.concat([results_df, pd.DataFrame({\"Buffer Index\": [selected_buffer_index], \"Clipped Length\": [clipped_length]})], ignore_index=True)\n",
    "    clipped_results_gdf = gpd.GeoDataFrame(pd.concat([clipped_results_gdf, clipped_shp]), crs=rivieres.crs)\n",
    "# Export the results DataFrame to a CSV file\n",
    "results_df.to_csv(r\"C:\\Users\\thier\\Downloads\\Projet\\Projet\\rivers_buffers_1km.csv\", index=False)"
   ]
  },
  {
   "cell_type": "markdown",
   "metadata": {},
   "source": [
    "### Rivers buffers 2km"
   ]
  },
  {
   "cell_type": "code",
   "execution_count": null,
   "metadata": {},
   "outputs": [],
   "source": [
    "results_df = pd.DataFrame(columns=[\"Buffer Index\", \"Clipped Length\"])\n",
    "\n",
    "# Create an empty GeoDataFrame to store the clipped results\n",
    "clipped_results_gdf = gpd.GeoDataFrame()\n",
    "\n",
    "# Assuming you have a GeoDataFrame called 'rivieres'\n",
    "for selected_buffer_index in range(len(buffered_camera_df_2km)):\n",
    "    selected_buffer = buffered_camera_df_2km.iloc[selected_buffer_index:selected_buffer_index + 1]\n",
    "    clipped_shp = gpd.overlay(rivieres, selected_buffer, how='intersection')\n",
    "    clipped_length = clipped_shp.length.sum()\n",
    "    print(f\"Buffer Index {selected_buffer_index}: Clipped Length = {clipped_length}\")\n",
    "    #clipped_rivieres.plot()\n",
    "    results_df = pd.concat([results_df, pd.DataFrame({\"Buffer Index\": [selected_buffer_index], \"Clipped Length\": [clipped_length]})], ignore_index=True)\n",
    "    clipped_results_gdf = gpd.GeoDataFrame(pd.concat([clipped_results_gdf, clipped_shp]), crs=rivieres.crs)\n",
    "\n",
    "results_df.to_csv(r\"C:\\Users\\thier\\Downloads\\Projet\\Projet\\rivers_buffers_2km.csv\", index=False)\n"
   ]
  },
  {
   "cell_type": "markdown",
   "metadata": {},
   "source": [
    "## Roads"
   ]
  },
  {
   "cell_type": "code",
   "execution_count": 193,
   "metadata": {},
   "outputs": [
    {
     "name": "stdout",
     "output_type": "stream",
     "text": [
      "CRS of roads: EPSG:26918\n",
      "CRS of buffered_camera_df_500m: EPSG:26918\n"
     ]
    }
   ],
   "source": [
    "print(\"CRS of roads:\", roads.crs)\n",
    "print(\"CRS of buffered_camera_df_500m:\", buffered_camera_df_1km.crs)"
   ]
  },
  {
   "cell_type": "code",
   "execution_count": 194,
   "metadata": {},
   "outputs": [],
   "source": [
    "if roads.crs is None:\n",
    "    roads.crs = 'EPSG:26918'\n",
    "roads = roads.to_crs(buffered_camera_df_1km.crs)"
   ]
  },
  {
   "cell_type": "markdown",
   "metadata": {},
   "source": [
    "### Roads buffers 500m"
   ]
  },
  {
   "cell_type": "code",
   "execution_count": null,
   "metadata": {},
   "outputs": [],
   "source": [
    "import geopandas as gpd\n",
    "import pandas as pd\n",
    "\n",
    "results_df = pd.DataFrame(columns=[\"Buffer Index\", \"Clipped Length\"])\n",
    "\n",
    "# Create an empty GeoDataFrame to store the clipped results\n",
    "clipped_results_gdf = gpd.GeoDataFrame()\n",
    "\n",
    "# Assuming you have a GeoDataFrame called 'rivieres'\n",
    "for selected_buffer_index in range(len(buffered_camera_df_500m)):\n",
    "    selected_buffer = buffered_camera_df_500m.iloc[selected_buffer_index:selected_buffer_index + 1]\n",
    "    clipped_shp = gpd.overlay(roads, selected_buffer, how='intersection')\n",
    "    clipped_length = clipped_shp.length.sum()\n",
    "    print(f\"Buffer Index {selected_buffer_index}: Clipped Length = {clipped_length}\")\n",
    "    #clipped_shp.plot()\n",
    "    results_df = pd.concat([results_df, pd.DataFrame({\"Buffer Index\": [selected_buffer_index], \"Clipped Length\": [clipped_length]})], ignore_index=True)\n",
    "    clipped_results_gdf = gpd.GeoDataFrame(pd.concat([clipped_results_gdf, clipped_shp]), crs=roads.crs)\n",
    "\n",
    "# Export the results DataFrame to a CSV file\n",
    "results_df.to_csv(r\"C:\\Users\\thier\\Downloads\\Projet\\Projet\\roads_buffers_500m.csv\", index=False)"
   ]
  },
  {
   "cell_type": "code",
   "execution_count": 198,
   "metadata": {},
   "outputs": [],
   "source": [
    "#Export the shp\n",
    "clipped_results_gdf.to_file(r\"C:\\Users\\thier\\Downloads\\Projet\\Projet\\river_500m.shp\")"
   ]
  },
  {
   "cell_type": "markdown",
   "metadata": {},
   "source": [
    "### Roads buffers 1km"
   ]
  },
  {
   "cell_type": "code",
   "execution_count": null,
   "metadata": {},
   "outputs": [],
   "source": [
    "import geopandas as gpd\n",
    "import pandas as pd\n",
    "\n",
    "results_df = pd.DataFrame(columns=[\"Buffer Index\", \"Clipped Length\"])\n",
    "\n",
    "# Create an empty GeoDataFrame to store the clipped results\n",
    "clipped_results_gdf = gpd.GeoDataFrame()\n",
    "\n",
    "for selected_buffer_index in range(len(buffered_camera_df_1km)):\n",
    "    selected_buffer = buffered_camera_df_1km.iloc[selected_buffer_index:selected_buffer_index + 1]\n",
    "    clipped_shp = gpd.overlay(roads, selected_buffer, how='intersection')\n",
    "    clipped_length = clipped_shp.length.sum()\n",
    "    print(f\"Buffer Index {selected_buffer_index}: Clipped Length = {clipped_length}\")\n",
    "    clipped_shp.plot()\n",
    "    results_df = pd.concat([results_df, pd.DataFrame({\"Buffer Index\": [selected_buffer_index], \"Clipped Length\": [clipped_length]})], ignore_index=True)\n",
    "    clipped_results_gdf = gpd.GeoDataFrame(pd.concat([clipped_results_gdf, clipped_shp]), crs=roads.crs)\n",
    "\n",
    "# Export the results DataFrame to a CSV file\n",
    "results_df.to_csv(r\"C:\\Users\\thier\\Downloads\\Projet\\Projet\\roads_buffers_1km.csv\", index=False)"
   ]
  },
  {
   "cell_type": "markdown",
   "metadata": {},
   "source": [
    "### Roads buffers 2km"
   ]
  },
  {
   "cell_type": "code",
   "execution_count": null,
   "metadata": {},
   "outputs": [],
   "source": [
    "import geopandas as gpd\n",
    "import pandas as pd\n",
    "\n",
    "results_df = pd.DataFrame(columns=[\"Buffer Index\", \"Clipped Length\"])\n",
    "\n",
    "# Create an empty GeoDataFrame to store the clipped results\n",
    "clipped_results_gdf = gpd.GeoDataFrame()\n",
    "\n",
    "for selected_buffer_index in range(len(buffered_camera_df_2km)):\n",
    "    selected_buffer = buffered_camera_df_2km.iloc[selected_buffer_index:selected_buffer_index + 1]\n",
    "    clipped_shp = gpd.overlay(roads, selected_buffer, how='intersection')\n",
    "    clipped_length = clipped_shp.length.sum()\n",
    "    print(f\"Buffer Index {selected_buffer_index}: Clipped Length = {clipped_length}\")\n",
    "    #You can plot the result\n",
    "    #clipped_shp.plot()\n",
    "    results_df = pd.concat([results_df, pd.DataFrame({\"Buffer Index\": [selected_buffer_index], \"Clipped Length\": [clipped_length]})], ignore_index=True)\n",
    "    clipped_results_gdf = gpd.GeoDataFrame(pd.concat([clipped_results_gdf, clipped_shp]), crs=roads.crs)\n",
    "\n",
    "# Export the results DataFrame to a CSV file\n",
    "results_df.to_csv(r\"C:\\Users\\thier\\Downloads\\Projet\\Projet\\roads_buffers_2km.csv\", index=False)"
   ]
  },
  {
   "cell_type": "code",
   "execution_count": null,
   "metadata": {},
   "outputs": [],
   "source": [
    "import geopandas as gpd\n",
    "import pandas as pd\n",
    "\n",
    "results_df = pd.DataFrame(columns=[\"Buffer Index\", \"Clipped Length\"])\n",
    "\n",
    "# Create an empty GeoDataFrame to store the clipped results\n",
    "clipped_results_gdf = gpd.GeoDataFrame()\n",
    "\n",
    "for selected_buffer_index in range(len(buffered_camera_df_1km)):\n",
    "    selected_buffer = buffered_camera_df_1km.iloc[selected_buffer_index:selected_buffer_index + 1]\n",
    "    clipped_shp = gpd.overlay(roads, selected_buffer, how='intersection')\n",
    "    clipped_length = clipped_shp.length.sum()\n",
    "    print(f\"Buffer Index {selected_buffer_index}: Clipped Length = {clipped_length}\")\n",
    "    clipped_shp.plot()\n",
    "    results_df = pd.concat([results_df, pd.DataFrame({\"Buffer Index\": [selected_buffer_index], \"Clipped Length\": [clipped_length]})], ignore_index=True)\n",
    "    clipped_results_gdf = gpd.GeoDataFrame(pd.concat([clipped_results_gdf, clipped_shp]), crs=roads.crs)\n",
    "\n",
    "# Export the results DataFrame to a CSV file\n",
    "results_df.to_csv(r\"C:\\Users\\thier\\Downloads\\Projet\\Projet\\roads_buffers_1km.csv\", index=False)"
   ]
  },
  {
   "cell_type": "markdown",
   "metadata": {},
   "source": [
    "## Railroads"
   ]
  },
  {
   "cell_type": "code",
   "execution_count": 244,
   "metadata": {},
   "outputs": [
    {
     "name": "stdout",
     "output_type": "stream",
     "text": [
      "CRS of roads: EPSG:26918\n",
      "CRS of buffered_camera_df_500m: EPSG:26918\n"
     ]
    }
   ],
   "source": [
    "print(\"CRS of roads:\", railroad.crs)\n",
    "print(\"CRS of buffered_camera_df_500m:\", buffered_camera_df_1km.crs)"
   ]
  },
  {
   "cell_type": "code",
   "execution_count": 245,
   "metadata": {},
   "outputs": [],
   "source": [
    "if railroad.crs is None:\n",
    "    railroad.crs = 'EPSG:26918'\n",
    "railroad = railroad.to_crs(buffered_camera_df_1km.crs)"
   ]
  },
  {
   "cell_type": "markdown",
   "metadata": {},
   "source": [
    "### Railroad buffer 500m"
   ]
  },
  {
   "cell_type": "code",
   "execution_count": null,
   "metadata": {},
   "outputs": [],
   "source": [
    "import geopandas as gpd\n",
    "import pandas as pd\n",
    "\n",
    "results_df = pd.DataFrame(columns=[\"Buffer Index\", \"Clipped Length\"])\n",
    "\n",
    "# Create an empty GeoDataFrame to store the clipped results\n",
    "clipped_results_gdf = gpd.GeoDataFrame()\n",
    "\n",
    "for selected_buffer_index in range(len(buffered_camera_df_500m)):\n",
    "    selected_buffer = buffered_camera_df_500m.iloc[selected_buffer_index:selected_buffer_index + 1]\n",
    "    clipped_shp = gpd.overlay(railroad, selected_buffer, how='intersection')\n",
    "    clipped_length = clipped_shp.length.sum()\n",
    "    print(f\"Buffer Index {selected_buffer_index}: Clipped Length = {clipped_length}\")\n",
    "    clipped_shp.plot()\n",
    "    results_df = pd.concat([results_df, pd.DataFrame({\"Buffer Index\": [selected_buffer_index], \"Clipped Length\": [clipped_length]})], ignore_index=True)\n",
    "    clipped_results_gdf = gpd.GeoDataFrame(pd.concat([clipped_results_gdf, clipped_shp]), crs=railroad.crs)\n",
    "\n",
    "# Export the results DataFrame to a CSV file\n",
    "results_df.to_csv(r\"C:\\Users\\thier\\Downloads\\Projet\\Projet\\railroad_buffers_500m.csv\", index=False)"
   ]
  },
  {
   "cell_type": "markdown",
   "metadata": {},
   "source": [
    "### Railroad buffers 1km"
   ]
  },
  {
   "cell_type": "code",
   "execution_count": null,
   "metadata": {},
   "outputs": [],
   "source": [
    "import geopandas as gpd\n",
    "import pandas as pd\n",
    "\n",
    "results_df = pd.DataFrame(columns=[\"Buffer Index\", \"Clipped Length\"])\n",
    "\n",
    "# Create an empty GeoDataFrame to store the clipped results\n",
    "clipped_results_gdf = gpd.GeoDataFrame()\n",
    "\n",
    "for selected_buffer_index in range(len(buffered_camera_df_1km)):\n",
    "    selected_buffer = buffered_camera_df_1km.iloc[selected_buffer_index:selected_buffer_index + 1]\n",
    "    clipped_shp = gpd.overlay(railroad, selected_buffer, how='intersection')\n",
    "    clipped_length = clipped_shp.length.sum()\n",
    "    print(f\"Buffer Index {selected_buffer_index}: Clipped Length = {clipped_length}\")\n",
    "    clipped_shp.plot()\n",
    "    results_df = pd.concat([results_df, pd.DataFrame({\"Buffer Index\": [selected_buffer_index], \"Clipped Length\": [clipped_length]})], ignore_index=True)\n",
    "    clipped_results_gdf = gpd.GeoDataFrame(pd.concat([clipped_results_gdf, clipped_shp]), crs=railroad.crs)\n",
    "\n",
    "# Export the results DataFrame to a CSV file\n",
    "results_df.to_csv(r\"C:\\Users\\thier\\Downloads\\Projet\\Projet\\railroad_buffers_1km.csv\", index=False)"
   ]
  },
  {
   "cell_type": "markdown",
   "metadata": {},
   "source": [
    "### Railroad buffers 2km"
   ]
  },
  {
   "cell_type": "code",
   "execution_count": null,
   "metadata": {},
   "outputs": [],
   "source": [
    "import geopandas as gpd\n",
    "import pandas as pd\n",
    "\n",
    "results_df = pd.DataFrame(columns=[\"Buffer Index\", \"Clipped Length\"])\n",
    "\n",
    "# Create an empty GeoDataFrame to store the clipped results\n",
    "clipped_results_gdf = gpd.GeoDataFrame()\n",
    "\n",
    "for selected_buffer_index in range(len(buffered_camera_df_2km)):\n",
    "    selected_buffer = buffered_camera_df_2km.iloc[selected_buffer_index:selected_buffer_index + 1]\n",
    "    clipped_shp = gpd.overlay(railroad, selected_buffer, how='intersection')\n",
    "    clipped_length = clipped_shp.length.sum()\n",
    "    print(f\"Buffer Index {selected_buffer_index}: Clipped Length = {clipped_length}\")\n",
    "    clipped_shp.plot()\n",
    "    results_df = pd.concat([results_df, pd.DataFrame({\"Buffer Index\": [selected_buffer_index], \"Clipped Length\": [clipped_length]})], ignore_index=True)\n",
    "    clipped_results_gdf = gpd.GeoDataFrame(pd.concat([clipped_results_gdf, clipped_shp]), crs=railroad.crs)\n",
    "\n",
    "# Export the results DataFrame to a CSV file\n",
    "results_df.to_csv(r\"C:\\Users\\thier\\Downloads\\Projet\\Projet\\railroad_buffers_2km.csv\", index=False)"
   ]
  },
  {
   "cell_type": "markdown",
   "metadata": {},
   "source": [
    "## Slope"
   ]
  },
  {
   "cell_type": "code",
   "execution_count": 254,
   "metadata": {},
   "outputs": [
    {
     "name": "stdout",
     "output_type": "stream",
     "text": [
      "CRS of roads: EPSG:26918\n",
      "CRS of buffered_camera_df_500m: EPSG:26918\n"
     ]
    }
   ],
   "source": [
    "print(\"CRS of roads:\", slope.crs)\n",
    "print(\"CRS of buffered_camera_df_500m:\", buffered_camera_df_1km.crs)"
   ]
  },
  {
   "cell_type": "code",
   "execution_count": 253,
   "metadata": {},
   "outputs": [],
   "source": [
    "if slope.crs is None:\n",
    "    slope.crs = 'EPSG:26918'\n",
    "slope = slope.to_crs(buffered_camera_df_1km.crs)"
   ]
  },
  {
   "cell_type": "markdown",
   "metadata": {},
   "source": [
    "### Slope buffer 500m"
   ]
  },
  {
   "cell_type": "code",
   "execution_count": 292,
   "metadata": {},
   "outputs": [],
   "source": [
    "import geopandas as gpd\n",
    "import pandas as pd\n",
    "\n",
    "# Assuming buffered_camera_df_500m and slope are predefined GeoDataFrames\n",
    "\n",
    "# Create an empty DataFrame for storing aggregated results\n",
    "aggregated_results = pd.DataFrame()\n",
    "\n",
    "for selected_buffer_index in range(len(buffered_camera_df_500m)):\n",
    "    # Select a single buffer zone\n",
    "    selected_buffer = buffered_camera_df_500m.iloc[selected_buffer_index:selected_buffer_index + 1]\n",
    "\n",
    "    # Calculate the intersection\n",
    "    clipped_shp = gpd.overlay(slope, selected_buffer, how='intersection')\n",
    "\n",
    "    # Check if the required columns ('id', 'CL_PENT', 'SUPERFICIE') exist in clipped_shp\n",
    "    if 'id' in clipped_shp.columns and 'CL_PENT' in clipped_shp.columns and 'SUPERFICIE' in clipped_shp.columns:\n",
    "        # Group the data by 'id' and 'CL_PENT' and calculate the sum of 'SUPERFICIE'\n",
    "        grouped_data = clipped_shp.groupby(['id', 'CL_PENT'])['SUPERFICIE'].sum().reset_index()\n",
    "        \n",
    "        # Append the grouped data to the aggregated_results DataFrame\n",
    "        aggregated_results = pd.concat([aggregated_results, grouped_data], ignore_index=True)\n",
    "\n",
    "# Optional: You can group and sum again in case there are overlapping ids and CL_PENTs across different buffer zones\n",
    "        \n",
    "# Export the grouped data to a CSV file\n",
    "aggregated_results.to_csv(r\"C:\\Users\\thier\\Downloads\\Projet\\Projet\\slope_buffers_500m.csv\", index=False)\n"
   ]
  },
  {
   "cell_type": "code",
   "execution_count": null,
   "metadata": {},
   "outputs": [],
   "source": [
    "# Export the grouped data to a CSV file\n",
    "grouped_data.to_csv(r\"C:\\Users\\thier\\Downloads\\Projet\\Projet\\slope_buffers_500m.csv\", index=False)"
   ]
  },
  {
   "cell_type": "markdown",
   "metadata": {},
   "source": [
    "### Slope buffers 1km"
   ]
  },
  {
   "cell_type": "code",
   "execution_count": 293,
   "metadata": {},
   "outputs": [],
   "source": [
    "import geopandas as gpd\n",
    "import pandas as pd\n",
    "\n",
    "aggregated_results = pd.DataFrame()\n",
    "\n",
    "for selected_buffer_index in range(len(buffered_camera_df_1km)):\n",
    "    selected_buffer = buffered_camera_df_1km.iloc[selected_buffer_index:selected_buffer_index + 1]\n",
    "    # Calculate the intersection\n",
    "    clipped_shp = gpd.overlay(slope, selected_buffer, how='intersection')\n",
    "\n",
    "    if 'id' in clipped_shp.columns and 'CL_PENT' in clipped_shp.columns and 'SUPERFICIE' in clipped_shp.columns:\n",
    "        grouped_data = clipped_shp.groupby(['id', 'CL_PENT'])['SUPERFICIE'].sum().reset_index()\n",
    "        \n",
    "        # Append the grouped data to the aggregated_results DataFrame\n",
    "        aggregated_results = pd.concat([aggregated_results, grouped_data], ignore_index=True)\n",
    "        \n",
    "# Export the grouped data to a CSV file\n",
    "aggregated_results.to_csv(r\"C:\\Users\\thier\\Downloads\\Projet\\Projet\\slope_buffers_1km.csv\", index=False)"
   ]
  },
  {
   "cell_type": "markdown",
   "metadata": {},
   "source": [
    "### Slope buffers 2km"
   ]
  },
  {
   "cell_type": "code",
   "execution_count": 294,
   "metadata": {},
   "outputs": [],
   "source": [
    "import geopandas as gpd\n",
    "import pandas as pd\n",
    "\n",
    "aggregated_results = pd.DataFrame()\n",
    "\n",
    "for selected_buffer_index in range(len(buffered_camera_df_2km)):\n",
    "    selected_buffer = buffered_camera_df_2km.iloc[selected_buffer_index:selected_buffer_index + 1]\n",
    "    # Calculate the intersection\n",
    "    clipped_shp = gpd.overlay(slope, selected_buffer, how='intersection')\n",
    "\n",
    "    if 'id' in clipped_shp.columns and 'CL_PENT' in clipped_shp.columns and 'SUPERFICIE' in clipped_shp.columns:\n",
    "        grouped_data = clipped_shp.groupby(['id', 'CL_PENT'])['SUPERFICIE'].sum().reset_index()\n",
    "        \n",
    "        # Append the grouped data to the aggregated_results DataFrame\n",
    "        aggregated_results = pd.concat([aggregated_results, grouped_data], ignore_index=True)\n",
    "        \n",
    "# Export the grouped data to a CSV file\n",
    "aggregated_results.to_csv(r\"C:\\Users\\thier\\Downloads\\Projet\\Projet\\slope_buffers_2km.csv\", index=False)"
   ]
  },
  {
   "cell_type": "markdown",
   "metadata": {},
   "source": [
    "## Landcover type"
   ]
  },
  {
   "cell_type": "code",
   "execution_count": 302,
   "metadata": {},
   "outputs": [],
   "source": [
    "import pandas as pd"
   ]
  },
  {
   "cell_type": "code",
   "execution_count": 296,
   "metadata": {},
   "outputs": [
    {
     "name": "stdout",
     "output_type": "stream",
     "text": [
      "CRS of roads: EPSG:26918\n",
      "CRS of buffered_camera_df_500m: EPSG:26918\n"
     ]
    }
   ],
   "source": [
    "print(\"CRS of roads:\", landcover.crs)\n",
    "print(\"CRS of buffered_camera_df_500m:\", buffered_camera_df_1km.crs)"
   ]
  },
  {
   "cell_type": "code",
   "execution_count": null,
   "metadata": {},
   "outputs": [],
   "source": [
    "pd.set_option('display.max_columns', None)\n",
    "landcover.head(20)"
   ]
  },
  {
   "cell_type": "code",
   "execution_count": 323,
   "metadata": {},
   "outputs": [],
   "source": [
    "landcover.to_csv(r\"C:\\Users\\thier\\Downloads\\Projet\\Projet\\landcover.csv\", index=False)"
   ]
  },
  {
   "cell_type": "code",
   "execution_count": null,
   "metadata": {},
   "outputs": [],
   "source": [
    "#Clip the rivers with the buffers\n",
    "clip_rivers_500m = gpd.clip(roads, buffered_camera_df_1km)\n",
    "clip_rivers_500m"
   ]
  },
  {
   "cell_type": "markdown",
   "metadata": {},
   "source": [
    "### Landcover buffers 500m"
   ]
  },
  {
   "cell_type": "code",
   "execution_count": null,
   "metadata": {},
   "outputs": [],
   "source": [
    "import geopandas as gpd\n",
    "import pandas as pd\n",
    "\n",
    "aggregated_results = pd.DataFrame()\n",
    "\n",
    "for selected_buffer_index in range(len(buffered_camera_df_500m)):\n",
    "    selected_buffer = buffered_camera_df_500m.iloc[selected_buffer_index:selected_buffer_index + 1]\n",
    "    # Calculate the intersection\n",
    "    clipped_shp = gpd.overlay(landcover, selected_buffer, how='intersection')\n",
    "\n",
    "    if 'id' in clipped_shp.columns and 'CL_PENT' in clipped_shp.columns and 'SUPERFICIE' in clipped_shp.columns:\n",
    "        grouped_data = clipped_shp.groupby(['id', 'TYPE_ECO'])['SUPERFICIE'].sum().reset_index()\n",
    "        \n",
    "        # Append the grouped data to the aggregated_results DataFrame\n",
    "        aggregated_results = pd.concat([aggregated_results, grouped_data], ignore_index=True)\n",
    "        \n",
    "# Export the grouped data to a CSV file\n",
    "aggregated_results.to_csv(r\"C:\\Users\\thier\\Downloads\\Projet\\Projet\\landcover_buffers_500m.csv\", index=False)\n",
    "aggregated_results\n"
   ]
  },
  {
   "cell_type": "markdown",
   "metadata": {},
   "source": [
    "### Landcover buffers 1km"
   ]
  },
  {
   "cell_type": "code",
   "execution_count": null,
   "metadata": {},
   "outputs": [],
   "source": [
    "import geopandas as gpd\n",
    "import pandas as pd\n",
    "\n",
    "aggregated_results = pd.DataFrame()\n",
    "\n",
    "for selected_buffer_index in range(len(buffered_camera_df_1km)):\n",
    "    selected_buffer = buffered_camera_df_1km.iloc[selected_buffer_index:selected_buffer_index + 1]\n",
    "    # Calculate the intersection\n",
    "    clipped_shp = gpd.overlay(landcover, selected_buffer, how='intersection')\n",
    "\n",
    "    if 'id' in clipped_shp.columns and 'CL_PENT' in clipped_shp.columns and 'SUPERFICIE' in clipped_shp.columns:\n",
    "        grouped_data = clipped_shp.groupby(['id', 'TYPE_ECO'])['SUPERFICIE'].sum().reset_index()\n",
    "        \n",
    "        # Append the grouped data to the aggregated_results DataFrame\n",
    "        aggregated_results = pd.concat([aggregated_results, grouped_data], ignore_index=True)\n",
    "        \n",
    "# Export the grouped data to a CSV file\n",
    "aggregated_results.to_csv(r\"C:\\Users\\thier\\Downloads\\Projet\\Projet\\landcover_buffers_1km.csv\", index=False)\n",
    "aggregated_results"
   ]
  },
  {
   "cell_type": "markdown",
   "metadata": {},
   "source": [
    "### Landcover buffers 2km"
   ]
  },
  {
   "cell_type": "code",
   "execution_count": null,
   "metadata": {},
   "outputs": [],
   "source": [
    "import geopandas as gpd\n",
    "import pandas as pd\n",
    "\n",
    "aggregated_results = pd.DataFrame()\n",
    "\n",
    "for selected_buffer_index in range(len(buffered_camera_df_2km)):\n",
    "    selected_buffer = buffered_camera_df_2km.iloc[selected_buffer_index:selected_buffer_index + 1]\n",
    "    # Calculate the intersection\n",
    "    clipped_shp = gpd.overlay(landcover, selected_buffer, how='intersection')\n",
    "\n",
    "    if 'id' in clipped_shp.columns and 'CL_PENT' in clipped_shp.columns and 'SUPERFICIE' in clipped_shp.columns:\n",
    "        grouped_data = clipped_shp.groupby(['id', 'TYPE_ECO'])['SUPERFICIE'].sum().reset_index()\n",
    "        \n",
    "        # Append the grouped data to the aggregated_results DataFrame\n",
    "        aggregated_results = pd.concat([aggregated_results, grouped_data], ignore_index=True)\n",
    "        \n",
    "# Export the grouped data to a CSV file\n",
    "aggregated_results.to_csv(r\"C:\\Users\\thier\\Downloads\\Projet\\Projet\\landcover_buffers_2km.csv\", index=False)\n",
    "aggregated_results"
   ]
  },
  {
   "cell_type": "markdown",
   "metadata": {},
   "source": [
    "## Utilisation du sol"
   ]
  },
  {
   "cell_type": "markdown",
   "metadata": {},
   "source": [
    "### Check projection first\n"
   ]
  },
  {
   "cell_type": "code",
   "execution_count": 7,
   "metadata": {},
   "outputs": [
    {
     "name": "stdout",
     "output_type": "stream",
     "text": [
      "CRS of roads: EPSG:26918\n",
      "CRS of buffered_camera_df_500m: EPSG:26918\n"
     ]
    }
   ],
   "source": [
    "print(\"CRS of roads:\", sol.crs)\n",
    "print(\"CRS of buffered_camera_df_500m:\", buffered_camera_df_1km.crs)"
   ]
  },
  {
   "cell_type": "markdown",
   "metadata": {},
   "source": [
    "### Sol buffers 500m"
   ]
  },
  {
   "cell_type": "code",
   "execution_count": null,
   "metadata": {},
   "outputs": [],
   "source": [
    "import geopandas as gpd\n",
    "import pandas as pd\n",
    "\n",
    "aggregated_results = pd.DataFrame()\n",
    "\n",
    "for selected_buffer_index in range(len(buffered_camera_df_500m)):\n",
    "    selected_buffer = buffered_camera_df_500m.iloc[selected_buffer_index:selected_buffer_index + 1]\n",
    "    clipped_shp = gpd.overlay(sol, selected_buffer, how='intersection')\n",
    "\n",
    "    if 'id' in clipped_shp.columns and 'DESC_CAT' in clipped_shp.columns and 'Shape_Area' in clipped_shp.columns:\n",
    "        grouped_data = clipped_shp.groupby(['id', 'DESC_CAT'])['Shape_Area'].sum().reset_index()\n",
    "        grouped_data = grouped_data.rename(columns={'Shape_Area': 'Superficie_m2', 'DESC_CAT': 'Type sol'})\n",
    "        aggregated_results = pd.concat([aggregated_results, grouped_data], ignore_index=True)\n",
    "        \n",
    "# Export the file\n",
    "aggregated_results.to_csv(r\"C:\\Users\\thier\\Downloads\\Projet\\Projet\\sol_buffers_500m.csv\", index=False)\n",
    "aggregated_results"
   ]
  },
  {
   "cell_type": "markdown",
   "metadata": {},
   "source": [
    "### Sol buffer 1km"
   ]
  },
  {
   "cell_type": "code",
   "execution_count": null,
   "metadata": {},
   "outputs": [],
   "source": [
    "import geopandas as gpd\n",
    "import pandas as pd\n",
    "\n",
    "aggregated_results = pd.DataFrame()\n",
    "\n",
    "for selected_buffer_index in range(len(buffered_camera_df_1km)):\n",
    "    selected_buffer = buffered_camera_df_1km.iloc[selected_buffer_index:selected_buffer_index + 1]\n",
    "    clipped_shp = gpd.overlay(sol, selected_buffer, how='intersection')\n",
    "\n",
    "    if 'id' in clipped_shp.columns and 'DESC_CAT' in clipped_shp.columns and 'Shape_Area' in clipped_shp.columns:\n",
    "        grouped_data = clipped_shp.groupby(['id', 'DESC_CAT'])['Shape_Area'].sum().reset_index()\n",
    "        grouped_data = grouped_data.rename(columns={'Shape_Area': 'Superficie_m2', 'DESC_CAT': 'Type sol'})\n",
    "        aggregated_results = pd.concat([aggregated_results, grouped_data], ignore_index=True)\n",
    "        \n",
    "# Export the file\n",
    "aggregated_results.to_csv(r\"C:\\Users\\thier\\Downloads\\Projet\\Projet\\sol_buffers_1km.csv\", index=False)\n",
    "aggregated_results"
   ]
  },
  {
   "cell_type": "markdown",
   "metadata": {},
   "source": [
    "### Sol buffer 2km"
   ]
  },
  {
   "cell_type": "code",
   "execution_count": null,
   "metadata": {},
   "outputs": [],
   "source": [
    "import geopandas as gpd\n",
    "import pandas as pd\n",
    "\n",
    "aggregated_results = pd.DataFrame()\n",
    "\n",
    "for selected_buffer_index in range(len(buffered_camera_df_2km)):\n",
    "    selected_buffer = buffered_camera_df_2km.iloc[selected_buffer_index:selected_buffer_index + 1]\n",
    "    clipped_shp = gpd.overlay(sol, selected_buffer, how='intersection')\n",
    "\n",
    "    if 'id' in clipped_shp.columns and 'DESC_CAT' in clipped_shp.columns and 'Shape_Area' in clipped_shp.columns:\n",
    "        grouped_data = clipped_shp.groupby(['id', 'DESC_CAT'])['Shape_Area'].sum().reset_index()\n",
    "        grouped_data = grouped_data.rename(columns={'Shape_Area': 'Superficie_m2', 'DESC_CAT': 'Type sol'})\n",
    "        aggregated_results = pd.concat([aggregated_results, grouped_data], ignore_index=True)\n",
    "        \n",
    "# Export the file\n",
    "aggregated_results.to_csv(r\"C:\\Users\\thier\\Downloads\\Projet\\Projet\\sol_buffers_2km.csv\", index=False)\n",
    "aggregated_results"
   ]
  },
  {
   "cell_type": "markdown",
   "metadata": {},
   "source": []
  }
 ],
 "metadata": {
  "kernelspec": {
   "display_name": "Python 3",
   "language": "python",
   "name": "python3"
  },
  "language_info": {
   "codemirror_mode": {
    "name": "ipython",
    "version": 3
   },
   "file_extension": ".py",
   "mimetype": "text/x-python",
   "name": "python",
   "nbconvert_exporter": "python",
   "pygments_lexer": "ipython3",
   "version": "3.12.1"
  }
 },
 "nbformat": 4,
 "nbformat_minor": 2
}
