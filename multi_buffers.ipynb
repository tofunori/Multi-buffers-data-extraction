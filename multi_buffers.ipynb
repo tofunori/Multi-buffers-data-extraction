{
 "cells": [
  {
   "cell_type": "markdown",
   "metadata": {},
   "source": [
    "# Project PICOM"
   ]
  },
  {
   "cell_type": "markdown",
   "metadata": {},
   "source": [
    "## Import the libraries and files"
   ]
  },
  {
   "cell_type": "code",
   "execution_count": null,
   "metadata": {},
   "outputs": [],
   "source": [
    "import geopandas as gpd\n",
    "import pandas as pd \n",
    "import matplotlib.pyplot as plt"
   ]
  },
  {
   "cell_type": "code",
   "execution_count": null,
   "metadata": {},
   "outputs": [],
   "source": [
    "#Import the files\n",
    "camera_df = gpd.read_file(r\"C:\\Users\\thier\\Downloads\\Projet\\Projet\\Cameras.shp\")\n",
    "rivieres = gpd.read_file(r\"C:\\Users\\thier\\Downloads\\Projet\\Projet\\Rivieres.shp\")\n",
    "roads = gpd.read_file(r\"C:\\Users\\thier\\Downloads\\Projet\\Projet\\Reseau_Routier.shp\")\n",
    "railroad = gpd.read_file(r\"C:\\Users\\thier\\Downloads\\Projet\\Projet\\Reseau_Ferroviaire.shp\")\n",
    "slope = gpd.read_file(r\"C:\\Users\\thier\\Downloads\\Projet\\Projet\\Pente.shp\")\n",
    "landcover = gpd.read_file(r\"C:\\Users\\thier\\Downloads\\Projet\\Projet\\Type_Couverture.shp\")\n",
    "sol = gpd.read_file(r\"C:\\Users\\thier\\Downloads\\Projet\\Projet\\utilisation_territoire2.shp\")\n"
   ]
  },
  {
   "cell_type": "code",
   "execution_count": null,
   "metadata": {},
   "outputs": [],
   "source": [
    "#export the camera dataframe\n",
    "camera_df.to_file(r\"C:\\Users\\thier\\Downloads\\Projet\\Projet\\points.shp\", )\n",
    "camera_df"
   ]
  },
  {
   "cell_type": "code",
   "execution_count": null,
   "metadata": {},
   "outputs": [],
   "source": [
    "roads.plot()    "
   ]
  },
  {
   "cell_type": "code",
   "execution_count": null,
   "metadata": {},
   "outputs": [],
   "source": [
    "camera_df"
   ]
  },
  {
   "cell_type": "code",
   "execution_count": null,
   "metadata": {},
   "outputs": [],
   "source": [
    "camera_df = camera_df.set_index(\"Site\")"
   ]
  },
  {
   "cell_type": "code",
   "execution_count": null,
   "metadata": {},
   "outputs": [],
   "source": [
    "camera_df.plot()"
   ]
  },
  {
   "cell_type": "code",
   "execution_count": null,
   "metadata": {},
   "outputs": [],
   "source": [
    "#Make sure the projection is the right one\n",
    "camera_df = camera_df.to_crs('EPSG:26918')"
   ]
  },
  {
   "cell_type": "markdown",
   "metadata": {},
   "source": [
    "### Create buffers of 500m, 1km and 2km"
   ]
  },
  {
   "cell_type": "code",
   "execution_count": null,
   "metadata": {},
   "outputs": [],
   "source": [
    "#Create buffers for each cameras\n",
    "buffered_geometries_500m = camera_df.geometry.apply(lambda geom: geom.buffer(500))\n",
    "buffered_geometries_1km = camera_df.geometry.apply(lambda geom: geom.buffer(1000))\n",
    "buffered_geometries_2km = camera_df.geometry.apply(lambda geom: geom.buffer(2000))\n",
    "\n",
    "# Create GeoDataFrames for each buffer\n",
    "buffered_camera_df_500m = gpd.GeoDataFrame(geometry=buffered_geometries_500m, crs=camera_df.crs)\n",
    "buffered_camera_df_1km = gpd.GeoDataFrame(geometry=buffered_geometries_1km, crs=camera_df.crs)\n",
    "buffered_camera_df_2km = gpd.GeoDataFrame(geometry=buffered_geometries_2km, crs=camera_df.crs)\n"
   ]
  },
  {
   "cell_type": "code",
   "execution_count": null,
   "metadata": {},
   "outputs": [],
   "source": [
    "#Export the buffers shp\n",
    "buffered_camera_df_500m.to_file(r\"C:\\Users\\thier\\Downloads\\Projet\\Projet\\buffers_500m.shp\")\n",
    "buffered_camera_df_1km.to_file(r\"C:\\Users\\thier\\Downloads\\Projet\\Projet\\buffers_1km.shp\")\n",
    "buffered_camera_df_2km.to_file(r\"C:\\Users\\thier\\Downloads\\Projet\\Projet\\buffers_2km.shp\")"
   ]
  },
  {
   "cell_type": "code",
   "execution_count": null,
   "metadata": {},
   "outputs": [],
   "source": [
    "buffered_camera_df_500m = buffered_camera_df_500m.reset_index().rename(columns={'index': 'camera'}) \n",
    "buffered_camera_df_1km = buffered_camera_df_1km.reset_index().rename(columns={'index': 'camera'})\n",
    "buffered_camera_df_2km = buffered_camera_df_2km.reset_index().rename(columns={'index': 'camera'})\n"
   ]
  },
  {
   "cell_type": "code",
   "execution_count": null,
   "metadata": {},
   "outputs": [],
   "source": [
    "buffered_camera_df_1km"
   ]
  },
  {
   "cell_type": "code",
   "execution_count": null,
   "metadata": {},
   "outputs": [],
   "source": [
    "# Create a new column 'id' with index values for 500m, 1km and 2km buffers\n",
    "buffered_camera_df_500m['id'] = buffered_camera_df_500m.index\n",
    "buffered_camera_df_500m\n",
    "buffered_camera_df_1km['id'] = buffered_camera_df_1km.index\n",
    "buffered_camera_df_1km\n",
    "buffered_camera_df_2km['id'] = buffered_camera_df_2km.index\n",
    "buffered_camera_df_2km"
   ]
  },
  {
   "cell_type": "code",
   "execution_count": null,
   "metadata": {},
   "outputs": [],
   "source": []
  },
  {
   "cell_type": "markdown",
   "metadata": {},
   "source": [
    "## Rivers"
   ]
  },
  {
   "cell_type": "markdown",
   "metadata": {},
   "source": [
    "### Set the rivers shp projection"
   ]
  },
  {
   "cell_type": "code",
   "execution_count": null,
   "metadata": {},
   "outputs": [],
   "source": [
    "print(\"CRS of rivieres:\", rivieres.crs)\n",
    "print(\"CRS of buffered_camera_df_500m:\", buffered_camera_df_500m.crs)"
   ]
  },
  {
   "cell_type": "code",
   "execution_count": null,
   "metadata": {},
   "outputs": [],
   "source": [
    "if rivieres.crs is None:\n",
    "    rivieres.crs = 'EPSG:26918'\n",
    "rivieres = rivieres.to_crs(buffered_camera_df_500m.crs)"
   ]
  },
  {
   "cell_type": "markdown",
   "metadata": {},
   "source": [
    "### Rivers buffers 500m"
   ]
  },
  {
   "cell_type": "code",
   "execution_count": null,
   "metadata": {},
   "outputs": [],
   "source": [
    "import geopandas as gpd\n",
    "import pandas as pd\n",
    "\n",
    "# Replace rivieres_1km with rivieres_500m, and buffered_camera_df_1km with buffered_camera_df_500m\n",
    "rivieres_500m = rivieres.overlay(buffered_camera_df_500m, how='intersection')\n",
    "rivieres_500m['length'] = rivieres_500m.geometry.length\n",
    "\n",
    "# Ensure that 'Site' and other necessary columns are included\n",
    "rivieres_500m_clean = rivieres_500m[['Site', 'length', 'geometry']]\n",
    "rivieres_500m_sum = rivieres_500m_clean.dissolve(by='Site', aggfunc='sum')\n",
    "\n",
    "# Update the file paths in the to_file and to_csv methods\n",
    "rivieres_500m_sum.to_file(r\"C:\\Users\\thier\\Downloads\\Projet\\rivieres_buffers_500m.shp\")\n",
    "rivieres_500m_sum.to_csv(r\"C:\\Users\\thier\\Downloads\\Projet\\rivieres_buffers_500m.csv\")\n",
    "\n",
    "# Print the result and plot it\n",
    "print(rivieres_500m_sum)\n",
    "rivieres_500m_sum.plot()\n"
   ]
  },
  {
   "cell_type": "markdown",
   "metadata": {},
   "source": [
    "### Rivers buffers 1km   "
   ]
  },
  {
   "cell_type": "code",
   "execution_count": null,
   "metadata": {},
   "outputs": [],
   "source": [
    "import geopandas as gpd\n",
    "import pandas as pd\n",
    "\n",
    "# Replace rivieres_2km with rivieres_1km, and buffered_camera_df_2km with buffered_camera_df_1km\n",
    "rivieres_1km = rivieres.overlay(buffered_camera_df_1km, how='intersection')\n",
    "rivieres_1km['length'] = rivieres_1km.geometry.length\n",
    "\n",
    "# Ensure that 'Site' and other necessary columns are included\n",
    "rivieres_1km_clean = rivieres_1km[['Site', 'length', 'geometry']]\n",
    "rivieres_1km_sum = rivieres_1km_clean.dissolve(by='Site', aggfunc='sum')\n",
    "\n",
    "# Update the file paths in the to_file and to_csv methods\n",
    "rivieres_1km_sum.to_file(r\"C:\\Users\\thier\\Downloads\\Projet\\rivieres_buffers_1km.shp\")\n",
    "rivieres_1km_sum.to_csv(r\"C:\\Users\\thier\\Downloads\\Projet\\rivieres_buffers_1km.csv\")\n",
    "\n",
    "# Print the result and plot it\n",
    "print(rivieres_1km_sum)\n",
    "rivieres_1km_sum.plot()\n"
   ]
  },
  {
   "cell_type": "markdown",
   "metadata": {},
   "source": [
    "### Rivers buffers 2km"
   ]
  },
  {
   "cell_type": "code",
   "execution_count": null,
   "metadata": {},
   "outputs": [],
   "source": [
    "import geopandas as gpd\n",
    "import pandas as pd\n",
    "\n",
    "# Replace roads_2km with rivieres_2km, and ensure buffered_camera_df_2km is correct\n",
    "rivieres_2km = rivieres.overlay(buffered_camera_df_2km, how='intersection')\n",
    "rivieres_2km['length'] = rivieres_2km.geometry.length\n",
    "\n",
    "# Ensure that 'Site' and other necessary columns are included\n",
    "rivieres_2km_clean = rivieres_2km[['Site', 'length', 'geometry']]\n",
    "rivieres_2km_sum = rivieres_2km_clean.dissolve(by='Site', aggfunc='sum')\n",
    "\n",
    "# Update the file paths in the to_file and to_csv methods\n",
    "rivieres_2km_sum.to_file(r\"C:\\Users\\thier\\Downloads\\Projet\\rivieres_buffers_2km.shp\")\n",
    "rivieres_2km_sum.to_csv(r\"C:\\Users\\thier\\Downloads\\Projet\\rivieres_buffers_2km.csv\")\n",
    "\n",
    "# Print the result and plot it\n",
    "print(rivieres_2km_sum)\n",
    "rivieres_2km_sum.plot()\n"
   ]
  },
  {
   "cell_type": "markdown",
   "metadata": {},
   "source": [
    "### ALL 3 buffers at the same time with a for loop"
   ]
  },
  {
   "cell_type": "code",
   "execution_count": null,
   "metadata": {},
   "outputs": [],
   "source": [
    "import openpyxl"
   ]
  },
  {
   "cell_type": "code",
   "execution_count": null,
   "metadata": {},
   "outputs": [],
   "source": [
    "import geopandas as gpd\n",
    "import pandas as pd\n",
    "\n",
    "def process_buffers(buffer_df, buffer_name, rivers_gdf, output_csv_path):\n",
    "    results_df = pd.DataFrame(columns=[\"Buffer Index\", \"Clipped Length\"])\n",
    "    clipped_results_gdf = gpd.GeoDataFrame()\n",
    "\n",
    "    for selected_buffer_index in range(len(buffer_df)):\n",
    "        selected_buffer = buffer_df.iloc[selected_buffer_index:selected_buffer_index + 1]\n",
    "        clipped_shp = gpd.overlay(rivers_gdf, selected_buffer, how='intersection')\n",
    "        clipped_length = clipped_shp.length.sum()\n",
    "        print(f\"{buffer_name} - Buffer Index {selected_buffer_index}: Clipped Length = {clipped_length}\")\n",
    "\n",
    "        results_df = pd.concat([results_df, pd.DataFrame({\"Buffer Index\": [selected_buffer_index], \"Clipped Length\": [clipped_length]})], ignore_index=True)\n",
    "        clipped_results_gdf = gpd.GeoDataFrame(pd.concat([clipped_results_gdf, clipped_shp]), crs=rivers_gdf.crs)\n",
    "\n",
    "    results_df.to_csv(output_csv_path, index=False)\n",
    "\n",
    "process_buffers(buffered_camera_df_500m, \"Rivers buffers 500m\", rivieres, r\"C:\\Users\\thier\\Downloads\\Projet\\Projet\\rivers_buffers_500m_test2.csv\")\n",
    "process_buffers(buffered_camera_df_1km, \"Rivers buffers 1km\", rivieres, r\"C:\\Users\\thier\\Downloads\\Projet\\Projet\\rivers_buffers_1km_test2.csv\")\n",
    "process_buffers(buffered_camera_df_2km, \"Rivers buffers 2km\", rivieres, r\"C:\\Users\\thier\\Downloads\\Projet\\\\Projet\\rivers_buffers_2km_test2.csv\")"
   ]
  },
  {
   "cell_type": "markdown",
   "metadata": {},
   "source": [
    "## Roads"
   ]
  },
  {
   "cell_type": "code",
   "execution_count": null,
   "metadata": {},
   "outputs": [],
   "source": [
    "print(\"CRS of roads:\", roads.crs)\n",
    "print(\"CRS of buffered_camera_df_500m:\", buffered_camera_df_1km.crs)"
   ]
  },
  {
   "cell_type": "code",
   "execution_count": null,
   "metadata": {},
   "outputs": [],
   "source": [
    "if roads.crs is None:\n",
    "    roads.crs = 'EPSG:26918'\n",
    "roads = roads.to_crs(buffered_camera_df_1km.crs)"
   ]
  },
  {
   "cell_type": "markdown",
   "metadata": {},
   "source": [
    "### Roads buffers 500m"
   ]
  },
  {
   "cell_type": "code",
   "execution_count": null,
   "metadata": {},
   "outputs": [],
   "source": [
    "import geopandas as gpd\n",
    "import pandas as pd\n",
    "\n",
    "# Replace railroad_500m with roads_500m, and ensure buffered_camera_df_500m is correct\n",
    "roads_500m = roads.overlay(buffered_camera_df_500m, how='intersection')\n",
    "roads_500m['length'] = roads_500m.geometry.length\n",
    "\n",
    "# Ensure that 'Site' and other necessary columns are included\n",
    "roads_500m_clean = roads_500m[['Site', 'length', 'geometry']]\n",
    "roads_500m_sum = roads_500m_clean.dissolve(by='Site', aggfunc='sum')\n",
    "\n",
    "# Update the file paths in the to_file and to_csv methods\n",
    "roads_500m_sum.to_file(r\"C:\\Users\\thier\\Downloads\\Projet\\roads_buffers_500m.shp\")\n",
    "roads_500m_sum.to_csv(r\"C:\\Users\\thier\\Downloads\\Projet\\roads_buffers_500m.csv\")\n",
    "\n",
    "# Print the result and plot it\n",
    "print(roads_500m_sum)\n",
    "roads_500m_sum.plot()\n"
   ]
  },
  {
   "cell_type": "markdown",
   "metadata": {},
   "source": [
    "### Roads buffers 1km"
   ]
  },
  {
   "cell_type": "code",
   "execution_count": null,
   "metadata": {},
   "outputs": [],
   "source": [
    "import geopandas as gpd\n",
    "import pandas as pd\n",
    "\n",
    "# Replace roads_500m with roads_1km, and buffered_camera_df_500m with buffered_camera_df_1km\n",
    "roads_1km = roads.overlay(buffered_camera_df_1km, how='intersection')\n",
    "roads_1km['length'] = roads_1km.geometry.length\n",
    "\n",
    "# Ensure that 'Site' and other necessary columns are included\n",
    "roads_1km_clean = roads_1km[['Site', 'length', 'geometry']]\n",
    "roads_1km_sum = roads_1km_clean.dissolve(by='Site', aggfunc='sum')\n",
    "\n",
    "# Update the file paths in the to_file and to_csv methods\n",
    "roads_1km_sum.to_file(r\"C:\\Users\\thier\\Downloads\\Projet\\roads_buffers_1km.shp\")\n",
    "roads_1km_sum.to_csv(r\"C:\\Users\\thier\\Downloads\\Projet\\roads_buffers_1km.csv\")\n",
    "\n",
    "# Print the result and plot it\n",
    "print(roads_1km_sum)\n",
    "roads_1km_sum.plot()\n"
   ]
  },
  {
   "cell_type": "markdown",
   "metadata": {},
   "source": [
    "### Roads buffers 2km"
   ]
  },
  {
   "cell_type": "code",
   "execution_count": null,
   "metadata": {},
   "outputs": [],
   "source": [
    "import geopandas as gpd\n",
    "import pandas as pd\n",
    "\n",
    "# Replace roads_1km with roads_2km, and buffered_camera_df_1km with buffered_camera_df_2km\n",
    "roads_2km = roads.overlay(buffered_camera_df_2km, how='intersection')\n",
    "roads_2km['length'] = roads_2km.geometry.length\n",
    "\n",
    "# Ensure that 'Site' and other necessary columns are included\n",
    "roads_2km_clean = roads_2km[['Site', 'length', 'geometry']]\n",
    "roads_2km_sum = roads_2km_clean.dissolve(by='Site', aggfunc='sum')\n",
    "\n",
    "# Update the file paths in the to_file and to_csv methods\n",
    "roads_2km_sum.to_file(r\"C:\\Users\\thier\\Downloads\\Projet\\roads_buffers_2km.shp\")\n",
    "roads_2km_sum.to_csv(r\"C:\\Users\\thier\\Downloads\\Projet\\roads_buffers_2km.csv\")\n",
    "\n",
    "# Print the result and plot it\n",
    "print(roads_2km_sum)\n",
    "roads_2km_sum.plot()\n"
   ]
  },
  {
   "cell_type": "markdown",
   "metadata": {},
   "source": [
    "## Railroads"
   ]
  },
  {
   "cell_type": "code",
   "execution_count": null,
   "metadata": {},
   "outputs": [],
   "source": [
    "print(\"CRS of roads:\", railroad.crs)\n",
    "print(\"CRS of buffered_camera_df_500m:\", buffered_camera_df_1km.crs)"
   ]
  },
  {
   "cell_type": "code",
   "execution_count": null,
   "metadata": {},
   "outputs": [],
   "source": [
    "if railroad.crs is None:\n",
    "    railroad.crs = 'EPSG:26918'\n",
    "railroad = railroad.to_crs(buffered_camera_df_1km.crs)"
   ]
  },
  {
   "cell_type": "markdown",
   "metadata": {},
   "source": [
    "### Railroad buffer 500m"
   ]
  },
  {
   "cell_type": "code",
   "execution_count": null,
   "metadata": {},
   "outputs": [],
   "source": [
    "import geopandas as gpd\n",
    "import pandas as pd\n",
    "\n",
    "# Replace railroad_1km with railroad_500m, and buffered_camera_df_1km with buffered_camera_df_500m\n",
    "railroad_500m = railroad.overlay(buffered_camera_df_500m, how='intersection')\n",
    "railroad_500m['length'] = railroad_500m.geometry.length\n",
    "\n",
    "# Ensure that 'Site' and other necessary columns are included\n",
    "railroad_500m_clean = railroad_500m[['Site', 'length', 'geometry']]\n",
    "railroad_500m_sum = railroad_500m_clean.dissolve(by='Site', aggfunc='sum')\n",
    "\n",
    "# Update the file paths in the to_file and to_csv methods\n",
    "railroad_500m_sum.to_file(r\"C:\\Users\\thier\\Downloads\\Projet\\railroad_buffers_500m.shp\")\n",
    "railroad_500m_sum.to_csv(r\"C:\\Users\\thier\\Downloads\\Projet\\railroad_buffers_500m.csv\")\n",
    "\n",
    "# Print the result and plot it\n",
    "print(railroad_500m_sum)\n",
    "railroad_500m_sum.plot()\n",
    "\n"
   ]
  },
  {
   "cell_type": "markdown",
   "metadata": {},
   "source": [
    "### Railroad buffers 1km"
   ]
  },
  {
   "cell_type": "code",
   "execution_count": null,
   "metadata": {},
   "outputs": [],
   "source": [
    "import geopandas as gpd\n",
    "import pandas as pd\n",
    "\n",
    "# Replace railroad_2km with railroad_1km, and buffered_camera_df_2km with buffered_camera_df_1km\n",
    "railroad_1km = railroad.overlay(buffered_camera_df_1km, how='intersection')\n",
    "railroad_1km['length'] = railroad_1km.geometry.length\n",
    "\n",
    "# Ensure that 'Site' and other necessary columns are included\n",
    "railroad_1km_clean = railroad_1km[['Site', 'length', 'geometry']]\n",
    "railroad_1km_sum = railroad_1km_clean.dissolve(by='Site', aggfunc='sum')\n",
    "\n",
    "# Update the file paths in the to_file and to_csv methods\n",
    "railroad_1km_sum.to_file(r\"C:\\Users\\thier\\Downloads\\Projet\\railroad_buffers_1km.shp\")\n",
    "railroad_1km_sum.to_csv(r\"C:\\Users\\thier\\Downloads\\Projet\\railroad_buffers_1km.csv\")\n",
    "\n",
    "# Print the result and plot it\n",
    "print(railroad_1km_sum)\n",
    "railroad_1km_sum.plot()\n"
   ]
  },
  {
   "cell_type": "markdown",
   "metadata": {},
   "source": [
    "### Railroad buffers 2km"
   ]
  },
  {
   "cell_type": "code",
   "execution_count": null,
   "metadata": {},
   "outputs": [],
   "source": [
    "import geopandas as gpd\n",
    "import pandas as pd\n",
    "\n",
    "# Replace railroad_1km with railroad_2km, and buffered_camera_df_1km with buffered_camera_df_2km\n",
    "railroad_2km = railroad.overlay(buffered_camera_df_2km, how='intersection')\n",
    "railroad_2km['length'] = railroad_2km.geometry.length\n",
    "\n",
    "# Ensure that 'Site' and other necessary columns are included\n",
    "railroad_2km_clean = railroad_2km[['Site', 'length', 'geometry']]\n",
    "railroad_2km_sum = railroad_2km_clean.dissolve(by='Site', aggfunc='sum')\n",
    "\n",
    "\n",
    "# Update the file paths in the to_file and to_csv methods\n",
    "railroad_2km_sum.to_file(r\"C:\\Users\\thier\\Downloads\\Projet\\railroad_buffers_2km_2.shp\")\n",
    "railroad_2km_sum.to_csv(r\"C:\\Users\\thier\\Downloads\\Projet\\railroad_buffers_2km.csv\")\n",
    "\n",
    "# Print the result and plot it\n",
    "print(railroad_2km_sum)\n",
    "railroad_2km_sum.plot()\n"
   ]
  },
  {
   "cell_type": "code",
   "execution_count": null,
   "metadata": {},
   "outputs": [],
   "source": [
    "railroad_2km_clean = railroad_2km[['Site', 'length', 'geometry']]"
   ]
  },
  {
   "cell_type": "code",
   "execution_count": null,
   "metadata": {},
   "outputs": [],
   "source": [
    "railroad_2km_clean"
   ]
  },
  {
   "cell_type": "code",
   "execution_count": null,
   "metadata": {},
   "outputs": [],
   "source": [
    "railroad_2km"
   ]
  },
  {
   "cell_type": "code",
   "execution_count": null,
   "metadata": {},
   "outputs": [],
   "source": [
    "import geopandas as gpd\n",
    "import pandas as pd\n",
    "\n",
    "# Join the railroad data with the individual buffers\n",
    "railroad_buffers_join_2km = gpd.sjoin(railroad, buffered_camera_df_2km, how='inner', predicate='intersects')\n",
    "\n",
    "# Calculate the length of each railroad segment\n",
    "railroad_buffers_join_2km['length'] = railroad_buffers_join_2km.geometry.length\n",
    "\n",
    "# Create an empty GeoDataFrame for the results\n",
    "results = gpd.GeoDataFrame(columns=railroad_buffers_join_2km.columns)\n",
    "\n",
    "# Iterate over each buffer and process individually\n",
    "for buffer_id, buffer_geom in buffered_camera_df_2km.iterrows():\n",
    "    # Clip the railroad data to the current buffer\n",
    "    clipped_railroad = railroad_buffers_join_2km[railroad_buffers_join_2km.intersects(buffer_geom.geometry)]\n",
    "\n",
    "    # Ensure clipped_railroad is a GeoDataFrame\n",
    "    if not isinstance(clipped_railroad, gpd.GeoDataFrame):\n",
    "        clipped_railroad = gpd.GeoDataFrame(clipped_railroad)\n",
    "\n",
    "    # Add the clipped data to the results GeoDataFrame\n",
    "    results = pd.concat([results, clipped_railroad])\n",
    "\n",
    "# Drop duplicates to handle overlaps\n",
    "# Replace 'railroad_id' and 'buffer_id' with actual column names\n",
    "#results = results.drop_duplicates(subset=['railroad_id', 'buffer_id'])\n",
    "\n",
    "# Group by 'Site' and sum lengths\n",
    "railroad_2km_grouped = results.dissolve('Site', aggfunc='sum')\n",
    "\n",
    "# Export in shp or CSV\n",
    "output_folder = r\"C:\\Users\\thier\\Downloads\\Projet\"\n",
    "railroad_2km_grouped.to_file(f\"{output_folder}\\\\railroad_buffers_2km.shp\")\n",
    "railroad_2km_grouped.to_csv(f\"{output_folder}\\\\railroad_buffers_2km.csv\")\n",
    "\n",
    "# Print the result\n",
    "print(railroad_2km_grouped)\n"
   ]
  },
  {
   "cell_type": "code",
   "execution_count": null,
   "metadata": {},
   "outputs": [],
   "source": [
    "print(type(results))"
   ]
  },
  {
   "cell_type": "markdown",
   "metadata": {},
   "source": [
    "## Slope"
   ]
  },
  {
   "cell_type": "code",
   "execution_count": null,
   "metadata": {},
   "outputs": [],
   "source": [
    "print(\"CRS of roads:\", slope.crs)\n",
    "print(\"CRS of buffered_camera_df_500m:\", buffered_camera_df_1km.crs)"
   ]
  },
  {
   "cell_type": "code",
   "execution_count": null,
   "metadata": {},
   "outputs": [],
   "source": [
    "if slope.crs is None:\n",
    "    slope.crs = 'EPSG:26918'\n",
    "slope = slope.to_crs(buffered_camera_df_1km.crs)"
   ]
  },
  {
   "cell_type": "code",
   "execution_count": null,
   "metadata": {},
   "outputs": [],
   "source": [
    "slope"
   ]
  },
  {
   "cell_type": "markdown",
   "metadata": {},
   "source": [
    "### Slope buffer 500m"
   ]
  },
  {
   "cell_type": "code",
   "execution_count": null,
   "metadata": {},
   "outputs": [],
   "source": [
    "import geopandas as gpd\n",
    "import pandas as pd\n",
    "\n",
    "# Replace rivieres_500m with slope_500m, and ensure buffered_camera_df_500m is correct\n",
    "slope_500m = slope.overlay(buffered_camera_df_500m, how='intersection')\n",
    "slope_500m['superficie'] = slope_500m.geometry.area\n",
    "\n",
    "# Ensure that 'Site' and other necessary columns are included\n",
    "slope_500m_clean = slope_500m[['Site', 'superficie', 'geometry', 'CL_PENT', 'SHAPE_Area']]\n",
    "\n",
    "\n",
    "slope_500m_sum = slope_500m_clean.dissolve(by='Site', aggfunc= {'CL_PENT':'sum'})\n",
    "\n",
    "# Update the file paths in the to_file and to_csv methods\n",
    "#slope_500m_sum.to_file(r\"C:\\Users\\thier\\Downloads\\Projet\\slope_buffers_500m.shp\")\n",
    "#slope_500m_sum.to_csv(r\"C:\\Users\\thier\\Downloads\\Projet\\slope_buffers_500m.csv\")\n",
    "\n",
    "# Print the result and plot it\n",
    "print(slope_500m_sum)\n",
    "slope_500m_sum.plot()\n"
   ]
  },
  {
   "cell_type": "code",
   "execution_count": 611,
   "metadata": {},
   "outputs": [
    {
     "name": "stdout",
     "output_type": "stream",
     "text": [
      "   Site CL_PENT     superficie\n",
      "0    10       A  659734.795648\n",
      "1    10       B  124402.326988\n",
      "2    11       A  730785.113261\n",
      "3    11       B   53352.009375\n",
      "4    12       A  784137.122636\n",
      "5    14       A  784137.122636\n",
      "6    16       A  773840.977438\n",
      "7    16       B   10296.145199\n",
      "8   18A       A  627557.518509\n",
      "9   18A       B  139076.598844\n",
      "10  18A       C   17503.005284\n",
      "11  18B       A  659561.386330\n",
      "12  18B       B  116169.761723\n",
      "13  18B       C    8405.974583\n",
      "14   19       A  714558.487872\n",
      "15   19       B   59234.674002\n",
      "16   19       C   10343.960762\n",
      "17    2       A  237110.421865\n",
      "18    2       B  296301.363750\n",
      "19    2       C  223260.175832\n",
      "20    2       D   27465.161189\n",
      "21  20A       A  784137.122636\n",
      "22  20B       A  777216.906941\n",
      "23  20B       B    6920.215695\n",
      "24    4       A  298747.801919\n",
      "25    4       B  228497.128879\n",
      "26    4       C   73292.973230\n",
      "27    4       D  165180.197624\n",
      "28    4       F   18419.020984\n",
      "29    5       A  121479.447847\n",
      "30    5       B  314218.248235\n",
      "31    5       C  169367.815454\n",
      "32    5       D  136457.387227\n",
      "33    5       F   42614.223874\n",
      "34    6       A  302522.646108\n",
      "35    6       B  270607.779675\n",
      "36    6       C  113289.770690\n",
      "37    6       D   97716.926163\n",
      "38    8       A  184031.923205\n",
      "39    8       B  199311.602629\n",
      "40    8       C  156913.232991\n",
      "41    8       D  227390.876525\n",
      "42    8       F   16489.487287\n"
     ]
    }
   ],
   "source": [
    "import geopandas as gpd\n",
    "import pandas as pd\n",
    "\n",
    "# Assuming slope_500m is your prepared GeoDataFrame\n",
    "slope_500m = slope.overlay(buffered_camera_df_500m, how='intersection')\n",
    "slope_500m['superficie'] = slope_500m.geometry.area\n",
    "slope_500m_clean = slope_500m[['Site', 'superficie', 'CL_PENT']]\n",
    "\n",
    "#slope_500m_clean.dissolve(by='Site', aggfunc= {'CL_PENT':'sum'})\n",
    "\n",
    "# Group by 'Site' and 'CL_PENT' and sum 'superficie'\n",
    "slope_grouped = slope_500m_clean.groupby(['Site', 'CL_PENT']).sum().reset_index()\n",
    "\n",
    "# Save the pivot table to a CSV file\n",
    "slope_grouped.to_csv(r\"C:\\Users\\thier\\Downloads\\Projet\\slope_superficie_by_category_and_site_2.csv\")\n",
    "\n",
    "# Print the pivot table\n",
    "print(slope_grouped)\n"
   ]
  },
  {
   "cell_type": "code",
   "execution_count": 610,
   "metadata": {},
   "outputs": [
    {
     "name": "stdout",
     "output_type": "stream",
     "text": [
      "   Site CL_PENT     superficie  \\\n",
      "0    10       A  659734.795648   \n",
      "1    10       B  124402.326988   \n",
      "2    11       A  730785.113261   \n",
      "3    11       B   53352.009375   \n",
      "4    12       A  784137.122636   \n",
      "5    14       A  784137.122636   \n",
      "6    16       A  773840.977438   \n",
      "7    16       B   10296.145199   \n",
      "8   18A       A  627557.518509   \n",
      "9   18A       B  139076.598844   \n",
      "10  18A       C   17503.005284   \n",
      "11  18B       A  659561.386330   \n",
      "12  18B       B  116169.761723   \n",
      "13  18B       C    8405.974583   \n",
      "14   19       A  714558.487872   \n",
      "15   19       B   59234.674002   \n",
      "16   19       C   10343.960762   \n",
      "17    2       A  237110.421865   \n",
      "18    2       B  296301.363750   \n",
      "19    2       C  223260.175832   \n",
      "20    2       D   27465.161189   \n",
      "21  20A       A  784137.122636   \n",
      "22  20B       A  777216.906941   \n",
      "23  20B       B    6920.215695   \n",
      "24    4       A  298747.801919   \n",
      "25    4       B  228497.128879   \n",
      "26    4       C   73292.973230   \n",
      "27    4       D  165180.197624   \n",
      "28    4       F   18419.020984   \n",
      "29    5       A  121479.447847   \n",
      "30    5       B  314218.248235   \n",
      "31    5       C  169367.815454   \n",
      "32    5       D  136457.387227   \n",
      "33    5       F   42614.223874   \n",
      "34    6       A  302522.646108   \n",
      "35    6       B  270607.779675   \n",
      "36    6       C  113289.770690   \n",
      "37    6       D   97716.926163   \n",
      "38    8       A  184031.923205   \n",
      "39    8       B  199311.602629   \n",
      "40    8       C  156913.232991   \n",
      "41    8       D  227390.876525   \n",
      "42    8       F   16489.487287   \n",
      "\n",
      "                                             geometry  \n",
      "0   POLYGON Z ((671048.403 5138102.114 0.000, 6710...  \n",
      "1   POLYGON Z ((671048.403 5138102.114 0.000, 6710...  \n",
      "2   POLYGON Z ((672020.782 5139810.394 0.000, 6720...  \n",
      "3   POLYGON Z ((672020.782 5139810.394 0.000, 6720...  \n",
      "4   POLYGON Z ((672960.889 5140951.767 0.000, 6729...  \n",
      "5   POLYGON Z ((679448.627 5138359.657 0.000, 6794...  \n",
      "6   POLYGON Z ((674950.602 5130139.296 0.000, 6749...  \n",
      "7   POLYGON Z ((674950.602 5130139.296 0.000, 6749...  \n",
      "8   POLYGON Z ((675907.338 5129425.851 0.000, 6759...  \n",
      "9   POLYGON Z ((675907.338 5129425.851 0.000, 6759...  \n",
      "10  POLYGON Z ((675907.338 5129425.851 0.000, 6759...  \n",
      "11  POLYGON Z ((676055.167 5129436.654 0.000, 6760...  \n",
      "12  POLYGON Z ((676055.167 5129436.654 0.000, 6760...  \n",
      "13  POLYGON Z ((676055.167 5129436.654 0.000, 6760...  \n",
      "14  POLYGON Z ((673209.832 5131808.431 0.000, 6731...  \n",
      "15  POLYGON Z ((673209.832 5131808.431 0.000, 6731...  \n",
      "16  POLYGON Z ((673209.832 5131808.431 0.000, 6731...  \n",
      "17  POLYGON Z ((660205.901 5146434.504 0.000, 6601...  \n",
      "18  POLYGON Z ((660205.901 5146434.504 0.000, 6601...  \n",
      "19  POLYGON Z ((660205.901 5146434.504 0.000, 6601...  \n",
      "20  POLYGON Z ((660205.901 5146434.504 0.000, 6601...  \n",
      "21  POLYGON Z ((681896.182 5133857.391 0.000, 6818...  \n",
      "22  POLYGON Z ((681960.375 5134036.514 0.000, 6819...  \n",
      "23  POLYGON Z ((681960.375 5134036.514 0.000, 6819...  \n",
      "24  POLYGON Z ((664661.553 5149391.611 0.000, 6646...  \n",
      "25  POLYGON Z ((664661.553 5149391.611 0.000, 6646...  \n",
      "26  POLYGON Z ((664661.553 5149391.611 0.000, 6646...  \n",
      "27  POLYGON Z ((664661.553 5149391.611 0.000, 6646...  \n",
      "28  POLYGON Z ((664661.553 5149391.611 0.000, 6646...  \n",
      "29  POLYGON Z ((665818.794 5142013.212 0.000, 6657...  \n",
      "30  POLYGON Z ((665818.794 5142013.212 0.000, 6657...  \n",
      "31  POLYGON Z ((665818.794 5142013.212 0.000, 6657...  \n",
      "32  POLYGON Z ((665818.794 5142013.212 0.000, 6657...  \n",
      "33  POLYGON Z ((665818.794 5142013.212 0.000, 6657...  \n",
      "34  POLYGON Z ((667929.924 5143187.472 0.000, 6679...  \n",
      "35  POLYGON Z ((667929.924 5143187.472 0.000, 6679...  \n",
      "36  POLYGON Z ((667929.924 5143187.472 0.000, 6679...  \n",
      "37  POLYGON Z ((667929.924 5143187.472 0.000, 6679...  \n",
      "38  MULTIPOLYGON Z (((667368.573 5137082.656 0.000...  \n",
      "39  MULTIPOLYGON Z (((667368.573 5137082.656 0.000...  \n",
      "40  MULTIPOLYGON Z (((667368.573 5137082.656 0.000...  \n",
      "41  MULTIPOLYGON Z (((667368.573 5137082.656 0.000...  \n",
      "42  MULTIPOLYGON Z (((667368.573 5137082.656 0.000...  \n"
     ]
    },
    {
     "data": {
      "text/plain": [
       "<Axes: >"
      ]
     },
     "execution_count": 610,
     "metadata": {},
     "output_type": "execute_result"
    },
    {
     "data": {
      "image/png": "[encoded data removed]",
      "text/plain": [
       "<Figure size 640x480 with 1 Axes>"
      ]
     },
     "metadata": {},
     "output_type": "display_data"
    }
   ],
   "source": [
    "import geopandas as gpd\n",
    "import pandas as pd\n",
    "\n",
    "# Assuming slope_500m is your prepared GeoDataFrame\n",
    "slope_500m = slope.overlay(buffered_camera_df_500m, how='intersection')\n",
    "slope_500m['superficie'] = slope_500m.geometry.area\n",
    "slope_500m_clean = slope_500m[['Site', 'superficie', 'CL_PENT', 'geometry']]\n",
    "\n",
    "# Group by 'Site' and 'CL_PENT' and sum 'superficie'\n",
    "grouped_non_spatial = slope_500m_clean.groupby(['Site', 'CL_PENT'])['superficie'].sum().reset_index()\n",
    "\n",
    "# Get the first geometry for each 'Site' as a representative geometry\n",
    "first_geometry = slope_500m_clean.groupby('Site')['geometry'].first().reset_index()\n",
    "\n",
    "# Merge the non-spatial and spatial data\n",
    "merged = pd.merge(grouped_non_spatial, first_geometry, on='Site', how='left')\n",
    "\n",
    "# Convert back to a GeoDataFrame\n",
    "gdf = gpd.GeoDataFrame(merged, geometry='geometry')\n",
    "\n",
    "# Save the GeoDataFrame\n",
    "gdf.to_file(r\"C:\\Users\\thier\\Downloads\\Projet\\slope_superficie_by_category_and_site.shp\")\n",
    "gdf.to_csv(r\"C:\\Users\\thier\\Downloads\\Projet\\slope_superficie_by_category_and_site.csv\")\n",
    "\n",
    "# Print and plot the result\n",
    "print(gdf)\n",
    "gdf.plot()\n"
   ]
  },
  {
   "cell_type": "code",
   "execution_count": null,
   "metadata": {},
   "outputs": [],
   "source": [
    "grouped"
   ]
  },
  {
   "cell_type": "code",
   "execution_count": null,
   "metadata": {},
   "outputs": [],
   "source": [
    "print(type(pivot_table))"
   ]
  },
  {
   "cell_type": "code",
   "execution_count": null,
   "metadata": {},
   "outputs": [],
   "source": [
    "pivot_table = slope_500m_clean.pivot(index='Site', columns='CL_PENT', values='superficie').fillna(0)\n"
   ]
  },
  {
   "cell_type": "code",
   "execution_count": null,
   "metadata": {},
   "outputs": [],
   "source": [
    "slope_500m_sum"
   ]
  },
  {
   "cell_type": "code",
   "execution_count": null,
   "metadata": {},
   "outputs": [],
   "source": [
    "slope_500m_clean.to_file(r\"C:\\Users\\thier\\Downloads\\Projet\\slope_buffers_500m.shp\")\n",
    "slope_500m_clean.plot()\n"
   ]
  },
  {
   "cell_type": "code",
   "execution_count": null,
   "metadata": {},
   "outputs": [],
   "source": [
    "# Export the grouped data to a CSV file\n",
    "grouped_data.to_csv(r\"C:\\Users\\thier\\Downloads\\Projet\\Projet\\slope_buffers_500m.csv\", index=False)"
   ]
  },
  {
   "cell_type": "markdown",
   "metadata": {},
   "source": [
    "### Slope buffers 1km"
   ]
  },
  {
   "cell_type": "code",
   "execution_count": null,
   "metadata": {},
   "outputs": [],
   "source": [
    "import geopandas as gpd\n",
    "import pandas as pd\n",
    "\n",
    "aggregated_results = pd.DataFrame()\n",
    "\n",
    "for selected_buffer_index in range(len(buffered_camera_df_1km)):\n",
    "    selected_buffer = buffered_camera_df_1km.iloc[selected_buffer_index:selected_buffer_index + 1]\n",
    "    # Calculate the intersection\n",
    "    clipped_shp = gpd.overlay(slope, selected_buffer, how='intersection')\n",
    "\n",
    "    if 'id' in clipped_shp.columns and 'CL_PENT' in clipped_shp.columns and 'SUPERFICIE' in clipped_shp.columns:\n",
    "        grouped_data = clipped_shp.groupby(['id', 'CL_PENT'])['SUPERFICIE'].sum().reset_index()\n",
    "        \n",
    "        # Append the grouped data to the aggregated_results DataFrame\n",
    "        aggregated_results = pd.concat([aggregated_results, grouped_data], ignore_index=True)\n",
    "        \n",
    "# Export the grouped data to a CSV file\n",
    "aggregated_results.to_csv(r\"C:\\Users\\thier\\Downloads\\Projet\\Projet\\slope_buffers_1km.csv\", index=False)"
   ]
  },
  {
   "cell_type": "code",
   "execution_count": null,
   "metadata": {},
   "outputs": [],
   "source": [
    "buffered_camera_df_1km"
   ]
  },
  {
   "cell_type": "markdown",
   "metadata": {},
   "source": [
    "### Slope buffers 2km"
   ]
  },
  {
   "cell_type": "code",
   "execution_count": null,
   "metadata": {},
   "outputs": [],
   "source": [
    "import geopandas as gpd\n",
    "import pandas as pd\n",
    "\n",
    "aggregated_results = pd.DataFrame()\n",
    "\n",
    "for selected_buffer_index in range(len(buffered_camera_df_2km)):\n",
    "    selected_buffer = buffered_camera_df_2km.iloc[selected_buffer_index:selected_buffer_index + 1]\n",
    "    # Calculate the intersection\n",
    "    clipped_shp = gpd.overlay(slope, selected_buffer, how='intersection')\n",
    "\n",
    "    if 'id' in clipped_shp.columns and 'CL_PENT' in clipped_shp.columns and 'SUPERFICIE' in clipped_shp.columns:\n",
    "        grouped_data = clipped_shp.groupby(['id', 'CL_PENT'])['SUPERFICIE'].sum().reset_index()\n",
    "        \n",
    "        # Append the grouped data to the aggregated_results DataFrame\n",
    "        aggregated_results = pd.concat([aggregated_results, grouped_data], ignore_index=True)\n",
    "        \n",
    "# Export the grouped data to a CSV file\n",
    "aggregated_results.to_file(r\"C:\\Users\\thier\\Downloads\\Projet\\Projet\\slope_buffers_2km.shp\")"
   ]
  },
  {
   "cell_type": "markdown",
   "metadata": {},
   "source": [
    "## Landcover type"
   ]
  },
  {
   "cell_type": "code",
   "execution_count": null,
   "metadata": {},
   "outputs": [],
   "source": [
    "import pandas as pd"
   ]
  },
  {
   "cell_type": "code",
   "execution_count": null,
   "metadata": {},
   "outputs": [],
   "source": [
    "print(\"CRS of roads:\", landcover.crs)\n",
    "print(\"CRS of buffered_camera_df_500m:\", buffered_camera_df_1km.crs)"
   ]
  },
  {
   "cell_type": "code",
   "execution_count": null,
   "metadata": {},
   "outputs": [],
   "source": [
    "pd.set_option('display.max_columns', None)\n",
    "landcover.head(20)"
   ]
  },
  {
   "cell_type": "code",
   "execution_count": null,
   "metadata": {},
   "outputs": [],
   "source": [
    "landcover.to_csv(r\"C:\\Users\\thier\\Downloads\\Projet\\Projet\\landcover.csv\", index=False)"
   ]
  },
  {
   "cell_type": "code",
   "execution_count": null,
   "metadata": {},
   "outputs": [],
   "source": [
    "#Clip the rivers with the buffers\n",
    "clip_rivers_500m = gpd.clip(roads, buffered_camera_df_1km)\n",
    "clip_rivers_500m"
   ]
  },
  {
   "cell_type": "markdown",
   "metadata": {},
   "source": [
    "### Landcover buffers 500m"
   ]
  },
  {
   "cell_type": "code",
   "execution_count": null,
   "metadata": {},
   "outputs": [],
   "source": [
    "import geopandas as gpd\n",
    "import pandas as pd\n",
    "\n",
    "aggregated_results = pd.DataFrame()\n",
    "\n",
    "for selected_buffer_index in range(len(buffered_camera_df_500m)):\n",
    "    selected_buffer = buffered_camera_df_500m.iloc[selected_buffer_index:selected_buffer_index + 1]\n",
    "    # Calculate the intersection\n",
    "    clipped_shp = gpd.overlay(landcover, selected_buffer, how='intersection')\n",
    "\n",
    "    if 'id' in clipped_shp.columns and 'CL_PENT' in clipped_shp.columns and 'SUPERFICIE' in clipped_shp.columns:\n",
    "        grouped_data = clipped_shp.groupby(['id', 'TYPE_ECO'])['SUPERFICIE'].sum().reset_index()\n",
    "        \n",
    "        # Append the grouped data to the aggregated_results DataFrame\n",
    "        aggregated_results = pd.concat([aggregated_results, grouped_data], ignore_index=True)\n",
    "        \n",
    "# Export the grouped data to a CSV file\n",
    "aggregated_results.to_csv(r\"C:\\Users\\thier\\Downloads\\Projet\\Projet\\landcover_buffers_500m.csv\", index=False)\n",
    "aggregated_results\n"
   ]
  },
  {
   "cell_type": "markdown",
   "metadata": {},
   "source": [
    "### Landcover buffers 1km"
   ]
  },
  {
   "cell_type": "code",
   "execution_count": null,
   "metadata": {},
   "outputs": [],
   "source": [
    "import geopandas as gpd\n",
    "import pandas as pd\n",
    "\n",
    "aggregated_results = pd.DataFrame()\n",
    "\n",
    "for selected_buffer_index in range(len(buffered_camera_df_1km)):\n",
    "    selected_buffer = buffered_camera_df_1km.iloc[selected_buffer_index:selected_buffer_index + 1]\n",
    "    # Calculate the intersection\n",
    "    clipped_shp = gpd.overlay(landcover, selected_buffer, how='intersection')\n",
    "\n",
    "    if 'id' in clipped_shp.columns and 'CL_PENT' in clipped_shp.columns and 'SUPERFICIE' in clipped_shp.columns:\n",
    "        grouped_data = clipped_shp.groupby(['id', 'TYPE_ECO'])['SUPERFICIE'].sum().reset_index()\n",
    "        \n",
    "        # Append the grouped data to the aggregated_results DataFrame\n",
    "        aggregated_results = pd.concat([aggregated_results, grouped_data], ignore_index=True)\n",
    "        \n",
    "# Export the grouped data to a CSV file\n",
    "aggregated_results.to_csv(r\"C:\\Users\\thier\\Downloads\\Projet\\Projet\\landcover_buffers_1km.csv\", index=False)\n",
    "aggregated_results"
   ]
  },
  {
   "cell_type": "markdown",
   "metadata": {},
   "source": [
    "### Landcover buffers 2km"
   ]
  },
  {
   "cell_type": "code",
   "execution_count": null,
   "metadata": {},
   "outputs": [],
   "source": [
    "import geopandas as gpd\n",
    "import pandas as pd\n",
    "\n",
    "aggregated_results = pd.DataFrame()\n",
    "\n",
    "for selected_buffer_index in range(len(buffered_camera_df_2km)):\n",
    "    selected_buffer = buffered_camera_df_2km.iloc[selected_buffer_index:selected_buffer_index + 1]\n",
    "    # Calculate the intersection\n",
    "    clipped_shp = gpd.overlay(landcover, selected_buffer, how='intersection')\n",
    "\n",
    "    if 'id' in clipped_shp.columns and 'CL_PENT' in clipped_shp.columns and 'SUPERFICIE' in clipped_shp.columns:\n",
    "        grouped_data = clipped_shp.groupby(['id', 'TYPE_ECO'])['SUPERFICIE'].sum().reset_index()\n",
    "        \n",
    "        # Append the grouped data to the aggregated_results DataFrame\n",
    "        aggregated_results = pd.concat([aggregated_results, grouped_data], ignore_index=True)\n",
    "        \n",
    "# Export the grouped data to a CSV file\n",
    "aggregated_results.to_csv(r\"C:\\Users\\thier\\Downloads\\Projet\\Projet\\landcover_buffers_2km.csv\", index=False)\n",
    "aggregated_results"
   ]
  },
  {
   "cell_type": "markdown",
   "metadata": {},
   "source": [
    "## Utilisation du sol"
   ]
  },
  {
   "cell_type": "markdown",
   "metadata": {},
   "source": [
    "### Check projection first\n"
   ]
  },
  {
   "cell_type": "code",
   "execution_count": null,
   "metadata": {},
   "outputs": [],
   "source": [
    "print(\"CRS of roads:\", sol.crs)\n",
    "print(\"CRS of buffered_camera_df_500m:\", buffered_camera_df_500m.crs)"
   ]
  },
  {
   "cell_type": "markdown",
   "metadata": {},
   "source": [
    "### Sol buffers 500m"
   ]
  },
  {
   "cell_type": "code",
   "execution_count": null,
   "metadata": {},
   "outputs": [],
   "source": [
    "buffered_camera_df_500m"
   ]
  },
  {
   "cell_type": "code",
   "execution_count": null,
   "metadata": {},
   "outputs": [],
   "source": [
    "import geopandas as gpd\n",
    "import pandas as pd\n",
    "\n",
    "aggregated_results = pd.DataFrame()\n",
    "\n",
    "for selected_buffer_index in range(len(buffered_camera_df_500m)):\n",
    "    selected_buffer = buffered_camera_df_500m.iloc[selected_buffer_index:selected_buffer_index + 1]\n",
    "    clipped_shp = gpd.overlay(sol, selected_buffer, how='intersection')\n",
    "\n",
    "    if 'Camera' in clipped_shp.columns and 'DESC_CAT' in clipped_shp.columns and 'Shape_Area' in clipped_shp.columns:\n",
    "        grouped_data = clipped_shp.groupby(['Camera', 'DESC_CAT'])['Shape_Area'].sum().reset_index()\n",
    "        grouped_data = grouped_data.rename(columns={'Shape_Area': 'Superficie_m2', 'DESC_CAT': 'Type sol'})\n",
    "        aggregated_results = pd.concat([aggregated_results, grouped_data], ignore_index=True)\n",
    "        \n",
    "# Export the file\n",
    "aggregated_results.to_csv(r\"C:\\Users\\thier\\Downloads\\Projet\\Projet\\sol_buffers_500m_4.csv\", index=False)\n",
    "aggregated_results"
   ]
  },
  {
   "cell_type": "code",
   "execution_count": null,
   "metadata": {},
   "outputs": [],
   "source": [
    "import fiona\n",
    "fiona.supported_drivers "
   ]
  },
  {
   "cell_type": "code",
   "execution_count": null,
   "metadata": {},
   "outputs": [],
   "source": [
    "roads"
   ]
  },
  {
   "cell_type": "code",
   "execution_count": null,
   "metadata": {},
   "outputs": [],
   "source": [
    "#Clip the roads with the buffers\n",
    "sol_500m = gpd.overlay(roads, buffered_camera_df_500m, how='intersection')\n",
    "#Clean the dataframe    \n",
    "df_clean = [\"Camera\", \"Shape_Leng\", \"geometry\", \"ClsRte\"]\n",
    "sol_500m= sol_500m[df_clean]\n",
    "#Aggregate the data\n",
    "df_sol_500m = sol_500m.dissolve(by='Camera', aggfunc='sum').drop(columns=\"ClsRte\").reset_index()\n",
    "#Export the file in shp or csv\n",
    "#df_sol_500m.to_file(r\"C:\\Users\\thier\\Downloads\\Projet\\Projet\\sol_buffers_500m_9.shp\")\n",
    "df_sol_500m.to_csv(r\"C:\\Users\\thier\\Downloads\\Projet\\Projet\\sol_buffers_500m_9.csv\", index=False)\n"
   ]
  },
  {
   "cell_type": "code",
   "execution_count": null,
   "metadata": {},
   "outputs": [],
   "source": [
    "test3 = df_sol_500m.rename(columns={'Shape_Leng': 'Longueur_m2'})"
   ]
  },
  {
   "cell_type": "code",
   "execution_count": null,
   "metadata": {},
   "outputs": [],
   "source": [
    "test3"
   ]
  },
  {
   "cell_type": "code",
   "execution_count": null,
   "metadata": {},
   "outputs": [],
   "source": [
    "print(type(df_sol_500m))"
   ]
  },
  {
   "cell_type": "code",
   "execution_count": null,
   "metadata": {},
   "outputs": [],
   "source": [
    "grouped_sol_500m = grouped_sol_500m.rename(columns={'Shape_Area': 'Superficie_m2', 'DESC_CAT': 'Type sol'})\n"
   ]
  },
  {
   "cell_type": "code",
   "execution_count": null,
   "metadata": {},
   "outputs": [],
   "source": [
    "import geopandas as gpd\n",
    "\n",
    "# Create a GeoDataFrame from grouped_sol_500m\n",
    "grouped_sol_500m_gdf = gpd.GeoDataFrame(grouped_sol_500m)\n",
    "\n",
    "# Now you have a GeoDataFrame with the \"geometry\" column assigned\n"
   ]
  },
  {
   "cell_type": "code",
   "execution_count": null,
   "metadata": {},
   "outputs": [],
   "source": [
    "grouped_sol_500m.to_file(r\"C:\\Users\\thier\\Downloads\\Projet\\Projet\\roads_buffers_500m_5.shp\")"
   ]
  },
  {
   "cell_type": "code",
   "execution_count": null,
   "metadata": {},
   "outputs": [],
   "source": [
    "grouped_sol_500m.to_file(r\"C:\\Users\\thier\\Downloads\\Projet\\Projet\\sol_buffers_500m_5.shp\")"
   ]
  },
  {
   "cell_type": "markdown",
   "metadata": {},
   "source": [
    "### Sol buffer 1km"
   ]
  },
  {
   "cell_type": "code",
   "execution_count": null,
   "metadata": {},
   "outputs": [],
   "source": [
    "import geopandas as gpd\n",
    "import pandas as pd\n",
    "\n",
    "aggregated_results = pd.DataFrame()\n",
    "\n",
    "for selected_buffer_index in range(len(buffered_camera_df_1km)):\n",
    "    selected_buffer = buffered_camera_df_1km.iloc[selected_buffer_index:selected_buffer_index + 1]\n",
    "    clipped_shp = gpd.overlay(sol, selected_buffer, how='intersection')\n",
    "\n",
    "    if 'id' in clipped_shp.columns and 'DESC_CAT' in clipped_shp.columns and 'Shape_Area' in clipped_shp.columns:\n",
    "        grouped_data = clipped_shp.groupby(['id', 'DESC_CAT'])['Shape_Area'].sum().reset_index()\n",
    "        grouped_data = grouped_data.rename(columns={'Shape_Area': 'Superficie_m2', 'DESC_CAT': 'Type sol'})\n",
    "        aggregated_results = pd.concat([aggregated_results, grouped_data], ignore_index=True)\n",
    "        \n",
    "# Export the file\n",
    "aggregated_results.to_csv(r\"C:\\Users\\thier\\Downloads\\Projet\\Projet\\sol_buffers_1km.csv\", index=False)\n",
    "aggregated_results"
   ]
  },
  {
   "cell_type": "markdown",
   "metadata": {},
   "source": [
    "### Sol buffer 2km"
   ]
  },
  {
   "cell_type": "code",
   "execution_count": null,
   "metadata": {},
   "outputs": [],
   "source": [
    "import geopandas as gpd\n",
    "import pandas as pd\n",
    "\n",
    "aggregated_results = pd.DataFrame()\n",
    "\n",
    "for selected_buffer_index in range(len(buffered_camera_df_2km)):\n",
    "    selected_buffer = buffered_camera_df_2km.iloc[selected_buffer_index:selected_buffer_index + 1]\n",
    "    clipped_shp = gpd.overlay(sol, selected_buffer, how='intersection')\n",
    "\n",
    "    if 'id' in clipped_shp.columns and 'id' in clipped_shp.columns and 'Shape_Area' in clipped_shp.columns:\n",
    "        grouped_data = clipped_shp.groupby(['Site', 'DESC_CAT'])['Shape_Area'].sum().reset_index()\n",
    "        grouped_data = grouped_data.rename(columns={'Shape_Area': 'Superficie_m2', 'DESC_CAT': 'Type sol'})\n",
    "        aggregated_results = pd.concat([aggregated_results, grouped_data], ignore_index=True)\n",
    "        \n",
    "# Export the file\n",
    "aggregated_results.to_csv(r\"C:\\Users\\thier\\Downloads\\Projet\\Projet\\sol_buffers_2km.csv\", index=False)\n",
    "aggregated_results"
   ]
  },
  {
   "cell_type": "code",
   "execution_count": null,
   "metadata": {},
   "outputs": [],
   "source": [
    "import geopandas as gpd\n",
    "import pandas as pd\n",
    "\n",
    "def process_buffers(buffer_df, buffer_name, rivers_gdf, output_csv_path):\n",
    "    results_df = pd.DataFrame(columns=[\"Buffer Index\", \"Clipped Length\"])\n",
    "    clipped_results_gdf = gpd.GeoDataFrame()\n",
    "\n",
    "    for selected_buffer_index in range(len(buffer_df)):\n",
    "        selected_buffer = buffer_df.iloc[selected_buffer_index:selected_buffer_index + 1]\n",
    "        clipped_shp = gpd.overlay(rivers_gdf, selected_buffer, how='intersection')\n",
    "        clipped_length = clipped_shp.length.sum()\n",
    "        print(f\"{buffer_name} - Buffer Index {selected_buffer_index}: Clipped Length = {clipped_length}\")\n",
    "\n",
    "        results_df = pd.concat([results_df, pd.DataFrame({\"Buffer Index\": [selected_buffer_index], \"Clipped Length\": [clipped_length]})], ignore_index=True)\n",
    "        clipped_results_gdf = gpd.GeoDataFrame(pd.concat([clipped_results_gdf, clipped_shp]), crs=rivers_gdf.crs)\n",
    "\n",
    "    results_df.to_csv(output_csv_path, index=False)\n",
    "    # Optionally save the GeoDataFrame as well\n",
    "    # clipped_results_gdf.to_file(output_csv_path.replace('.csv', '.shp'))\n",
    "\n",
    "# Assuming 'rivieres' is your rivers GeoDataFrame\n",
    "# And you have buffered_camera_df_500m, buffered_camera_df_1km, buffered_camera_df_2km defined\n",
    "\n",
    "process_buffers(buffered_camera_df_500m, \"Rivers buffers 500m\", rivieres, r\"C:\\Users\\thier\\Downloads\\Projet\\Projet\\rivers_buffers_500m_test.csv\")\n",
    "process_buffers(buffered_camera_df_1km, \"Rivers buffers 1km\", rivieres, r\"C:\\Users\\thier\\Downloads\\Projet\\Projet\\rivers_buffers_1km_test.csv\")\n",
    "process_buffers(buffered_camera_df_2km, \"Rivers buffers 2km\", rivieres, r\"C:\\Users\\thier\\Downloads\\Projet\\\\Projet\\rivers_buffers_2km_test.csv\")\n"
   ]
  },
  {
   "cell_type": "markdown",
   "metadata": {},
   "source": []
  }
 ],
 "metadata": {
  "kernelspec": {
   "display_name": "Python 3",
   "language": "python",
   "name": "python3"
  },
  "language_info": {
   "codemirror_mode": {
    "name": "ipython",
    "version": 3
   },
   "file_extension": ".py",
   "mimetype": "text/x-python",
   "name": "python",
   "nbconvert_exporter": "python",
   "pygments_lexer": "ipython3",
   "version": "3.12.1"
  }
 },
 "nbformat": 4,
 "nbformat_minor": 2
}
