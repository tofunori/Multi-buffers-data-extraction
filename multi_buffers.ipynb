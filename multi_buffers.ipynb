{
 "cells": [
  {
   "cell_type": "markdown",
   "metadata": {},
   "source": [
    "# Project PICOM"
   ]
  },
  {
   "cell_type": "markdown",
   "metadata": {},
   "source": [
    "## Import the libraries and files"
   ]
  },
  {
   "cell_type": "code",
   "execution_count": null,
   "metadata": {},
   "outputs": [],
   "source": [
    "import geopandas as gpd\n",
    "import pandas as pd \n",
    "import matplotlib.pyplot as plt"
   ]
  },
  {
   "cell_type": "code",
   "execution_count": null,
   "metadata": {},
   "outputs": [],
   "source": [
    "#Import the files\n",
    "camera_df = gpd.read_file(r\"C:\\Users\\thier\\Downloads\\Projet\\Projet\\Cameras.shp\")\n",
    "rivieres = gpd.read_file(r\"C:\\Users\\thier\\Downloads\\Projet\\Projet\\Rivieres.shp\")\n",
    "roads = gpd.read_file(r\"C:\\Users\\thier\\Downloads\\Projet\\Projet\\Reseau_Routier.shp\")\n",
    "railroad = gpd.read_file(r\"C:\\Users\\thier\\Downloads\\Projet\\Projet\\Reseau_Ferroviaire.shp\")\n",
    "slope = gpd.read_file(r\"C:\\Users\\thier\\Downloads\\Projet\\Projet\\Pente.shp\")\n",
    "landcover = gpd.read_file(r\"C:\\Users\\thier\\Downloads\\Projet\\Projet\\Type_Couverture.shp\")\n",
    "sol = gpd.read_file(r\"C:\\Users\\thier\\Downloads\\Projet\\Projet\\utilisation_territoire2.shp\")\n"
   ]
  },
  {
   "cell_type": "code",
   "execution_count": null,
   "metadata": {},
   "outputs": [],
   "source": [
    "#export the camera dataframe\n",
    "camera_df.to_file(r\"C:\\Users\\thier\\Downloads\\Projet\\Projet\\points.shp\", )\n",
    "camera_df"
   ]
  },
  {
   "cell_type": "code",
   "execution_count": null,
   "metadata": {},
   "outputs": [],
   "source": [
    "roads.plot()    "
   ]
  },
  {
   "cell_type": "code",
   "execution_count": null,
   "metadata": {},
   "outputs": [],
   "source": [
    "camera_df"
   ]
  },
  {
   "cell_type": "code",
   "execution_count": null,
   "metadata": {},
   "outputs": [],
   "source": [
    "camera_df = camera_df.set_index(\"Site\")"
   ]
  },
  {
   "cell_type": "code",
   "execution_count": null,
   "metadata": {},
   "outputs": [],
   "source": [
    "camera_df.plot()"
   ]
  },
  {
   "cell_type": "code",
   "execution_count": null,
   "metadata": {},
   "outputs": [],
   "source": [
    "#Make sure the projection is the right one\n",
    "camera_df = camera_df.to_crs('EPSG:26918')"
   ]
  },
  {
   "cell_type": "markdown",
   "metadata": {},
   "source": [
    "### Create buffers of 500m, 1km and 2km"
   ]
  },
  {
   "cell_type": "code",
   "execution_count": null,
   "metadata": {},
   "outputs": [],
   "source": [
    "#Create buffers for each cameras\n",
    "buffered_geometries_500m = camera_df.geometry.apply(lambda geom: geom.buffer(500))\n",
    "buffered_geometries_1km = camera_df.geometry.apply(lambda geom: geom.buffer(1000))\n",
    "buffered_geometries_2km = camera_df.geometry.apply(lambda geom: geom.buffer(2000))\n",
    "\n",
    "# Create GeoDataFrames for each buffer\n",
    "buffered_camera_df_500m = gpd.GeoDataFrame(geometry=buffered_geometries_500m, crs=camera_df.crs)\n",
    "buffered_camera_df_1km = gpd.GeoDataFrame(geometry=buffered_geometries_1km, crs=camera_df.crs)\n",
    "buffered_camera_df_2km = gpd.GeoDataFrame(geometry=buffered_geometries_2km, crs=camera_df.crs)\n"
   ]
  },
  {
   "cell_type": "code",
   "execution_count": null,
   "metadata": {},
   "outputs": [],
   "source": [
    "#Export the buffers shp\n",
    "buffered_camera_df_500m.to_file(r\"C:\\Users\\thier\\Downloads\\Projet\\Projet\\buffers_500m.shp\")\n",
    "buffered_camera_df_1km.to_file(r\"C:\\Users\\thier\\Downloads\\Projet\\Projet\\buffers_1km.shp\")\n",
    "buffered_camera_df_2km.to_file(r\"C:\\Users\\thier\\Downloads\\Projet\\Projet\\buffers_2km.shp\")"
   ]
  },
  {
   "cell_type": "code",
   "execution_count": null,
   "metadata": {},
   "outputs": [],
   "source": [
    "buffered_camera_df_500m = buffered_camera_df_500m.reset_index().rename(columns={'index': 'camera'}) \n",
    "buffered_camera_df_1km = buffered_camera_df_1km.reset_index().rename(columns={'index': 'camera'})\n",
    "buffered_camera_df_2km = buffered_camera_df_2km.reset_index().rename(columns={'index': 'camera'})\n"
   ]
  },
  {
   "cell_type": "code",
   "execution_count": null,
   "metadata": {},
   "outputs": [],
   "source": [
    "buffered_camera_df_1km"
   ]
  },
  {
   "cell_type": "code",
   "execution_count": null,
   "metadata": {},
   "outputs": [],
   "source": [
    "# Create a new column 'id' with index values for 500m, 1km and 2km buffers\n",
    "buffered_camera_df_500m['id'] = buffered_camera_df_500m.index\n",
    "buffered_camera_df_500m\n",
    "buffered_camera_df_1km['id'] = buffered_camera_df_1km.index\n",
    "buffered_camera_df_1km\n",
    "buffered_camera_df_2km['id'] = buffered_camera_df_2km.index\n",
    "buffered_camera_df_2km"
   ]
  },
  {
   "cell_type": "code",
   "execution_count": null,
   "metadata": {},
   "outputs": [],
   "source": []
  },
  {
   "cell_type": "markdown",
   "metadata": {},
   "source": [
    "## Rivers"
   ]
  },
  {
   "cell_type": "markdown",
   "metadata": {},
   "source": [
    "### Set the rivers shp projection"
   ]
  },
  {
   "cell_type": "code",
   "execution_count": null,
   "metadata": {},
   "outputs": [],
   "source": [
    "print(\"CRS of rivieres:\", rivieres.crs)\n",
    "print(\"CRS of buffered_camera_df_500m:\", buffered_camera_df_500m.crs)"
   ]
  },
  {
   "cell_type": "code",
   "execution_count": null,
   "metadata": {},
   "outputs": [],
   "source": [
    "if rivieres.crs is None:\n",
    "    rivieres.crs = 'EPSG:26918'\n",
    "rivieres = rivieres.to_crs(buffered_camera_df_500m.crs)"
   ]
  },
  {
   "cell_type": "markdown",
   "metadata": {},
   "source": [
    "### Rivers buffers 500m"
   ]
  },
  {
   "cell_type": "code",
   "execution_count": null,
   "metadata": {},
   "outputs": [],
   "source": [
    "import geopandas as gpd\n",
    "import pandas as pd\n",
    "\n",
    "# Replace rivieres_1km with rivieres_500m, and buffered_camera_df_1km with buffered_camera_df_500m\n",
    "rivieres_500m = rivieres.overlay(buffered_camera_df_500m, how='intersection')\n",
    "rivieres_500m['length'] = rivieres_500m.geometry.length\n",
    "\n",
    "# Ensure that 'Site' and other necessary columns are included\n",
    "rivieres_500m_clean = rivieres_500m[['Site', 'length', 'geometry']]\n",
    "rivieres_500m_sum = rivieres_500m_clean.dissolve(by='Site', aggfunc='sum')\n",
    "\n",
    "# Update the file paths in the to_file and to_csv methods\n",
    "rivieres_500m_sum.to_file(r\"C:\\Users\\thier\\Downloads\\Projet\\rivieres_buffers_500m.shp\")\n",
    "rivieres_500m_sum.to_csv(r\"C:\\Users\\thier\\Downloads\\Projet\\rivieres_buffers_500m.csv\")\n",
    "\n",
    "# Print the result and plot it\n",
    "print(rivieres_500m_sum)\n",
    "rivieres_500m_sum.plot()\n"
   ]
  },
  {
   "cell_type": "markdown",
   "metadata": {},
   "source": [
    "### Rivers buffers 1km   "
   ]
  },
  {
   "cell_type": "code",
   "execution_count": null,
   "metadata": {},
   "outputs": [],
   "source": [
    "import geopandas as gpd\n",
    "import pandas as pd\n",
    "\n",
    "# Replace rivieres_2km with rivieres_1km, and buffered_camera_df_2km with buffered_camera_df_1km\n",
    "rivieres_1km = rivieres.overlay(buffered_camera_df_1km, how='intersection')\n",
    "rivieres_1km['length'] = rivieres_1km.geometry.length\n",
    "\n",
    "# Ensure that 'Site' and other necessary columns are included\n",
    "rivieres_1km_clean = rivieres_1km[['Site', 'length', 'geometry']]\n",
    "rivieres_1km_sum = rivieres_1km_clean.dissolve(by='Site', aggfunc='sum')\n",
    "\n",
    "# Update the file paths in the to_file and to_csv methods\n",
    "rivieres_1km_sum.to_file(r\"C:\\Users\\thier\\Downloads\\Projet\\rivieres_buffers_1km.shp\")\n",
    "rivieres_1km_sum.to_csv(r\"C:\\Users\\thier\\Downloads\\Projet\\rivieres_buffers_1km.csv\")\n",
    "\n",
    "# Print the result and plot it\n",
    "print(rivieres_1km_sum)\n",
    "rivieres_1km_sum.plot()\n"
   ]
  },
  {
   "cell_type": "markdown",
   "metadata": {},
   "source": [
    "### Rivers buffers 2km"
   ]
  },
  {
   "cell_type": "code",
   "execution_count": null,
   "metadata": {},
   "outputs": [],
   "source": [
    "import geopandas as gpd\n",
    "import pandas as pd\n",
    "\n",
    "# Replace roads_2km with rivieres_2km, and ensure buffered_camera_df_2km is correct\n",
    "rivieres_2km = rivieres.overlay(buffered_camera_df_2km, how='intersection')\n",
    "rivieres_2km['length'] = rivieres_2km.geometry.length\n",
    "\n",
    "# Ensure that 'Site' and other necessary columns are included\n",
    "rivieres_2km_clean = rivieres_2km[['Site', 'length', 'geometry']]\n",
    "rivieres_2km_sum = rivieres_2km_clean.dissolve(by='Site', aggfunc='sum')\n",
    "\n",
    "# Update the file paths in the to_file and to_csv methods\n",
    "rivieres_2km_sum.to_file(r\"C:\\Users\\thier\\Downloads\\Projet\\rivieres_buffers_2km.shp\")\n",
    "rivieres_2km_sum.to_csv(r\"C:\\Users\\thier\\Downloads\\Projet\\rivieres_buffers_2km.csv\")\n",
    "\n",
    "# Print the result and plot it\n",
    "print(rivieres_2km_sum)\n",
    "rivieres_2km_sum.plot()\n"
   ]
  },
  {
   "cell_type": "markdown",
   "metadata": {},
   "source": [
    "### ALL 3 buffers at the same time with a for loop"
   ]
  },
  {
   "cell_type": "code",
   "execution_count": null,
   "metadata": {},
   "outputs": [],
   "source": [
    "import openpyxl"
   ]
  },
  {
   "cell_type": "code",
   "execution_count": null,
   "metadata": {},
   "outputs": [],
   "source": [
    "import geopandas as gpd\n",
    "import pandas as pd\n",
    "\n",
    "def process_buffers(buffer_df, buffer_name, rivers_gdf, output_csv_path):\n",
    "    results_df = pd.DataFrame(columns=[\"Buffer Index\", \"Clipped Length\"])\n",
    "    clipped_results_gdf = gpd.GeoDataFrame()\n",
    "\n",
    "    for selected_buffer_index in range(len(buffer_df)):\n",
    "        selected_buffer = buffer_df.iloc[selected_buffer_index:selected_buffer_index + 1]\n",
    "        clipped_shp = gpd.overlay(rivers_gdf, selected_buffer, how='intersection')\n",
    "        clipped_length = clipped_shp.length.sum()\n",
    "        print(f\"{buffer_name} - Buffer Index {selected_buffer_index}: Clipped Length = {clipped_length}\")\n",
    "\n",
    "        results_df = pd.concat([results_df, pd.DataFrame({\"Buffer Index\": [selected_buffer_index], \"Clipped Length\": [clipped_length]})], ignore_index=True)\n",
    "        clipped_results_gdf = gpd.GeoDataFrame(pd.concat([clipped_results_gdf, clipped_shp]), crs=rivers_gdf.crs)\n",
    "\n",
    "    results_df.to_csv(output_csv_path, index=False)\n",
    "\n",
    "process_buffers(buffered_camera_df_500m, \"Rivers buffers 500m\", rivieres, r\"C:\\Users\\thier\\Downloads\\Projet\\Projet\\rivers_buffers_500m_test2.csv\")\n",
    "process_buffers(buffered_camera_df_1km, \"Rivers buffers 1km\", rivieres, r\"C:\\Users\\thier\\Downloads\\Projet\\Projet\\rivers_buffers_1km_test2.csv\")\n",
    "process_buffers(buffered_camera_df_2km, \"Rivers buffers 2km\", rivieres, r\"C:\\Users\\thier\\Downloads\\Projet\\\\Projet\\rivers_buffers_2km_test2.csv\")"
   ]
  },
  {
   "cell_type": "markdown",
   "metadata": {},
   "source": [
    "## Roads"
   ]
  },
  {
   "cell_type": "code",
   "execution_count": null,
   "metadata": {},
   "outputs": [],
   "source": [
    "print(\"CRS of roads:\", roads.crs)\n",
    "print(\"CRS of buffered_camera_df_500m:\", buffered_camera_df_1km.crs)"
   ]
  },
  {
   "cell_type": "code",
   "execution_count": null,
   "metadata": {},
   "outputs": [],
   "source": [
    "if roads.crs is None:\n",
    "    roads.crs = 'EPSG:26918'\n",
    "roads = roads.to_crs(buffered_camera_df_1km.crs)"
   ]
  },
  {
   "cell_type": "markdown",
   "metadata": {},
   "source": [
    "### Roads buffers 500m"
   ]
  },
  {
   "cell_type": "code",
   "execution_count": null,
   "metadata": {},
   "outputs": [],
   "source": [
    "import geopandas as gpd\n",
    "import pandas as pd\n",
    "\n",
    "# Replace railroad_500m with roads_500m, and ensure buffered_camera_df_500m is correct\n",
    "roads_500m = roads.overlay(buffered_camera_df_500m, how='intersection')\n",
    "roads_500m['length'] = roads_500m.geometry.length\n",
    "\n",
    "# Ensure that 'Site' and other necessary columns are included\n",
    "roads_500m_clean = roads_500m[['Site', 'length', 'geometry']]\n",
    "roads_500m_sum = roads_500m_clean.dissolve(by='Site', aggfunc='sum')\n",
    "\n",
    "# Update the file paths in the to_file and to_csv methods\n",
    "roads_500m_sum.to_file(r\"C:\\Users\\thier\\Downloads\\Projet\\roads_buffers_500m.shp\")\n",
    "roads_500m_sum.to_csv(r\"C:\\Users\\thier\\Downloads\\Projet\\roads_buffers_500m.csv\")\n",
    "\n",
    "# Print the result and plot it\n",
    "print(roads_500m_sum)\n",
    "roads_500m_sum.plot()\n"
   ]
  },
  {
   "cell_type": "markdown",
   "metadata": {},
   "source": [
    "### Roads buffers 1km"
   ]
  },
  {
   "cell_type": "code",
   "execution_count": null,
   "metadata": {},
   "outputs": [],
   "source": [
    "import geopandas as gpd\n",
    "import pandas as pd\n",
    "\n",
    "# Replace roads_500m with roads_1km, and buffered_camera_df_500m with buffered_camera_df_1km\n",
    "roads_1km = roads.overlay(buffered_camera_df_1km, how='intersection')\n",
    "roads_1km['length'] = roads_1km.geometry.length\n",
    "\n",
    "# Ensure that 'Site' and other necessary columns are included\n",
    "roads_1km_clean = roads_1km[['Site', 'length', 'geometry']]\n",
    "roads_1km_sum = roads_1km_clean.dissolve(by='Site', aggfunc='sum')\n",
    "\n",
    "# Update the file paths in the to_file and to_csv methods\n",
    "roads_1km_sum.to_file(r\"C:\\Users\\thier\\Downloads\\Projet\\roads_buffers_1km.shp\")\n",
    "roads_1km_sum.to_csv(r\"C:\\Users\\thier\\Downloads\\Projet\\roads_buffers_1km.csv\")\n",
    "\n",
    "# Print the result and plot it\n",
    "print(roads_1km_sum)\n",
    "roads_1km_sum.plot()\n"
   ]
  },
  {
   "cell_type": "markdown",
   "metadata": {},
   "source": [
    "### Roads buffers 2km"
   ]
  },
  {
   "cell_type": "code",
   "execution_count": null,
   "metadata": {},
   "outputs": [],
   "source": [
    "import geopandas as gpd\n",
    "import pandas as pd\n",
    "\n",
    "# Replace roads_1km with roads_2km, and buffered_camera_df_1km with buffered_camera_df_2km\n",
    "roads_2km = roads.overlay(buffered_camera_df_2km, how='intersection')\n",
    "roads_2km['length'] = roads_2km.geometry.length\n",
    "\n",
    "# Ensure that 'Site' and other necessary columns are included\n",
    "roads_2km_clean = roads_2km[['Site', 'length', 'geometry']]\n",
    "roads_2km_sum = roads_2km_clean.dissolve(by='Site', aggfunc='sum')\n",
    "\n",
    "# Update the file paths in the to_file and to_csv methods\n",
    "roads_2km_sum.to_file(r\"C:\\Users\\thier\\Downloads\\Projet\\roads_buffers_2km.shp\")\n",
    "roads_2km_sum.to_csv(r\"C:\\Users\\thier\\Downloads\\Projet\\roads_buffers_2km.csv\")\n",
    "\n",
    "# Print the result and plot it\n",
    "print(roads_2km_sum)\n",
    "roads_2km_sum.plot()\n"
   ]
  },
  {
   "cell_type": "markdown",
   "metadata": {},
   "source": [
    "## Railroads"
   ]
  },
  {
   "cell_type": "code",
   "execution_count": null,
   "metadata": {},
   "outputs": [],
   "source": [
    "print(\"CRS of roads:\", railroad.crs)\n",
    "print(\"CRS of buffered_camera_df_500m:\", buffered_camera_df_1km.crs)"
   ]
  },
  {
   "cell_type": "code",
   "execution_count": null,
   "metadata": {},
   "outputs": [],
   "source": [
    "if railroad.crs is None:\n",
    "    railroad.crs = 'EPSG:26918'\n",
    "railroad = railroad.to_crs(buffered_camera_df_1km.crs)"
   ]
  },
  {
   "cell_type": "markdown",
   "metadata": {},
   "source": [
    "### Railroad buffer 500m"
   ]
  },
  {
   "cell_type": "code",
   "execution_count": null,
   "metadata": {},
   "outputs": [],
   "source": [
    "import geopandas as gpd\n",
    "import pandas as pd\n",
    "\n",
    "# Replace railroad_1km with railroad_500m, and buffered_camera_df_1km with buffered_camera_df_500m\n",
    "railroad_500m = railroad.overlay(buffered_camera_df_500m, how='intersection')\n",
    "railroad_500m['length'] = railroad_500m.geometry.length\n",
    "\n",
    "# Ensure that 'Site' and other necessary columns are included\n",
    "railroad_500m_clean = railroad_500m[['Site', 'length', 'geometry']]\n",
    "railroad_500m_sum = railroad_500m_clean.dissolve(by='Site', aggfunc='sum')\n",
    "\n",
    "# Update the file paths in the to_file and to_csv methods\n",
    "railroad_500m_sum.to_file(r\"C:\\Users\\thier\\Downloads\\Projet\\railroad_buffers_500m.shp\")\n",
    "railroad_500m_sum.to_csv(r\"C:\\Users\\thier\\Downloads\\Projet\\railroad_buffers_500m.csv\")\n",
    "\n",
    "# Print the result and plot it\n",
    "print(railroad_500m_sum)\n",
    "railroad_500m_sum.plot()\n",
    "\n"
   ]
  },
  {
   "cell_type": "markdown",
   "metadata": {},
   "source": [
    "### Railroad buffers 1km"
   ]
  },
  {
   "cell_type": "code",
   "execution_count": null,
   "metadata": {},
   "outputs": [],
   "source": [
    "import geopandas as gpd\n",
    "import pandas as pd\n",
    "\n",
    "# Replace railroad_2km with railroad_1km, and buffered_camera_df_2km with buffered_camera_df_1km\n",
    "railroad_1km = railroad.overlay(buffered_camera_df_1km, how='intersection')\n",
    "railroad_1km['length'] = railroad_1km.geometry.length\n",
    "\n",
    "# Ensure that 'Site' and other necessary columns are included\n",
    "railroad_1km_clean = railroad_1km[['Site', 'length', 'geometry']]\n",
    "railroad_1km_sum = railroad_1km_clean.dissolve(by='Site', aggfunc='sum')\n",
    "\n",
    "# Update the file paths in the to_file and to_csv methods\n",
    "railroad_1km_sum.to_file(r\"C:\\Users\\thier\\Downloads\\Projet\\railroad_buffers_1km.shp\")\n",
    "railroad_1km_sum.to_csv(r\"C:\\Users\\thier\\Downloads\\Projet\\railroad_buffers_1km.csv\")\n",
    "\n",
    "# Print the result and plot it\n",
    "print(railroad_1km_sum)\n",
    "railroad_1km_sum.plot()\n"
   ]
  },
  {
   "cell_type": "markdown",
   "metadata": {},
   "source": [
    "### Railroad buffers 2km"
   ]
  },
  {
   "cell_type": "code",
   "execution_count": null,
   "metadata": {},
   "outputs": [],
   "source": [
    "import geopandas as gpd\n",
    "import pandas as pd\n",
    "\n",
    "# Replace railroad_1km with railroad_2km, and buffered_camera_df_1km with buffered_camera_df_2km\n",
    "railroad_2km = railroad.overlay(buffered_camera_df_2km, how='intersection')\n",
    "railroad_2km['length'] = railroad_2km.geometry.length\n",
    "\n",
    "# Ensure that 'Site' and other necessary columns are included\n",
    "railroad_2km_clean = railroad_2km[['Site', 'length', 'geometry']]\n",
    "railroad_2km_sum = railroad_2km_clean.dissolve(by='Site', aggfunc='sum')\n",
    "\n",
    "\n",
    "# Update the file paths in the to_file and to_csv methods\n",
    "railroad_2km_sum.to_file(r\"C:\\Users\\thier\\Downloads\\Projet\\railroad_buffers_2km_2.shp\")\n",
    "railroad_2km_sum.to_csv(r\"C:\\Users\\thier\\Downloads\\Projet\\railroad_buffers_2km.csv\")\n",
    "\n",
    "# Print the result and plot it\n",
    "print(railroad_2km_sum)\n",
    "railroad_2km_sum.plot()\n"
   ]
  },
  {
   "cell_type": "code",
   "execution_count": null,
   "metadata": {},
   "outputs": [],
   "source": [
    "railroad_2km_clean = railroad_2km[['Site', 'length', 'geometry']]"
   ]
  },
  {
   "cell_type": "code",
   "execution_count": null,
   "metadata": {},
   "outputs": [],
   "source": [
    "railroad_2km_clean"
   ]
  },
  {
   "cell_type": "code",
   "execution_count": null,
   "metadata": {},
   "outputs": [],
   "source": [
    "railroad_2km"
   ]
  },
  {
   "cell_type": "code",
   "execution_count": null,
   "metadata": {},
   "outputs": [],
   "source": [
    "import geopandas as gpd\n",
    "import pandas as pd\n",
    "\n",
    "# Join the railroad data with the individual buffers\n",
    "railroad_buffers_join_2km = gpd.sjoin(railroad, buffered_camera_df_2km, how='inner', predicate='intersects')\n",
    "\n",
    "# Calculate the length of each railroad segment\n",
    "railroad_buffers_join_2km['length'] = railroad_buffers_join_2km.geometry.length\n",
    "\n",
    "# Create an empty GeoDataFrame for the results\n",
    "results = gpd.GeoDataFrame(columns=railroad_buffers_join_2km.columns)\n",
    "\n",
    "# Iterate over each buffer and process individually\n",
    "for buffer_id, buffer_geom in buffered_camera_df_2km.iterrows():\n",
    "    # Clip the railroad data to the current buffer\n",
    "    clipped_railroad = railroad_buffers_join_2km[railroad_buffers_join_2km.intersects(buffer_geom.geometry)]\n",
    "\n",
    "    # Ensure clipped_railroad is a GeoDataFrame\n",
    "    if not isinstance(clipped_railroad, gpd.GeoDataFrame):\n",
    "        clipped_railroad = gpd.GeoDataFrame(clipped_railroad)\n",
    "\n",
    "    # Add the clipped data to the results GeoDataFrame\n",
    "    results = pd.concat([results, clipped_railroad])\n",
    "\n",
    "# Drop duplicates to handle overlaps\n",
    "# Replace 'railroad_id' and 'buffer_id' with actual column names\n",
    "#results = results.drop_duplicates(subset=['railroad_id', 'buffer_id'])\n",
    "\n",
    "# Group by 'Site' and sum lengths\n",
    "railroad_2km_grouped = results.dissolve('Site', aggfunc='sum')\n",
    "\n",
    "# Export in shp or CSV\n",
    "output_folder = r\"C:\\Users\\thier\\Downloads\\Projet\"\n",
    "railroad_2km_grouped.to_file(f\"{output_folder}\\\\railroad_buffers_2km.shp\")\n",
    "railroad_2km_grouped.to_csv(f\"{output_folder}\\\\railroad_buffers_2km.csv\")\n",
    "\n",
    "# Print the result\n",
    "print(railroad_2km_grouped)\n"
   ]
  },
  {
   "cell_type": "code",
   "execution_count": null,
   "metadata": {},
   "outputs": [],
   "source": [
    "print(type(results))"
   ]
  },
  {
   "cell_type": "markdown",
   "metadata": {},
   "source": [
    "## Slope"
   ]
  },
  {
   "cell_type": "code",
   "execution_count": null,
   "metadata": {},
   "outputs": [],
   "source": [
    "print(\"CRS of roads:\", slope.crs)\n",
    "print(\"CRS of buffered_camera_df_500m:\", buffered_camera_df_1km.crs)"
   ]
  },
  {
   "cell_type": "code",
   "execution_count": null,
   "metadata": {},
   "outputs": [],
   "source": [
    "if slope.crs is None:\n",
    "    slope.crs = 'EPSG:26918'\n",
    "slope = slope.to_crs(buffered_camera_df_1km.crs)"
   ]
  },
  {
   "cell_type": "code",
   "execution_count": null,
   "metadata": {},
   "outputs": [],
   "source": [
    "slope"
   ]
  },
  {
   "cell_type": "markdown",
   "metadata": {},
   "source": [
    "### Slope buffer 500m"
   ]
  },
  {
   "cell_type": "code",
   "execution_count": null,
   "metadata": {},
   "outputs": [],
   "source": [
    "import geopandas as gpd\n",
    "import pandas as pd\n",
    "\n",
    "slope_500m = slope.overlay(buffered_camera_df_500m, how='intersection')\n",
    "slope_500m[\"area\"]=slope_500m[\"geometry\"].area\n",
    "# Initialize an empty list to store the results\n",
    "all_sites = []\n",
    "\n",
    "# Iterate over each unique site\n",
    "for site in slope_500m['Site'].unique():\n",
    "    # Filter the data for the current site\n",
    "    slope_site = slope_500m[slope_500m[\"Site\"] == site]\n",
    "\n",
    "    # Dissolve by 'CL_PENT' and sum 'superficie'\n",
    "    dissolved = slope_site.dissolve(by=['CL_PENT', 'Site'], aggfunc={'area':'sum'})\n",
    "\n",
    "    # Store the result\n",
    "    all_sites.append(dissolved)\n",
    "\n",
    "# Concatenate all the results into a single GeoDataFrame\n",
    "slope_500m_gdf = pd.concat(all_sites).reset_index()\n",
    "\n",
    "# Save the GeoDataFrame\n",
    "slope_500m_gdf.to_file(r\"C:\\Users\\thier\\Downloads\\Projet\\slope_500m.shp\")\n",
    "slope_500m_gdf.to_csv(r\"C:\\Users\\thier\\Downloads\\Projet\\slope_500m.csv\")\n",
    "\n",
    "# Print and plot the result\n",
    "slope_500m_gdf, slope_500m_gdf.plot()\n"
   ]
  },
  {
   "cell_type": "markdown",
   "metadata": {},
   "source": [
    "### Slope buffers 1km"
   ]
  },
  {
   "cell_type": "code",
   "execution_count": null,
   "metadata": {},
   "outputs": [],
   "source": [
    "import geopandas as gpd\n",
    "import pandas as pd\n",
    "\n",
    "# Assuming buffered_camera_df_1km is your new GeoDataFrame with 1 km buffers\n",
    "slope_1km = slope.overlay(buffered_camera_df_1km, how='intersection')\n",
    "slope_1km[\"area\"] = slope_1km[\"geometry\"].area\n",
    "\n",
    "# Initialize an empty list to store the results\n",
    "all_sites = []\n",
    "\n",
    "# Iterate over each unique site\n",
    "for site in slope_1km['Site'].unique():\n",
    "    # Filter the data for the current site\n",
    "    slope_site = slope_1km[slope_1km[\"Site\"] == site]\n",
    "\n",
    "    # Dissolve by 'CL_PENT' and sum 'area'\n",
    "    dissolved = slope_site.dissolve(by=['CL_PENT', 'Site'], aggfunc={'area': 'sum'})\n",
    "\n",
    "    # Store the result\n",
    "    all_sites.append(dissolved)\n",
    "\n",
    "# Concatenate all the results into a single GeoDataFrame\n",
    "slope_1km_gdf = pd.concat(all_sites).reset_index()\n",
    "\n",
    "# Save the GeoDataFrame\n",
    "slope_1km_gdf.to_file(r\"C:\\Users\\thier\\Downloads\\Projet\\slope_1km.shp\")\n",
    "slope_1km_gdf.to_csv(r\"C:\\Users\\thier\\Downloads\\Projet\\slope_1km.csv\")\n",
    "\n",
    "# Print and plot the result\n",
    "slope_1km_gdf, slope_1km_gdf.plot()\n"
   ]
  },
  {
   "cell_type": "markdown",
   "metadata": {},
   "source": [
    "### Slope buffers 2km"
   ]
  },
  {
   "cell_type": "code",
   "execution_count": null,
   "metadata": {},
   "outputs": [],
   "source": [
    "import geopandas as gpd\n",
    "import pandas as pd\n",
    "\n",
    "# Assuming buffered_camera_df_2km is your new GeoDataFrame with 2 km buffers\n",
    "slope_2km = slope.overlay(buffered_camera_df_2km, how='intersection')\n",
    "slope_2km[\"area\"] = slope_2km[\"geometry\"].area\n",
    "\n",
    "# Initialize an empty list to store the results\n",
    "all_sites = []\n",
    "\n",
    "# Iterate over each unique site\n",
    "for site in slope_2km['Site'].unique():\n",
    "    # Filter the data for the current site\n",
    "    slope_site = slope_2km[slope_2km[\"Site\"] == site]\n",
    "\n",
    "    # Dissolve by 'CL_PENT' and sum 'area'\n",
    "    dissolved = slope_site.dissolve(by=['CL_PENT', 'Site'], aggfunc={'area': 'sum'})\n",
    "\n",
    "    # Store the result\n",
    "    all_sites.append(dissolved)\n",
    "\n",
    "# Concatenate all the results into a single GeoDataFrame\n",
    "slope_2km_gdf = pd.concat(all_sites).reset_index()\n",
    "\n",
    "# Save the GeoDataFrame\n",
    "slope_2km_gdf.to_file(r\"C:\\Users\\thier\\Downloads\\Projet\\slope_2km.shp\")\n",
    "slope_2km_gdf.to_csv(r\"C:\\Users\\thier\\Downloads\\Projet\\slope_2km.csv\")\n",
    "\n",
    "# Print and plot the result\n",
    "slope_2km_gdf, slope_2km_gdf.plot()\n"
   ]
  },
  {
   "cell_type": "markdown",
   "metadata": {},
   "source": [
    "## Landcover type"
   ]
  },
  {
   "cell_type": "code",
   "execution_count": null,
   "metadata": {},
   "outputs": [],
   "source": [
    "import pandas as pd"
   ]
  },
  {
   "cell_type": "code",
   "execution_count": null,
   "metadata": {},
   "outputs": [],
   "source": [
    "print(\"CRS of roads:\", landcover.crs)\n",
    "print(\"CRS of buffered_camera_df_500m:\", buffered_camera_df_1km.crs)"
   ]
  },
  {
   "cell_type": "code",
   "execution_count": null,
   "metadata": {},
   "outputs": [],
   "source": [
    "pd.set_option('display.max_columns', None)\n",
    "landcover.head(20)"
   ]
  },
  {
   "cell_type": "code",
   "execution_count": null,
   "metadata": {},
   "outputs": [],
   "source": [
    "landcover.to_csv(r\"C:\\Users\\thier\\Downloads\\Projet\\Projet\\landcover.csv\", index=False)"
   ]
  },
  {
   "cell_type": "code",
   "execution_count": null,
   "metadata": {},
   "outputs": [],
   "source": [
    "#Clip the rivers with the buffers\n",
    "clip_rivers_500m = gpd.clip(roads, buffered_camera_df_1km)\n",
    "clip_rivers_500m"
   ]
  },
  {
   "cell_type": "markdown",
   "metadata": {},
   "source": [
    "### Landcover buffers 500m"
   ]
  },
  {
   "cell_type": "code",
   "execution_count": null,
   "metadata": {},
   "outputs": [],
   "source": [
    "landcover\n"
   ]
  },
  {
   "cell_type": "code",
   "execution_count": null,
   "metadata": {},
   "outputs": [],
   "source": [
    "import geopandas as gpd\n",
    "import pandas as pd\n",
    "\n",
    "# Assuming buffered_camera_df_500m is your GeoDataFrame with 500m buffers\n",
    "landcover_500m = landcover.overlay(buffered_camera_df_500m, how='intersection')\n",
    "landcover_500m[\"area\"] = landcover_500m[\"geometry\"].area\n",
    "\n",
    "# Initialize an empty list to store the results\n",
    "all_sites = []\n",
    "\n",
    "# Iterate over each unique site\n",
    "for site in landcover_500m['Site'].unique():\n",
    "    # Filter the data for the current site\n",
    "    landcover_site = landcover_500m[landcover_500m[\"Site\"] == site]\n",
    "\n",
    "    # Dissolve by 'CL_PENT' and sum 'area'\n",
    "    dissolved = landcover_site.dissolve(by=['TYPE_TER', 'Site'], aggfunc={'area': 'sum'})\n",
    "\n",
    "    # Store the result\n",
    "    all_sites.append(dissolved)\n",
    "\n",
    "# Concatenate all the results into a single GeoDataFrame\n",
    "landcover_500m_gdf = pd.concat(all_sites).reset_index()\n",
    "\n",
    "# Save the GeoDataFrame\n",
    "landcover_500m_gdf.to_file(r\"C:\\Users\\thier\\Downloads\\Projet\\landcover_500m.shp\")\n",
    "landcover_500m_gdf.to_csv(r\"C:\\Users\\thier\\Downloads\\Projet\\landcover_500m.csv\")\n",
    "\n",
    "# Print and plot the result\n",
    "landcover_500m_gdf, landcover_500m_gdf.plot()\n"
   ]
  },
  {
   "cell_type": "markdown",
   "metadata": {},
   "source": [
    "### Landcover buffers 1km"
   ]
  },
  {
   "cell_type": "code",
   "execution_count": null,
   "metadata": {},
   "outputs": [],
   "source": [
    "import geopandas as gpd\n",
    "import pandas as pd\n",
    "\n",
    "# Assuming buffered_camera_df_1km is your GeoDataFrame with 1km buffers\n",
    "landcover_1km = landcover.overlay(buffered_camera_df_1km, how='intersection')\n",
    "landcover_1km[\"area\"] = landcover_1km[\"geometry\"].area\n",
    "\n",
    "# Initialize an empty list to store the results\n",
    "all_sites = []\n",
    "\n",
    "# Iterate over each unique site\n",
    "for site in landcover_1km['Site'].unique():\n",
    "    # Filter the data for the current site\n",
    "    landcover_site = landcover_1km[landcover_1km[\"Site\"] == site]\n",
    "\n",
    "    # Dissolve by 'TYPE_TER' and sum 'area'\n",
    "    dissolved = landcover_site.dissolve(by=['TYPE_TER', 'Site'], aggfunc={'area': 'sum'})\n",
    "\n",
    "    # Store the result\n",
    "    all_sites.append(dissolved)\n",
    "\n",
    "# Concatenate all the results into a single GeoDataFrame\n",
    "landcover_1km_gdf = pd.concat(all_sites).reset_index()\n",
    "\n",
    "# Save the GeoDataFrame\n",
    "landcover_1km_gdf.to_file(r\"C:\\Users\\thier\\Downloads\\Projet\\landcover_1km.shp\")\n",
    "landcover_1km_gdf.to_csv(r\"C:\\Users\\thier\\Downloads\\Projet\\landcover_1km.csv\")\n",
    "\n",
    "# Print and plot the result\n",
    "landcover_1km_gdf, landcover_1km_gdf.plot()\n"
   ]
  },
  {
   "cell_type": "code",
   "execution_count": null,
   "metadata": {},
   "outputs": [],
   "source": [
    "import folium\n",
    "landcover_1km_gdf.explore(column='TYPE_TER', cmap='tab20', legend_name='Land Cover')"
   ]
  },
  {
   "cell_type": "markdown",
   "metadata": {},
   "source": [
    "### Landcover buffers 2km"
   ]
  },
  {
   "cell_type": "code",
   "execution_count": null,
   "metadata": {},
   "outputs": [],
   "source": [
    "import geopandas as gpd\n",
    "import pandas as pd\n",
    "\n",
    "# Assuming buffered_camera_df_2km is your GeoDataFrame with 2km buffers\n",
    "landcover_2km = landcover.overlay(buffered_camera_df_2km, how='intersection')\n",
    "landcover_2km[\"area\"] = landcover_2km[\"geometry\"].area\n",
    "\n",
    "# Initialize an empty list to store the results\n",
    "all_sites = []\n",
    "\n",
    "# Iterate over each unique site\n",
    "for site in landcover_2km['Site'].unique():\n",
    "    # Filter the data for the current site\n",
    "    landcover_site = landcover_2km[landcover_2km[\"Site\"] == site]\n",
    "\n",
    "    # Dissolve by 'TYPE_TER' and sum 'area'\n",
    "    dissolved = landcover_site.dissolve(by=['TYPE_TER', 'Site'], aggfunc={'area': 'sum'})\n",
    "\n",
    "    # Store the result\n",
    "    all_sites.append(dissolved)\n",
    "\n",
    "# Concatenate all the results into a single GeoDataFrame\n",
    "landcover_2km_gdf = pd.concat(all_sites).reset_index()\n",
    "\n",
    "# Save the GeoDataFrame\n",
    "landcover_2km_gdf.to_file(r\"C:\\Users\\thier\\Downloads\\Projet\\landcover_2km.shp\")\n",
    "landcover_2km_gdf.to_csv(r\"C:\\Users\\thier\\Downloads\\Projet\\landcover_2km.csv\")\n",
    "\n",
    "# Print and plot the result\n",
    "landcover_2km_gdf, landcover_2km_gdf.plot()\n"
   ]
  },
  {
   "cell_type": "code",
   "execution_count": null,
   "metadata": {},
   "outputs": [],
   "source": [
    "import folium\n",
    "landcover_2km_gdf.explore(column='TYPE_TER', cmap='tab20', legend_name='Land Cover')"
   ]
  },
  {
   "cell_type": "markdown",
   "metadata": {},
   "source": [
    "## Utilisation du sol"
   ]
  },
  {
   "cell_type": "markdown",
   "metadata": {},
   "source": [
    "### Check projection first\n"
   ]
  },
  {
   "cell_type": "code",
   "execution_count": null,
   "metadata": {},
   "outputs": [],
   "source": [
    "print(\"CRS of roads:\", sol.crs)\n",
    "print(\"CRS of buffered_camera_df_500m:\", buffered_camera_df_500m.crs)"
   ]
  },
  {
   "cell_type": "markdown",
   "metadata": {},
   "source": [
    "### Sol buffers 500m"
   ]
  },
  {
   "cell_type": "code",
   "execution_count": null,
   "metadata": {},
   "outputs": [],
   "source": [
    "buffered_camera_df_500m"
   ]
  },
  {
   "cell_type": "code",
   "execution_count": null,
   "metadata": {},
   "outputs": [],
   "source": [
    "import geopandas as gpd\n",
    "import pandas as pd\n",
    "\n",
    "aggregated_results = pd.DataFrame()\n",
    "\n",
    "for selected_buffer_index in range(len(buffered_camera_df_500m)):\n",
    "    selected_buffer = buffered_camera_df_500m.iloc[selected_buffer_index:selected_buffer_index + 1]\n",
    "    clipped_shp = gpd.overlay(sol, selected_buffer, how='intersection')\n",
    "\n",
    "    if 'Camera' in clipped_shp.columns and 'DESC_CAT' in clipped_shp.columns and 'Shape_Area' in clipped_shp.columns:\n",
    "        grouped_data = clipped_shp.groupby(['Camera', 'DESC_CAT'])['Shape_Area'].sum().reset_index()\n",
    "        grouped_data = grouped_data.rename(columns={'Shape_Area': 'Superficie_m2', 'DESC_CAT': 'Type sol'})\n",
    "        aggregated_results = pd.concat([aggregated_results, grouped_data], ignore_index=True)\n",
    "        \n",
    "# Export the file\n",
    "aggregated_results.to_csv(r\"C:\\Users\\thier\\Downloads\\Projet\\Projet\\sol_buffers_500m_4.csv\", index=False)\n",
    "aggregated_results"
   ]
  },
  {
   "cell_type": "code",
   "execution_count": null,
   "metadata": {},
   "outputs": [],
   "source": [
    "import fiona\n",
    "fiona.supported_drivers "
   ]
  },
  {
   "cell_type": "code",
   "execution_count": null,
   "metadata": {},
   "outputs": [],
   "source": [
    "roads"
   ]
  },
  {
   "cell_type": "code",
   "execution_count": null,
   "metadata": {},
   "outputs": [],
   "source": [
    "#Clip the roads with the buffers\n",
    "sol_500m = gpd.overlay(roads, buffered_camera_df_500m, how='intersection')\n",
    "#Clean the dataframe    \n",
    "df_clean = [\"Camera\", \"Shape_Leng\", \"geometry\", \"ClsRte\"]\n",
    "sol_500m= sol_500m[df_clean]\n",
    "#Aggregate the data\n",
    "df_sol_500m = sol_500m.dissolve(by='Camera', aggfunc='sum').drop(columns=\"ClsRte\").reset_index()\n",
    "#Export the file in shp or csv\n",
    "#df_sol_500m.to_file(r\"C:\\Users\\thier\\Downloads\\Projet\\Projet\\sol_buffers_500m_9.shp\")\n",
    "df_sol_500m.to_csv(r\"C:\\Users\\thier\\Downloads\\Projet\\Projet\\sol_buffers_500m_9.csv\", index=False)\n"
   ]
  },
  {
   "cell_type": "code",
   "execution_count": null,
   "metadata": {},
   "outputs": [],
   "source": [
    "test3 = df_sol_500m.rename(columns={'Shape_Leng': 'Longueur_m2'})"
   ]
  },
  {
   "cell_type": "code",
   "execution_count": null,
   "metadata": {},
   "outputs": [],
   "source": [
    "test3"
   ]
  },
  {
   "cell_type": "code",
   "execution_count": null,
   "metadata": {},
   "outputs": [],
   "source": [
    "print(type(df_sol_500m))"
   ]
  },
  {
   "cell_type": "code",
   "execution_count": null,
   "metadata": {},
   "outputs": [],
   "source": [
    "grouped_sol_500m = grouped_sol_500m.rename(columns={'Shape_Area': 'Superficie_m2', 'DESC_CAT': 'Type sol'})\n"
   ]
  },
  {
   "cell_type": "code",
   "execution_count": null,
   "metadata": {},
   "outputs": [],
   "source": [
    "import geopandas as gpd\n",
    "\n",
    "# Create a GeoDataFrame from grouped_sol_500m\n",
    "grouped_sol_500m_gdf = gpd.GeoDataFrame(grouped_sol_500m)\n",
    "\n",
    "# Now you have a GeoDataFrame with the \"geometry\" column assigned\n"
   ]
  },
  {
   "cell_type": "code",
   "execution_count": null,
   "metadata": {},
   "outputs": [],
   "source": [
    "grouped_sol_500m.to_file(r\"C:\\Users\\thier\\Downloads\\Projet\\Projet\\roads_buffers_500m_5.shp\")"
   ]
  },
  {
   "cell_type": "code",
   "execution_count": null,
   "metadata": {},
   "outputs": [],
   "source": [
    "grouped_sol_500m.to_file(r\"C:\\Users\\thier\\Downloads\\Projet\\Projet\\sol_buffers_500m_5.shp\")"
   ]
  },
  {
   "cell_type": "markdown",
   "metadata": {},
   "source": [
    "### Sol buffer 1km"
   ]
  },
  {
   "cell_type": "code",
   "execution_count": null,
   "metadata": {},
   "outputs": [],
   "source": [
    "import geopandas as gpd\n",
    "import pandas as pd\n",
    "\n",
    "aggregated_results = pd.DataFrame()\n",
    "\n",
    "for selected_buffer_index in range(len(buffered_camera_df_1km)):\n",
    "    selected_buffer = buffered_camera_df_1km.iloc[selected_buffer_index:selected_buffer_index + 1]\n",
    "    clipped_shp = gpd.overlay(sol, selected_buffer, how='intersection')\n",
    "\n",
    "    if 'id' in clipped_shp.columns and 'DESC_CAT' in clipped_shp.columns and 'Shape_Area' in clipped_shp.columns:\n",
    "        grouped_data = clipped_shp.groupby(['id', 'DESC_CAT'])['Shape_Area'].sum().reset_index()\n",
    "        grouped_data = grouped_data.rename(columns={'Shape_Area': 'Superficie_m2', 'DESC_CAT': 'Type sol'})\n",
    "        aggregated_results = pd.concat([aggregated_results, grouped_data], ignore_index=True)\n",
    "        \n",
    "# Export the file\n",
    "aggregated_results.to_csv(r\"C:\\Users\\thier\\Downloads\\Projet\\Projet\\sol_buffers_1km.csv\", index=False)\n",
    "aggregated_results"
   ]
  },
  {
   "cell_type": "markdown",
   "metadata": {},
   "source": [
    "### Sol buffer 2km"
   ]
  },
  {
   "cell_type": "code",
   "execution_count": null,
   "metadata": {},
   "outputs": [],
   "source": [
    "import geopandas as gpd\n",
    "import pandas as pd\n",
    "\n",
    "aggregated_results = pd.DataFrame()\n",
    "\n",
    "for selected_buffer_index in range(len(buffered_camera_df_2km)):\n",
    "    selected_buffer = buffered_camera_df_2km.iloc[selected_buffer_index:selected_buffer_index + 1]\n",
    "    clipped_shp = gpd.overlay(sol, selected_buffer, how='intersection')\n",
    "\n",
    "    if 'id' in clipped_shp.columns and 'id' in clipped_shp.columns and 'Shape_Area' in clipped_shp.columns:\n",
    "        grouped_data = clipped_shp.groupby(['Site', 'DESC_CAT'])['Shape_Area'].sum().reset_index()\n",
    "        grouped_data = grouped_data.rename(columns={'Shape_Area': 'Superficie_m2', 'DESC_CAT': 'Type sol'})\n",
    "        aggregated_results = pd.concat([aggregated_results, grouped_data], ignore_index=True)\n",
    "        \n",
    "# Export the file\n",
    "aggregated_results.to_csv(r\"C:\\Users\\thier\\Downloads\\Projet\\Projet\\sol_buffers_2km.csv\", index=False)\n",
    "aggregated_results"
   ]
  },
  {
   "cell_type": "code",
   "execution_count": null,
   "metadata": {},
   "outputs": [],
   "source": [
    "import geopandas as gpd\n",
    "import pandas as pd\n",
    "\n",
    "def process_buffers(buffer_df, buffer_name, rivers_gdf, output_csv_path):\n",
    "    results_df = pd.DataFrame(columns=[\"Buffer Index\", \"Clipped Length\"])\n",
    "    clipped_results_gdf = gpd.GeoDataFrame()\n",
    "\n",
    "    for selected_buffer_index in range(len(buffer_df)):\n",
    "        selected_buffer = buffer_df.iloc[selected_buffer_index:selected_buffer_index + 1]\n",
    "        clipped_shp = gpd.overlay(rivers_gdf, selected_buffer, how='intersection')\n",
    "        clipped_length = clipped_shp.length.sum()\n",
    "        print(f\"{buffer_name} - Buffer Index {selected_buffer_index}: Clipped Length = {clipped_length}\")\n",
    "\n",
    "        results_df = pd.concat([results_df, pd.DataFrame({\"Buffer Index\": [selected_buffer_index], \"Clipped Length\": [clipped_length]})], ignore_index=True)\n",
    "        clipped_results_gdf = gpd.GeoDataFrame(pd.concat([clipped_results_gdf, clipped_shp]), crs=rivers_gdf.crs)\n",
    "\n",
    "    results_df.to_csv(output_csv_path, index=False)\n",
    "    # Optionally save the GeoDataFrame as well\n",
    "    # clipped_results_gdf.to_file(output_csv_path.replace('.csv', '.shp'))\n",
    "\n",
    "# Assuming 'rivieres' is your rivers GeoDataFrame\n",
    "# And you have buffered_camera_df_500m, buffered_camera_df_1km, buffered_camera_df_2km defined\n",
    "\n",
    "process_buffers(buffered_camera_df_500m, \"Rivers buffers 500m\", rivieres, r\"C:\\Users\\thier\\Downloads\\Projet\\Projet\\rivers_buffers_500m_test.csv\")\n",
    "process_buffers(buffered_camera_df_1km, \"Rivers buffers 1km\", rivieres, r\"C:\\Users\\thier\\Downloads\\Projet\\Projet\\rivers_buffers_1km_test.csv\")\n",
    "process_buffers(buffered_camera_df_2km, \"Rivers buffers 2km\", rivieres, r\"C:\\Users\\thier\\Downloads\\Projet\\\\Projet\\rivers_buffers_2km_test.csv\")\n"
   ]
  },
  {
   "cell_type": "markdown",
   "metadata": {},
   "source": []
  }
 ],
 "metadata": {
  "kernelspec": {
   "display_name": "Python 3",
   "language": "python",
   "name": "python3"
  },
  "language_info": {
   "codemirror_mode": {
    "name": "ipython",
    "version": 3
   },
   "file_extension": ".py",
   "mimetype": "text/x-python",
   "name": "python",
   "nbconvert_exporter": "python",
   "pygments_lexer": "ipython3",
   "version": "3.12.1"
  }
 },
 "nbformat": 4,
 "nbformat_minor": 2
}
