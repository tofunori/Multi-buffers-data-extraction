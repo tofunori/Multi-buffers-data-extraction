{
 "cells": [
  {
   "cell_type": "markdown",
   "metadata": {},
   "source": [
    "# Project PICOM"
   ]
  },
  {
   "cell_type": "markdown",
   "metadata": {},
   "source": [
    "## Import the libraries and files"
   ]
  },
  {
   "cell_type": "code",
   "execution_count": null,
   "metadata": {},
   "outputs": [],
   "source": [
    "import geopandas as gpd\n",
    "import pandas as pd \n",
    "import matplotlib.pyplot as plt"
   ]
  },
  {
   "cell_type": "code",
   "execution_count": null,
   "metadata": {},
   "outputs": [],
   "source": [
    "#Import the files\n",
    "camera_df = gpd.read_file(r\"C:\\Users\\thier\\Downloads\\Projet\\Projet\\Cameras.shp\")\n",
    "rivieres = gpd.read_file(r\"C:\\Users\\thier\\Downloads\\Projet\\Projet\\Rivieres.shp\")\n",
    "roads = gpd.read_file(r\"C:\\Users\\thier\\Downloads\\Projet\\Projet\\Reseau_Routier.shp\")\n",
    "railroad = gpd.read_file(r\"C:\\Users\\thier\\Downloads\\Projet\\Projet\\Reseau_Ferroviaire.shp\")\n",
    "slope = gpd.read_file(r\"C:\\Users\\thier\\Downloads\\Projet\\Projet\\Pente.shp\")\n",
    "landcover = gpd.read_file(r\"C:\\Users\\thier\\Downloads\\Projet\\Projet\\Type_Couverture.shp\")\n",
    "sol = gpd.read_file(r\"C:\\Users\\thier\\Downloads\\Projet\\Projet\\utilisation_territoire2.shp\")\n"
   ]
  },
  {
   "cell_type": "code",
   "execution_count": null,
   "metadata": {},
   "outputs": [],
   "source": [
    "#export the camera dataframe\n",
    "camera_df.to_file(r\"C:\\Users\\thier\\Downloads\\Projet\\Projet\\points.shp\", )\n",
    "camera_df"
   ]
  },
  {
   "cell_type": "code",
   "execution_count": null,
   "metadata": {},
   "outputs": [],
   "source": [
    "roads.plot()    "
   ]
  },
  {
   "cell_type": "code",
   "execution_count": null,
   "metadata": {},
   "outputs": [],
   "source": [
    "camera_df"
   ]
  },
  {
   "cell_type": "code",
   "execution_count": null,
   "metadata": {},
   "outputs": [],
   "source": [
    "camera_df = camera_df.set_index(\"Site\")"
   ]
  },
  {
   "cell_type": "code",
   "execution_count": null,
   "metadata": {},
   "outputs": [],
   "source": [
    "camera_df.plot()"
   ]
  },
  {
   "cell_type": "code",
   "execution_count": null,
   "metadata": {},
   "outputs": [],
   "source": [
    "#Make sure the projection is the right one\n",
    "camera_df = camera_df.to_crs('EPSG:26918')"
   ]
  },
  {
   "cell_type": "markdown",
   "metadata": {},
   "source": [
    "### Create buffers of 500m, 1km and 2km"
   ]
  },
  {
   "cell_type": "code",
   "execution_count": null,
   "metadata": {},
   "outputs": [],
   "source": [
    "#Create buffers for each cameras\n",
    "buffered_geometries_500m = camera_df.geometry.apply(lambda geom: geom.buffer(500))\n",
    "buffered_geometries_1km = camera_df.geometry.apply(lambda geom: geom.buffer(1000))\n",
    "buffered_geometries_2km = camera_df.geometry.apply(lambda geom: geom.buffer(2000))\n",
    "\n",
    "# Create GeoDataFrames for each buffer\n",
    "buffered_camera_df_500m = gpd.GeoDataFrame(geometry=buffered_geometries_500m, crs=camera_df.crs)\n",
    "buffered_camera_df_1km = gpd.GeoDataFrame(geometry=buffered_geometries_1km, crs=camera_df.crs)\n",
    "buffered_camera_df_2km = gpd.GeoDataFrame(geometry=buffered_geometries_2km, crs=camera_df.crs)\n"
   ]
  },
  {
   "cell_type": "code",
   "execution_count": null,
   "metadata": {},
   "outputs": [],
   "source": [
    "#Export the buffers shp\n",
    "buffered_camera_df_500m.to_file(r\"C:\\Users\\thier\\Downloads\\Projet\\Projet\\buffers_500m.shp\")\n",
    "buffered_camera_df_1km.to_file(r\"C:\\Users\\thier\\Downloads\\Projet\\Projet\\buffers_1km.shp\")\n",
    "buffered_camera_df_2km.to_file(r\"C:\\Users\\thier\\Downloads\\Projet\\Projet\\buffers_2km.shp\")"
   ]
  },
  {
   "cell_type": "code",
   "execution_count": null,
   "metadata": {},
   "outputs": [],
   "source": [
    "buffered_camera_df_500m = buffered_camera_df_500m.reset_index().rename(columns={'index': 'camera'})\n",
    "#buffered_camera_df_500m = buffered_camera_df_500m.rename(columns={'Site': 'camera'}, inplace=True)"
   ]
  },
  {
   "cell_type": "code",
   "execution_count": null,
   "metadata": {},
   "outputs": [],
   "source": [
    "buffered_camera_df_500m"
   ]
  },
  {
   "cell_type": "code",
   "execution_count": null,
   "metadata": {},
   "outputs": [],
   "source": [
    "# Create a new column 'id' with index values for 500m, 1km and 2km buffers\n",
    "buffered_camera_df_500m['id'] = buffered_camera_df_500m.index\n",
    "buffered_camera_df_500m\n",
    "buffered_camera_df_1km['id'] = buffered_camera_df_1km.index\n",
    "buffered_camera_df_1km\n",
    "buffered_camera_df_2km['id'] = buffered_camera_df_2km.index\n",
    "buffered_camera_df_2km"
   ]
  },
  {
   "cell_type": "code",
   "execution_count": null,
   "metadata": {},
   "outputs": [],
   "source": []
  },
  {
   "cell_type": "markdown",
   "metadata": {},
   "source": [
    "## Rivers"
   ]
  },
  {
   "cell_type": "markdown",
   "metadata": {},
   "source": [
    "### Set the rivers shp projection"
   ]
  },
  {
   "cell_type": "code",
   "execution_count": null,
   "metadata": {},
   "outputs": [],
   "source": [
    "print(\"CRS of rivieres:\", rivieres.crs)\n",
    "print(\"CRS of buffered_camera_df_500m:\", buffered_camera_df_500m.crs)"
   ]
  },
  {
   "cell_type": "code",
   "execution_count": null,
   "metadata": {},
   "outputs": [],
   "source": [
    "if rivieres.crs is None:\n",
    "    rivieres.crs = 'EPSG:26918'\n",
    "rivieres = rivieres.to_crs(buffered_camera_df_500m.crs)"
   ]
  },
  {
   "cell_type": "markdown",
   "metadata": {},
   "source": [
    "### Rivers buffers 500m"
   ]
  },
  {
   "cell_type": "code",
   "execution_count": null,
   "metadata": {},
   "outputs": [],
   "source": [
    "import geopandas as gpd\n",
    "import pandas as pd\n",
    "\n",
    "results_df = pd.DataFrame(columns=[\"Buffer Index\", \"Clipped Length\"])\n",
    "\n",
    "# Create an empty GeoDataFrame to store the clipped results\n",
    "clipped_results_gdf = gpd.GeoDataFrame()\n",
    "\n",
    "# Assuming you have a GeoDataFrame called 'rivieres'\n",
    "for selected_buffer_index in range(len(buffered_camera_df_500m)):\n",
    "    selected_buffer = buffered_camera_df_500m.iloc[selected_buffer_index:selected_buffer_index + 1]\n",
    "    clipped_shp = gpd.overlay(rivieres, selected_buffer, how='intersection')\n",
    "    clipped_length = clipped_shp.length.sum()\n",
    "    print(f\"Buffer Index {selected_buffer_index}: Clipped Length = {clipped_length}\")\n",
    "    #clipped_shp.plot()\n",
    "    results_df = pd.concat([results_df, pd.DataFrame({\"Buffer Index\": [selected_buffer_index], \"Clipped Length\": [clipped_length]})], ignore_index=True)\n",
    "    clipped_results_gdf = gpd.GeoDataFrame(pd.concat([clipped_results_gdf, clipped_shp]), crs=rivieres.crs)\n",
    "\n",
    "# Export the results DataFrame to a CSV file\n",
    "results_df.to_csv(r\"C:\\Users\\thier\\Downloads\\Projet\\Projet\\rivers_buffers_500m.csv\", index=False)\n",
    "\n",
    "# Export the clipped results GeoDataFrame to a shapefile\n",
    "#clipped_results_gdf.to_file(r\"C:\\Users\\thier\\Downloads\\Projet\\Projet\\rivers_500m.shp\")\n"
   ]
  },
  {
   "cell_type": "markdown",
   "metadata": {},
   "source": [
    "### Rivers buffers 1km   "
   ]
  },
  {
   "cell_type": "code",
   "execution_count": null,
   "metadata": {},
   "outputs": [],
   "source": [
    "results_df = pd.DataFrame(columns=[\"Buffer Index\", \"Clipped Length\"])\n",
    "\n",
    "# Create an empty GeoDataFrame to store the clipped results\n",
    "clipped_results_gdf = gpd.GeoDataFrame()\n",
    "\n",
    "# Assuming you have a GeoDataFrame called 'rivieres'\n",
    "for selected_buffer_index in range(len(buffered_camera_df_1km)):\n",
    "    selected_buffer = buffered_camera_df_1km.iloc[selected_buffer_index:selected_buffer_index + 1]\n",
    "    clipped_shp = gpd.overlay(rivieres, selected_buffer, how='intersection')\n",
    "    clipped_length = clipped_shp.length.sum()\n",
    "    print(f\"Buffer Index {selected_buffer_index}: Clipped Length = {clipped_length}\")\n",
    "    #clipped_shp.plot()\n",
    "    results_df = pd.concat([results_df, pd.DataFrame({\"Buffer Index\": [selected_buffer_index], \"Clipped Length\": [clipped_length]})], ignore_index=True)\n",
    "    clipped_results_gdf = gpd.GeoDataFrame(pd.concat([clipped_results_gdf, clipped_shp]), crs=rivieres.crs)\n",
    "# Export the results DataFrame to a CSV file\n",
    "results_df.to_csv(r\"C:\\Users\\thier\\Downloads\\Projet\\Projet\\rivers_buffers_1km.csv\", index=False)"
   ]
  },
  {
   "cell_type": "markdown",
   "metadata": {},
   "source": [
    "### Rivers buffers 2km"
   ]
  },
  {
   "cell_type": "code",
   "execution_count": null,
   "metadata": {},
   "outputs": [],
   "source": [
    "results_df = pd.DataFrame(columns=[\"Buffer Index\", \"Clipped Length\"])\n",
    "\n",
    "# Create an empty GeoDataFrame to store the clipped results\n",
    "clipped_results_gdf = gpd.GeoDataFrame()\n",
    "\n",
    "# Assuming you have a GeoDataFrame called 'rivieres'\n",
    "for selected_buffer_index in range(len(buffered_camera_df_2km)):\n",
    "    selected_buffer = buffered_camera_df_2km.iloc[selected_buffer_index:selected_buffer_index + 1]\n",
    "    clipped_shp = gpd.overlay(rivieres, selected_buffer, how='intersection')\n",
    "    clipped_length = clipped_shp.length.sum()\n",
    "    print(f\"Buffer Index {selected_buffer_index}: Clipped Length = {clipped_length}\")\n",
    "    #clipped_rivieres.plot()\n",
    "    results_df = pd.concat([results_df, pd.DataFrame({\"Buffer Index\": [selected_buffer_index], \"Clipped Length\": [clipped_length]})], ignore_index=True)\n",
    "    clipped_results_gdf = gpd.GeoDataFrame(pd.concat([clipped_results_gdf, clipped_shp]), crs=rivieres.crs)\n",
    "\n",
    "results_df.to_csv(r\"C:\\Users\\thier\\Downloads\\Projet\\Projet\\rivers_buffers_2km.csv\", index=False)\n"
   ]
  },
  {
   "cell_type": "markdown",
   "metadata": {},
   "source": [
    "### ALL 3 buffers at the same time with a for loop"
   ]
  },
  {
   "cell_type": "code",
   "execution_count": null,
   "metadata": {},
   "outputs": [],
   "source": [
    "import openpyxl"
   ]
  },
  {
   "cell_type": "code",
   "execution_count": null,
   "metadata": {},
   "outputs": [],
   "source": [
    "import geopandas as gpd\n",
    "import pandas as pd\n",
    "\n",
    "def process_buffers(buffer_df, buffer_name, rivers_gdf, output_csv_path):\n",
    "    results_df = pd.DataFrame(columns=[\"Buffer Index\", \"Clipped Length\"])\n",
    "    clipped_results_gdf = gpd.GeoDataFrame()\n",
    "\n",
    "    for selected_buffer_index in range(len(buffer_df)):\n",
    "        selected_buffer = buffer_df.iloc[selected_buffer_index:selected_buffer_index + 1]\n",
    "        clipped_shp = gpd.overlay(rivers_gdf, selected_buffer, how='intersection')\n",
    "        clipped_length = clipped_shp.length.sum()\n",
    "        print(f\"{buffer_name} - Buffer Index {selected_buffer_index}: Clipped Length = {clipped_length}\")\n",
    "\n",
    "        results_df = pd.concat([results_df, pd.DataFrame({\"Buffer Index\": [selected_buffer_index], \"Clipped Length\": [clipped_length]})], ignore_index=True)\n",
    "        clipped_results_gdf = gpd.GeoDataFrame(pd.concat([clipped_results_gdf, clipped_shp]), crs=rivers_gdf.crs)\n",
    "\n",
    "    results_df.to_csv(output_csv_path, index=False)\n",
    "\n",
    "process_buffers(buffered_camera_df_500m, \"Rivers buffers 500m\", rivieres, r\"C:\\Users\\thier\\Downloads\\Projet\\Projet\\rivers_buffers_500m_test2.csv\")\n",
    "process_buffers(buffered_camera_df_1km, \"Rivers buffers 1km\", rivieres, r\"C:\\Users\\thier\\Downloads\\Projet\\Projet\\rivers_buffers_1km_test2.csv\")\n",
    "process_buffers(buffered_camera_df_2km, \"Rivers buffers 2km\", rivieres, r\"C:\\Users\\thier\\Downloads\\Projet\\\\Projet\\rivers_buffers_2km_test2.csv\")"
   ]
  },
  {
   "cell_type": "markdown",
   "metadata": {},
   "source": [
    "## Roads"
   ]
  },
  {
   "cell_type": "code",
   "execution_count": null,
   "metadata": {},
   "outputs": [],
   "source": [
    "print(\"CRS of roads:\", roads.crs)\n",
    "print(\"CRS of buffered_camera_df_500m:\", buffered_camera_df_1km.crs)"
   ]
  },
  {
   "cell_type": "code",
   "execution_count": null,
   "metadata": {},
   "outputs": [],
   "source": [
    "if roads.crs is None:\n",
    "    roads.crs = 'EPSG:26918'\n",
    "roads = roads.to_crs(buffered_camera_df_1km.crs)"
   ]
  },
  {
   "cell_type": "markdown",
   "metadata": {},
   "source": [
    "### Roads buffers 500m"
   ]
  },
  {
   "cell_type": "code",
   "execution_count": 493,
   "metadata": {},
   "outputs": [
    {
     "data": {
      "text/plain": [
       "(                                               geometry       length\n",
       " Site                                                                \n",
       " 10    MULTILINESTRING Z ((672684.836 5139807.747 0.0...  1935.690840\n",
       " 11    MULTILINESTRING Z ((672684.836 5139807.747 0.0...  3148.707526\n",
       " 12    MULTILINESTRING Z ((673745.602 5141057.146 0.0...  1593.536134\n",
       " 14    MULTILINESTRING Z ((679009.018 5137601.307 0.0...  5508.686448\n",
       " 16    MULTILINESTRING Z ((674937.964 5130138.072 0.0...  2158.177528\n",
       " 18A   MULTILINESTRING Z ((676384.528 5129064.622 0.0...  4548.025878\n",
       " 18B   MULTILINESTRING Z ((676384.528 5129064.622 0.0...  3732.370481\n",
       " 19    MULTILINESTRING Z ((674951.616 5130159.944 0.0...  2210.834810\n",
       " 2     MULTILINESTRING Z ((660534.888 5146083.313 0.0...  1460.149247\n",
       " 20A   MULTILINESTRING Z ((681076.456 5133524.369 0.0...  4649.275737\n",
       " 20B   MULTILINESTRING Z ((681076.456 5133524.369 0.0...  4649.275737\n",
       " 4     MULTILINESTRING Z ((664408.176 5148626.559 0.0...  1906.369762\n",
       " 5     MULTILINESTRING Z ((665058.222 5141771.461 0.0...  1447.769436\n",
       " 6     MULTILINESTRING Z ((667330.354 5142649.035 0.0...  1369.264464\n",
       " 8     MULTILINESTRING Z ((667785.358 5136350.953 0.0...  1819.066592,\n",
       " <Axes: >)"
      ]
     },
     "execution_count": 493,
     "metadata": {},
     "output_type": "execute_result"
    },
    {
     "data": {
      "image/png": "[encoded data removed]",
      "text/plain": [
       "<Figure size 640x480 with 1 Axes>"
      ]
     },
     "metadata": {},
     "output_type": "display_data"
    }
   ],
   "source": [
    "import geopandas as gpd\n",
    "import pandas as pd\n",
    "\n",
    "#Join both dataframe together\n",
    "roads_buffers_join_500m = gpd.sjoin(roads, buffered_camera_df_500m, how='inner', predicate='intersects')\n",
    "\n",
    "#Clip the joined dataframe with the buffer\n",
    "roads_500m = roads_buffers_join_500m.clip(buffered_camera_df_500m)\n",
    "#Calculate the length of the roads\n",
    "roads_500m['length'] =roads_500m.geometry.length\n",
    "'''roads_500m_grouped = roads_500m.groupby('Site')['length'].sum()'''\n",
    "\n",
    "#Clean the dataframe\n",
    "roads_500m_clean = roads_500m[['Site', 'length', 'geometry']]\n",
    "#Dissolve the dataframe by camera\n",
    "roads_500m_sum = roads_500m_clean.dissolve(by='Site', aggfunc='sum')\n",
    "\n",
    "#Export in shp or CSV\n",
    "roads_500m_sum.to_file(r\"C:\\Users\\thier\\Downloads\\Projet\\roads_buffers_500m.shp\")\n",
    "roads_500m_sum.to_csv(r\"C:\\Users\\thier\\Downloads\\Projet\\roads_buffers_500m.csv\")\n",
    "\n",
    "#Print the result and plot it\n",
    "roads_500m_sum, roads_500m_sum.plot()\n"
   ]
  },
  {
   "cell_type": "code",
   "execution_count": null,
   "metadata": {},
   "outputs": [],
   "source": [
    "roads_buffers_500m_merge = gpd.read_file(r\"C:\\Users\\thier\\Downloads\\Projet\\Projet\\roads_buffers_500m_df.shp\")"
   ]
  },
  {
   "cell_type": "code",
   "execution_count": null,
   "metadata": {},
   "outputs": [],
   "source": [
    "roads_buffers_500m_merge.plot()"
   ]
  },
  {
   "cell_type": "code",
   "execution_count": null,
   "metadata": {},
   "outputs": [],
   "source": [
    "import whitebox\n",
    "import os\n",
    "\n",
    "# Initialize WhiteboxTools\n",
    "wbt = whitebox.WhiteboxTools()"
   ]
  },
  {
   "cell_type": "code",
   "execution_count": null,
   "metadata": {},
   "outputs": [],
   "source": [
    "wbt.clip(\n",
    "    r\"C:\\Users\\thier\\Downloads\\Projet\\Projet\\roads_buffers_500m_df.shp\", \n",
    "    r\"C:\\Users\\thier\\Downloads\\Projet\\Projet\\buffers_500m.shp\", \n",
    "    r\"C:\\Users\\thier\\Downloads\\Projet\\Projet\\roads_buffers_500m_17.shp\", \n",
    "   \n",
    ")"
   ]
  },
  {
   "cell_type": "code",
   "execution_count": null,
   "metadata": {},
   "outputs": [],
   "source": [
    "df = gpd.read_file(r\"C:\\Users\\thier\\Downloads\\Projet\\Projet\\roads_buffers_500m_17.shp\")"
   ]
  },
  {
   "cell_type": "code",
   "execution_count": null,
   "metadata": {},
   "outputs": [],
   "source": [
    "df.sort_values(ascending=False, by='IdRte').head(10)"
   ]
  },
  {
   "cell_type": "code",
   "execution_count": null,
   "metadata": {},
   "outputs": [],
   "source": [
    "import geopandas as gpd\n",
    "\n",
    "df['length'] = df.geometry.length\n",
    "length_by_camera = df.groupby('Site')['length'].sum()\n",
    "length_by_camera"
   ]
  },
  {
   "cell_type": "code",
   "execution_count": null,
   "metadata": {},
   "outputs": [],
   "source": [
    "\n",
    "clean_df = df[[\"Camera\", \"geometry\", \"Shape_Leng\", \"length\"]]"
   ]
  },
  {
   "cell_type": "code",
   "execution_count": null,
   "metadata": {},
   "outputs": [],
   "source": [
    "clean_df = sol_500m.dissolve(by='Camera', aggfunc='sum')"
   ]
  },
  {
   "cell_type": "code",
   "execution_count": null,
   "metadata": {},
   "outputs": [],
   "source": [
    "df.plot()"
   ]
  },
  {
   "cell_type": "code",
   "execution_count": null,
   "metadata": {},
   "outputs": [],
   "source": [
    "clean_df.to_file(r\"C:\\Users\\thier\\Downloads\\Projet\\Projet\\roads_buffers_500m_18.shp\")"
   ]
  },
  {
   "cell_type": "code",
   "execution_count": null,
   "metadata": {},
   "outputs": [],
   "source": [
    "roads[\"Shape_Leng\"].sum()"
   ]
  },
  {
   "cell_type": "code",
   "execution_count": null,
   "metadata": {},
   "outputs": [],
   "source": [
    "\n",
    "# Dissolve the GeoDataFrame based on the constant 'group' column\n",
    "merged_roads = roads.dissolve(by='group', aggfunc=sum)\n"
   ]
  },
  {
   "cell_type": "code",
   "execution_count": null,
   "metadata": {},
   "outputs": [],
   "source": [
    "merged_roads"
   ]
  },
  {
   "cell_type": "code",
   "execution_count": 491,
   "metadata": {},
   "outputs": [],
   "source": [
    "#Join both dataframe together\n",
    "roads_buffers_join_500m = gpd.sjoin(roads, buffered_camera_df_500m, how='inner', predicate='intersects')\n",
    "\n",
    "#Clip the joined dataframe with the buffer\n",
    "roads_500m = roads_buffers_join_500m.clip(buffered_camera_df_500m)\n",
    "#Calculate the length of the roads\n",
    "roads_500m['length'] =roads_500m.geometry.length\n",
    "'''roads_500m_grouped = roads_500m.groupby('Site')['length'].sum()'''\n",
    "\n",
    "#Clean the dataframe\n",
    "roads_500m_clean = roads_500m[['Site', 'length', 'geometry']]\n",
    "#Dissolve the dataframe by camera\n",
    "roads_500m_sum = roads_500m_clean.dissolve(by='Site', aggfunc='sum')\n",
    "roads_500m_sum\n",
    "\n",
    "#Export in shp or CSV\n",
    "roads_500m_sum.to_file(r\"C:\\Users\\thier\\Downloads\\Projet\\roads_buffers_500m.shp\")\n",
    "roads_500m_sum.to_csv(r\"C:\\Users\\thier\\Downloads\\Projet\\roads_buffers_500m.csv\")\n"
   ]
  },
  {
   "cell_type": "code",
   "execution_count": 487,
   "metadata": {},
   "outputs": [
    {
     "data": {
      "text/plain": [
       "<Axes: >"
      ]
     },
     "execution_count": 487,
     "metadata": {},
     "output_type": "execute_result"
    },
    {
     "data": {
      "image/png": "[encoded data removed]",
      "text/plain": [
       "<Figure size 640x480 with 1 Axes>"
      ]
     },
     "metadata": {},
     "output_type": "display_data"
    }
   ],
   "source": [
    "roads_500m_sum.plot()\n"
   ]
  },
  {
   "cell_type": "code",
   "execution_count": 480,
   "metadata": {},
   "outputs": [
    {
     "data": {
      "text/html": [
       "<div>\n",
       "<style scoped>\n",
       "    .dataframe tbody tr th:only-of-type {\n",
       "        vertical-align: middle;\n",
       "    }\n",
       "\n",
       "    .dataframe tbody tr th {\n",
       "        vertical-align: top;\n",
       "    }\n",
       "\n",
       "    .dataframe thead th {\n",
       "        text-align: right;\n",
       "    }\n",
       "</style>\n",
       "<table border=\"1\" class=\"dataframe\">\n",
       "  <thead>\n",
       "    <tr style=\"text-align: right;\">\n",
       "      <th></th>\n",
       "      <th>IdRte</th>\n",
       "      <th>Version</th>\n",
       "      <th>NomRte</th>\n",
       "      <th>NoRte</th>\n",
       "      <th>ClsRte</th>\n",
       "      <th>CaractRte</th>\n",
       "      <th>Cls_CheFor</th>\n",
       "      <th>Cls_RAT</th>\n",
       "      <th>An_Classi</th>\n",
       "      <th>No_Chefor</th>\n",
       "      <th>...</th>\n",
       "      <th>EtatRev</th>\n",
       "      <th>Dossi_Pont</th>\n",
       "      <th>Cap_Port</th>\n",
       "      <th>Stat_Pont</th>\n",
       "      <th>AQRP_UUID</th>\n",
       "      <th>Shape_Leng</th>\n",
       "      <th>index_righ</th>\n",
       "      <th>Site</th>\n",
       "      <th>geometry</th>\n",
       "      <th>length</th>\n",
       "    </tr>\n",
       "  </thead>\n",
       "  <tbody>\n",
       "    <tr>\n",
       "      <th>41</th>\n",
       "      <td>3a61ac3d18a14119a3b79acfef3be91f</td>\n",
       "      <td>AQ20230601</td>\n",
       "      <td>Rue Notre-Dame Ouest</td>\n",
       "      <td>138.0</td>\n",
       "      <td>Nationale</td>\n",
       "      <td>None</td>\n",
       "      <td>NF</td>\n",
       "      <td>None</td>\n",
       "      <td>None</td>\n",
       "      <td>None</td>\n",
       "      <td>...</td>\n",
       "      <td>Revêtue</td>\n",
       "      <td>None</td>\n",
       "      <td>None</td>\n",
       "      <td>None</td>\n",
       "      <td>b7ee417c-08f3-4cd5-819c-ad8df12e0624</td>\n",
       "      <td>468.723752</td>\n",
       "      <td>8</td>\n",
       "      <td>18A</td>\n",
       "      <td>LINESTRING Z (676384.528 5129064.622 0.000, 67...</td>\n",
       "      <td>269.436846</td>\n",
       "    </tr>\n",
       "    <tr>\n",
       "      <th>28</th>\n",
       "      <td>3a61ac3d18a14119a3b79acfef3be91f</td>\n",
       "      <td>AQ20230601</td>\n",
       "      <td>Rue Notre-Dame Ouest</td>\n",
       "      <td>138.0</td>\n",
       "      <td>Nationale</td>\n",
       "      <td>None</td>\n",
       "      <td>NF</td>\n",
       "      <td>None</td>\n",
       "      <td>None</td>\n",
       "      <td>None</td>\n",
       "      <td>...</td>\n",
       "      <td>Revêtue</td>\n",
       "      <td>None</td>\n",
       "      <td>None</td>\n",
       "      <td>None</td>\n",
       "      <td>b7ee417c-08f3-4cd5-819c-ad8df12e0624</td>\n",
       "      <td>468.723752</td>\n",
       "      <td>9</td>\n",
       "      <td>18B</td>\n",
       "      <td>LINESTRING Z (676384.528 5129064.622 0.000, 67...</td>\n",
       "      <td>269.436846</td>\n",
       "    </tr>\n",
       "    <tr>\n",
       "      <th>40</th>\n",
       "      <td>3afd2aa05fae4fe1b557a179ba1391c3</td>\n",
       "      <td>AQ20230601</td>\n",
       "      <td>Rue des Goélands</td>\n",
       "      <td>0.0</td>\n",
       "      <td>Locale</td>\n",
       "      <td>None</td>\n",
       "      <td>NF</td>\n",
       "      <td>None</td>\n",
       "      <td>None</td>\n",
       "      <td>None</td>\n",
       "      <td>...</td>\n",
       "      <td>INC</td>\n",
       "      <td>None</td>\n",
       "      <td>None</td>\n",
       "      <td>None</td>\n",
       "      <td>30c5f155-268d-46a3-abfe-e9fe79e93522</td>\n",
       "      <td>169.096993</td>\n",
       "      <td>8</td>\n",
       "      <td>18A</td>\n",
       "      <td>LINESTRING Z (676019.168 5129206.024 0.000, 67...</td>\n",
       "      <td>67.044764</td>\n",
       "    </tr>\n",
       "    <tr>\n",
       "      <th>47</th>\n",
       "      <td>905a2cfef14a4434931e21bbf8628ede</td>\n",
       "      <td>AQ20230601</td>\n",
       "      <td>Rue Notre-Dame Ouest</td>\n",
       "      <td>138.0</td>\n",
       "      <td>Nationale</td>\n",
       "      <td>None</td>\n",
       "      <td>NF</td>\n",
       "      <td>None</td>\n",
       "      <td>None</td>\n",
       "      <td>None</td>\n",
       "      <td>...</td>\n",
       "      <td>Revêtue</td>\n",
       "      <td>None</td>\n",
       "      <td>None</td>\n",
       "      <td>None</td>\n",
       "      <td>db5ab4ee-5ee2-4632-9baf-7c07a4fc39bf</td>\n",
       "      <td>122.331730</td>\n",
       "      <td>8</td>\n",
       "      <td>18A</td>\n",
       "      <td>LINESTRING Z (676133.372 5129162.177 0.000, 67...</td>\n",
       "      <td>122.331730</td>\n",
       "    </tr>\n",
       "    <tr>\n",
       "      <th>38</th>\n",
       "      <td>373994bdebf04270a7b0488985a61d30</td>\n",
       "      <td>AQ20230601</td>\n",
       "      <td>Rue Notre-Dame Ouest</td>\n",
       "      <td>138.0</td>\n",
       "      <td>Nationale</td>\n",
       "      <td>None</td>\n",
       "      <td>NF</td>\n",
       "      <td>None</td>\n",
       "      <td>None</td>\n",
       "      <td>None</td>\n",
       "      <td>...</td>\n",
       "      <td>Revêtue</td>\n",
       "      <td>None</td>\n",
       "      <td>None</td>\n",
       "      <td>None</td>\n",
       "      <td>d5d70b8a-910b-4b3a-9ddc-e6f025b9625e</td>\n",
       "      <td>100.582414</td>\n",
       "      <td>8</td>\n",
       "      <td>18A</td>\n",
       "      <td>LINESTRING Z (676019.168 5129206.024 0.000, 67...</td>\n",
       "      <td>100.582414</td>\n",
       "    </tr>\n",
       "    <tr>\n",
       "      <th>...</th>\n",
       "      <td>...</td>\n",
       "      <td>...</td>\n",
       "      <td>...</td>\n",
       "      <td>...</td>\n",
       "      <td>...</td>\n",
       "      <td>...</td>\n",
       "      <td>...</td>\n",
       "      <td>...</td>\n",
       "      <td>...</td>\n",
       "      <td>...</td>\n",
       "      <td>...</td>\n",
       "      <td>...</td>\n",
       "      <td>...</td>\n",
       "      <td>...</td>\n",
       "      <td>...</td>\n",
       "      <td>...</td>\n",
       "      <td>...</td>\n",
       "      <td>...</td>\n",
       "      <td>...</td>\n",
       "      <td>...</td>\n",
       "      <td>...</td>\n",
       "    </tr>\n",
       "    <tr>\n",
       "      <th>81</th>\n",
       "      <td>f5397f301bf840799e9b12811b73906e</td>\n",
       "      <td>AQ20230601</td>\n",
       "      <td>Boulevard Notre-Dame</td>\n",
       "      <td>350.0</td>\n",
       "      <td>Régionale</td>\n",
       "      <td>None</td>\n",
       "      <td>NF</td>\n",
       "      <td>None</td>\n",
       "      <td>None</td>\n",
       "      <td>None</td>\n",
       "      <td>...</td>\n",
       "      <td>Revêtue</td>\n",
       "      <td>None</td>\n",
       "      <td>None</td>\n",
       "      <td>None</td>\n",
       "      <td>008bae4e-8f87-461c-aad7-35ba0bded4b2</td>\n",
       "      <td>4.512611</td>\n",
       "      <td>14</td>\n",
       "      <td>4</td>\n",
       "      <td>LINESTRING Z (664281.855 5148697.019 0.000, 66...</td>\n",
       "      <td>4.512611</td>\n",
       "    </tr>\n",
       "    <tr>\n",
       "      <th>77</th>\n",
       "      <td>d5fcd14785f34285b0bb2c6bacfccbcb</td>\n",
       "      <td>AQ20230601</td>\n",
       "      <td>Voie</td>\n",
       "      <td>153.0</td>\n",
       "      <td>Régionale</td>\n",
       "      <td>Bretelle</td>\n",
       "      <td>NF</td>\n",
       "      <td>None</td>\n",
       "      <td>None</td>\n",
       "      <td>None</td>\n",
       "      <td>...</td>\n",
       "      <td>Revêtue</td>\n",
       "      <td>None</td>\n",
       "      <td>None</td>\n",
       "      <td>None</td>\n",
       "      <td>cff84524-f154-4eb1-baa4-5d18067acb98</td>\n",
       "      <td>100.845473</td>\n",
       "      <td>14</td>\n",
       "      <td>4</td>\n",
       "      <td>LINESTRING Z (664367.898 5148712.152 0.000, 66...</td>\n",
       "      <td>100.845473</td>\n",
       "    </tr>\n",
       "    <tr>\n",
       "      <th>80</th>\n",
       "      <td>d6feeea3f9114b359b31e1ee61f85b39</td>\n",
       "      <td>AQ20230601</td>\n",
       "      <td>Boulevard Trudel Ouest</td>\n",
       "      <td>153.0</td>\n",
       "      <td>Régionale</td>\n",
       "      <td>None</td>\n",
       "      <td>NF</td>\n",
       "      <td>None</td>\n",
       "      <td>None</td>\n",
       "      <td>None</td>\n",
       "      <td>...</td>\n",
       "      <td>Revêtue</td>\n",
       "      <td>None</td>\n",
       "      <td>None</td>\n",
       "      <td>None</td>\n",
       "      <td>770f275e-c44e-455d-bc1b-d6509396155d</td>\n",
       "      <td>38.742352</td>\n",
       "      <td>14</td>\n",
       "      <td>4</td>\n",
       "      <td>LINESTRING Z (664393.424 5148741.291 0.000, 66...</td>\n",
       "      <td>38.742352</td>\n",
       "    </tr>\n",
       "    <tr>\n",
       "      <th>84</th>\n",
       "      <td>adf78927ce2d49a4bfd46c388d46f2a6</td>\n",
       "      <td>AQ20230601</td>\n",
       "      <td>Boulevard Notre-Dame</td>\n",
       "      <td>350.0</td>\n",
       "      <td>Régionale</td>\n",
       "      <td>None</td>\n",
       "      <td>NF</td>\n",
       "      <td>None</td>\n",
       "      <td>None</td>\n",
       "      <td>None</td>\n",
       "      <td>...</td>\n",
       "      <td>Revêtue</td>\n",
       "      <td>None</td>\n",
       "      <td>None</td>\n",
       "      <td>None</td>\n",
       "      <td>907603c4-bdb6-4916-8474-22e7532129ec</td>\n",
       "      <td>595.877249</td>\n",
       "      <td>14</td>\n",
       "      <td>4</td>\n",
       "      <td>LINESTRING Z (664278.107 5148699.531 0.000, 66...</td>\n",
       "      <td>270.990653</td>\n",
       "    </tr>\n",
       "    <tr>\n",
       "      <th>83</th>\n",
       "      <td>042a7b86664945c1b7bd12ea11fe90cd</td>\n",
       "      <td>AQ20230601</td>\n",
       "      <td>Boulevard Trudel Ouest</td>\n",
       "      <td>153.0</td>\n",
       "      <td>Régionale</td>\n",
       "      <td>None</td>\n",
       "      <td>NF</td>\n",
       "      <td>None</td>\n",
       "      <td>None</td>\n",
       "      <td>None</td>\n",
       "      <td>...</td>\n",
       "      <td>Revêtue</td>\n",
       "      <td>None</td>\n",
       "      <td>None</td>\n",
       "      <td>None</td>\n",
       "      <td>9ecf6486-60fa-441d-af8b-95678e3cd723</td>\n",
       "      <td>845.155620</td>\n",
       "      <td>14</td>\n",
       "      <td>4</td>\n",
       "      <td>LINESTRING Z (664899.256 5149300.164 0.000, 66...</td>\n",
       "      <td>753.814754</td>\n",
       "    </tr>\n",
       "  </tbody>\n",
       "</table>\n",
       "<p>122 rows × 26 columns</p>\n",
       "</div>"
      ],
      "text/plain": [
       "                               IdRte     Version                  NomRte  \\\n",
       "41  3a61ac3d18a14119a3b79acfef3be91f  AQ20230601    Rue Notre-Dame Ouest   \n",
       "28  3a61ac3d18a14119a3b79acfef3be91f  AQ20230601    Rue Notre-Dame Ouest   \n",
       "40  3afd2aa05fae4fe1b557a179ba1391c3  AQ20230601        Rue des Goélands   \n",
       "47  905a2cfef14a4434931e21bbf8628ede  AQ20230601    Rue Notre-Dame Ouest   \n",
       "38  373994bdebf04270a7b0488985a61d30  AQ20230601    Rue Notre-Dame Ouest   \n",
       "..                               ...         ...                     ...   \n",
       "81  f5397f301bf840799e9b12811b73906e  AQ20230601    Boulevard Notre-Dame   \n",
       "77  d5fcd14785f34285b0bb2c6bacfccbcb  AQ20230601                    Voie   \n",
       "80  d6feeea3f9114b359b31e1ee61f85b39  AQ20230601  Boulevard Trudel Ouest   \n",
       "84  adf78927ce2d49a4bfd46c388d46f2a6  AQ20230601    Boulevard Notre-Dame   \n",
       "83  042a7b86664945c1b7bd12ea11fe90cd  AQ20230601  Boulevard Trudel Ouest   \n",
       "\n",
       "    NoRte     ClsRte CaractRte Cls_CheFor Cls_RAT An_Classi No_Chefor  ...  \\\n",
       "41  138.0  Nationale      None         NF    None      None      None  ...   \n",
       "28  138.0  Nationale      None         NF    None      None      None  ...   \n",
       "40    0.0     Locale      None         NF    None      None      None  ...   \n",
       "47  138.0  Nationale      None         NF    None      None      None  ...   \n",
       "38  138.0  Nationale      None         NF    None      None      None  ...   \n",
       "..    ...        ...       ...        ...     ...       ...       ...  ...   \n",
       "81  350.0  Régionale      None         NF    None      None      None  ...   \n",
       "77  153.0  Régionale  Bretelle         NF    None      None      None  ...   \n",
       "80  153.0  Régionale      None         NF    None      None      None  ...   \n",
       "84  350.0  Régionale      None         NF    None      None      None  ...   \n",
       "83  153.0  Régionale      None         NF    None      None      None  ...   \n",
       "\n",
       "    EtatRev Dossi_Pont Cap_Port Stat_Pont  \\\n",
       "41  Revêtue       None     None      None   \n",
       "28  Revêtue       None     None      None   \n",
       "40      INC       None     None      None   \n",
       "47  Revêtue       None     None      None   \n",
       "38  Revêtue       None     None      None   \n",
       "..      ...        ...      ...       ...   \n",
       "81  Revêtue       None     None      None   \n",
       "77  Revêtue       None     None      None   \n",
       "80  Revêtue       None     None      None   \n",
       "84  Revêtue       None     None      None   \n",
       "83  Revêtue       None     None      None   \n",
       "\n",
       "                               AQRP_UUID  Shape_Leng index_righ Site  \\\n",
       "41  b7ee417c-08f3-4cd5-819c-ad8df12e0624  468.723752          8  18A   \n",
       "28  b7ee417c-08f3-4cd5-819c-ad8df12e0624  468.723752          9  18B   \n",
       "40  30c5f155-268d-46a3-abfe-e9fe79e93522  169.096993          8  18A   \n",
       "47  db5ab4ee-5ee2-4632-9baf-7c07a4fc39bf  122.331730          8  18A   \n",
       "38  d5d70b8a-910b-4b3a-9ddc-e6f025b9625e  100.582414          8  18A   \n",
       "..                                   ...         ...        ...  ...   \n",
       "81  008bae4e-8f87-461c-aad7-35ba0bded4b2    4.512611         14    4   \n",
       "77  cff84524-f154-4eb1-baa4-5d18067acb98  100.845473         14    4   \n",
       "80  770f275e-c44e-455d-bc1b-d6509396155d   38.742352         14    4   \n",
       "84  907603c4-bdb6-4916-8474-22e7532129ec  595.877249         14    4   \n",
       "83  9ecf6486-60fa-441d-af8b-95678e3cd723  845.155620         14    4   \n",
       "\n",
       "                                             geometry      length  \n",
       "41  LINESTRING Z (676384.528 5129064.622 0.000, 67...  269.436846  \n",
       "28  LINESTRING Z (676384.528 5129064.622 0.000, 67...  269.436846  \n",
       "40  LINESTRING Z (676019.168 5129206.024 0.000, 67...   67.044764  \n",
       "47  LINESTRING Z (676133.372 5129162.177 0.000, 67...  122.331730  \n",
       "38  LINESTRING Z (676019.168 5129206.024 0.000, 67...  100.582414  \n",
       "..                                                ...         ...  \n",
       "81  LINESTRING Z (664281.855 5148697.019 0.000, 66...    4.512611  \n",
       "77  LINESTRING Z (664367.898 5148712.152 0.000, 66...  100.845473  \n",
       "80  LINESTRING Z (664393.424 5148741.291 0.000, 66...   38.742352  \n",
       "84  LINESTRING Z (664278.107 5148699.531 0.000, 66...  270.990653  \n",
       "83  LINESTRING Z (664899.256 5149300.164 0.000, 66...  753.814754  \n",
       "\n",
       "[122 rows x 26 columns]"
      ]
     },
     "execution_count": 480,
     "metadata": {},
     "output_type": "execute_result"
    }
   ],
   "source": [
    "roads_500m"
   ]
  },
  {
   "cell_type": "code",
   "execution_count": null,
   "metadata": {},
   "outputs": [],
   "source": [
    "sol_500m.dissolve(by='Site', aggfunc='sum')"
   ]
  },
  {
   "cell_type": "code",
   "execution_count": null,
   "metadata": {},
   "outputs": [],
   "source": [
    "merged_roads.to_file(r\"C:\\Users\\thier\\Downloads\\Projet\\Projet\\roads_buffers_500m_14.shp\")"
   ]
  },
  {
   "cell_type": "code",
   "execution_count": null,
   "metadata": {},
   "outputs": [],
   "source": [
    "sol_500m.to_file(r\"C:\\Users\\thier\\Downloads\\Projet\\Projet\\roads_buffers_500m_11.shp\")"
   ]
  },
  {
   "cell_type": "code",
   "execution_count": null,
   "metadata": {},
   "outputs": [],
   "source": [
    "sol_500m.groupby([\"Camera\"])[\"Shape_Leng\"].sum().reset_index()"
   ]
  },
  {
   "cell_type": "code",
   "execution_count": null,
   "metadata": {},
   "outputs": [],
   "source": [
    "#Clip the roads with the buffers\n",
    "roads_500m_overlay = roads_buffers_500m_merge.overlay(buffered_camera_df_500m, how='intersection')\n",
    "\n",
    "roads_500m_overlay"
   ]
  },
  {
   "cell_type": "code",
   "execution_count": null,
   "metadata": {},
   "outputs": [],
   "source": [
    "sol_500m['length'] =sol_500m.geometry.length\n",
    "length_by_camera = sol_500m.groupby('Site')['length'].sum()\n",
    "length_by_camera"
   ]
  },
  {
   "cell_type": "code",
   "execution_count": null,
   "metadata": {},
   "outputs": [],
   "source": [
    "\n",
    "sol_500m['length'] = sol_500m.geometry.length\n",
    "length_by_camera2 = roads_500m_overlay.groupby('Site1')['length'].sum()\n",
    "length_by_camera2"
   ]
  },
  {
   "cell_type": "code",
   "execution_count": null,
   "metadata": {},
   "outputs": [],
   "source": [
    "roads_500m_overlay.sort_values(ascending=False, by='IdRte').head(10)"
   ]
  },
  {
   "cell_type": "code",
   "execution_count": null,
   "metadata": {},
   "outputs": [],
   "source": [
    "df_500m_clip = roads.clip(buffered_camera_df_500m)  "
   ]
  },
  {
   "cell_type": "code",
   "execution_count": null,
   "metadata": {},
   "outputs": [],
   "source": [
    "df_500m_clip.sort_values(ascending=False, by='IdRte').head(10)"
   ]
  },
  {
   "cell_type": "code",
   "execution_count": null,
   "metadata": {},
   "outputs": [],
   "source": [
    "#Clip the roads with the buffers\n",
    "sol_500m = roads.overlay(buffered_camera_df_500m, how='intersection')\n",
    "#Clean the dataframe    \n",
    "df_clean = [\"Camera\", \"Shape_Leng\", \"geometry\", \"ClsRte\"]\n",
    "sol_500m= sol_500m[df_clean]\n",
    "#Aggregate the data\n",
    "df_sol_500m = sol_500m.dissolve(by='Camera', aggfunc='sum').drop(columns=\"ClsRte\").reset_index()\n",
    "#Export the file in shp or csv\n",
    "df_sol_500m.to_file(r\"C:\\Users\\thier\\Downloads\\Projet\\Projet\\sol_buffers_500m_10.shp\")\n",
    "#df_sol_500m.to_csv(r\"C:\\Users\\thier\\Downloads\\Projet\\Projet\\sol_buffers_500m_9.csv\", index=False)"
   ]
  },
  {
   "cell_type": "code",
   "execution_count": null,
   "metadata": {},
   "outputs": [],
   "source": [
    "df_sol_500m"
   ]
  },
  {
   "cell_type": "markdown",
   "metadata": {},
   "source": [
    "### Roads buffers 1km"
   ]
  },
  {
   "cell_type": "code",
   "execution_count": null,
   "metadata": {},
   "outputs": [],
   "source": [
    "import geopandas as gpd\n",
    "import pandas as pd\n",
    "\n",
    "results_df = pd.DataFrame(columns=[\"Buffer Index\", \"Clipped Length\"])\n",
    "\n",
    "# Create an empty GeoDataFrame to store the clipped results\n",
    "clipped_results_gdf = gpd.GeoDataFrame()\n",
    "\n",
    "for selected_buffer_index in range(len(buffered_camera_df_1km)):\n",
    "    selected_buffer = buffered_camera_df_1km.iloc[selected_buffer_index:selected_buffer_index + 1]\n",
    "    clipped_shp = gpd.overlay(roads, selected_buffer, how='intersection')\n",
    "    clipped_length = clipped_shp.length.sum()\n",
    "    print(f\"Buffer Index {selected_buffer_index}: Clipped Length = {clipped_length}\")\n",
    "    clipped_shp.plot()\n",
    "    results_df = pd.concat([results_df, pd.DataFrame({\"Buffer Index\": [selected_buffer_index], \"Clipped Length\": [clipped_length]})], ignore_index=True)\n",
    "    clipped_results_gdf = gpd.GeoDataFrame(pd.concat([clipped_results_gdf, clipped_shp]), crs=roads.crs)\n",
    "\n",
    "# Export the results DataFrame to a CSV file\n",
    "results_df.to_csv(r\"C:\\Users\\thier\\Downloads\\Projet\\Projet\\roads_buffers_1km.csv\", index=False)"
   ]
  },
  {
   "cell_type": "markdown",
   "metadata": {},
   "source": [
    "### Roads buffers 2km"
   ]
  },
  {
   "cell_type": "code",
   "execution_count": null,
   "metadata": {},
   "outputs": [],
   "source": [
    "import geopandas as gpd\n",
    "import pandas as pd\n",
    "\n",
    "results_df = pd.DataFrame(columns=[\"Buffer Index\", \"Clipped Length\"])\n",
    "\n",
    "# Create an empty GeoDataFrame to store the clipped results\n",
    "clipped_results_gdf = gpd.GeoDataFrame()\n",
    "\n",
    "for selected_buffer_index in range(len(buffered_camera_df_2km)):\n",
    "    selected_buffer = buffered_camera_df_2km.iloc[selected_buffer_index:selected_buffer_index + 1]\n",
    "    clipped_shp = gpd.overlay(roads, selected_buffer, how='intersection')\n",
    "    clipped_length = clipped_shp.length.sum()\n",
    "    print(f\"Buffer Index {selected_buffer_index}: Clipped Length = {clipped_length}\")\n",
    "    #You can plot the result\n",
    "    #clipped_shp.plot()\n",
    "    results_df = pd.concat([results_df, pd.DataFrame({\"Buffer Index\": [selected_buffer_index], \"Clipped Length\": [clipped_length]})], ignore_index=True)\n",
    "    clipped_results_gdf = gpd.GeoDataFrame(pd.concat([clipped_results_gdf, clipped_shp]), crs=roads.crs)\n",
    "\n",
    "# Export the results DataFrame to a CSV file\n",
    "results_df.to_csv(r\"C:\\Users\\thier\\Downloads\\Projet\\Projet\\roads_buffers_2km.csv\", index=False)"
   ]
  },
  {
   "cell_type": "markdown",
   "metadata": {},
   "source": [
    "## Railroads"
   ]
  },
  {
   "cell_type": "code",
   "execution_count": null,
   "metadata": {},
   "outputs": [],
   "source": [
    "print(\"CRS of roads:\", railroad.crs)\n",
    "print(\"CRS of buffered_camera_df_500m:\", buffered_camera_df_1km.crs)"
   ]
  },
  {
   "cell_type": "code",
   "execution_count": null,
   "metadata": {},
   "outputs": [],
   "source": [
    "if railroad.crs is None:\n",
    "    railroad.crs = 'EPSG:26918'\n",
    "railroad = railroad.to_crs(buffered_camera_df_1km.crs)"
   ]
  },
  {
   "cell_type": "markdown",
   "metadata": {},
   "source": [
    "### Railroad buffer 500m"
   ]
  },
  {
   "cell_type": "code",
   "execution_count": null,
   "metadata": {},
   "outputs": [],
   "source": [
    "import geopandas as gpd\n",
    "import pandas as pd\n",
    "\n",
    "results_df = pd.DataFrame(columns=[\"Buffer Index\", \"Clipped Length\"])\n",
    "\n",
    "# Create an empty GeoDataFrame to store the clipped results\n",
    "clipped_results_gdf = gpd.GeoDataFrame()\n",
    "\n",
    "for selected_buffer_index in range(len(buffered_camera_df_500m)):\n",
    "    selected_buffer = buffered_camera_df_500m.iloc[selected_buffer_index:selected_buffer_index + 1]\n",
    "    clipped_shp = gpd.overlay(railroad, selected_buffer, how='intersection')\n",
    "    clipped_length = clipped_shp.length.sum()\n",
    "    print(f\"Buffer Index {selected_buffer_index}: Clipped Length = {clipped_length}\")\n",
    "    clipped_shp.plot()\n",
    "    results_df = pd.concat([results_df, pd.DataFrame({\"Buffer Index\": [selected_buffer_index], \"Clipped Length\": [clipped_length]})], ignore_index=True)\n",
    "    clipped_results_gdf = gpd.GeoDataFrame(pd.concat([clipped_results_gdf, clipped_shp]), crs=railroad.crs)\n",
    "\n",
    "# Export the results DataFrame to a CSV file\n",
    "results_df.to_csv(r\"C:\\Users\\thier\\Downloads\\Projet\\Projet\\railroad_buffers_500m.csv\", index=False)"
   ]
  },
  {
   "cell_type": "markdown",
   "metadata": {},
   "source": [
    "### Railroad buffers 1km"
   ]
  },
  {
   "cell_type": "code",
   "execution_count": null,
   "metadata": {},
   "outputs": [],
   "source": [
    "import geopandas as gpd\n",
    "import pandas as pd\n",
    "\n",
    "results_df = pd.DataFrame(columns=[\"Buffer Index\", \"Clipped Length\"])\n",
    "\n",
    "# Create an empty GeoDataFrame to store the clipped results\n",
    "clipped_results_gdf = gpd.GeoDataFrame()\n",
    "\n",
    "for selected_buffer_index in range(len(buffered_camera_df_1km)):\n",
    "    selected_buffer = buffered_camera_df_1km.iloc[selected_buffer_index:selected_buffer_index + 1]\n",
    "    clipped_shp = gpd.overlay(railroad, selected_buffer, how='intersection')\n",
    "    clipped_length = clipped_shp.length.sum()\n",
    "    print(f\"Buffer Index {selected_buffer_index}: Clipped Length = {clipped_length}\")\n",
    "    clipped_shp.plot()\n",
    "    results_df = pd.concat([results_df, pd.DataFrame({\"Buffer Index\": [selected_buffer_index], \"Clipped Length\": [clipped_length]})], ignore_index=True)\n",
    "    clipped_results_gdf = gpd.GeoDataFrame(pd.concat([clipped_results_gdf, clipped_shp]), crs=railroad.crs)\n",
    "\n",
    "# Export the results DataFrame to a CSV file\n",
    "results_df.to_csv(r\"C:\\Users\\thier\\Downloads\\Projet\\Projet\\railroad_buffers_1km.csv\", index=False)"
   ]
  },
  {
   "cell_type": "markdown",
   "metadata": {},
   "source": [
    "### Railroad buffers 2km"
   ]
  },
  {
   "cell_type": "code",
   "execution_count": null,
   "metadata": {},
   "outputs": [],
   "source": [
    "import geopandas as gpd\n",
    "import pandas as pd\n",
    "\n",
    "results_df = pd.DataFrame(columns=[\"Buffer Index\", \"Clipped Length\"])\n",
    "\n",
    "# Create an empty GeoDataFrame to store the clipped results\n",
    "clipped_results_gdf = gpd.GeoDataFrame()\n",
    "\n",
    "for selected_buffer_index in range(len(buffered_camera_df_2km)):\n",
    "    selected_buffer = buffered_camera_df_2km.iloc[selected_buffer_index:selected_buffer_index + 1]\n",
    "    clipped_shp = gpd.overlay(railroad, selected_buffer, how='intersection')\n",
    "    clipped_length = clipped_shp.length.sum()\n",
    "    print(f\"Buffer Index {selected_buffer_index}: Clipped Length = {clipped_length}\")\n",
    "    clipped_shp.plot()\n",
    "    results_df = pd.concat([results_df, pd.DataFrame({\"Buffer Index\": [selected_buffer_index], \"Clipped Length\": [clipped_length]})], ignore_index=True)\n",
    "    clipped_results_gdf = gpd.GeoDataFrame(pd.concat([clipped_results_gdf, clipped_shp]), crs=railroad.crs)\n",
    "\n",
    "# Export the results DataFrame to a CSV file\n",
    "results_df.to_csv(r\"C:\\Users\\thier\\Downloads\\Projet\\Projet\\railroad_buffers_2km.csv\", index=False)"
   ]
  },
  {
   "cell_type": "markdown",
   "metadata": {},
   "source": [
    "## Slope"
   ]
  },
  {
   "cell_type": "code",
   "execution_count": null,
   "metadata": {},
   "outputs": [],
   "source": [
    "print(\"CRS of roads:\", slope.crs)\n",
    "print(\"CRS of buffered_camera_df_500m:\", buffered_camera_df_1km.crs)"
   ]
  },
  {
   "cell_type": "code",
   "execution_count": null,
   "metadata": {},
   "outputs": [],
   "source": [
    "if slope.crs is None:\n",
    "    slope.crs = 'EPSG:26918'\n",
    "slope = slope.to_crs(buffered_camera_df_1km.crs)"
   ]
  },
  {
   "cell_type": "markdown",
   "metadata": {},
   "source": [
    "### Slope buffer 500m"
   ]
  },
  {
   "cell_type": "code",
   "execution_count": null,
   "metadata": {},
   "outputs": [],
   "source": [
    "import geopandas as gpd\n",
    "import pandas as pd\n",
    "\n",
    "# Assuming buffered_camera_df_500m and slope are predefined GeoDataFrames\n",
    "\n",
    "# Create an empty DataFrame for storing aggregated results\n",
    "aggregated_results = pd.DataFrame()\n",
    "\n",
    "for selected_buffer_index in range(len(buffered_camera_df_500m)):\n",
    "    # Select a single buffer zone\n",
    "    selected_buffer = buffered_camera_df_500m.iloc[selected_buffer_index:selected_buffer_index + 1]\n",
    "\n",
    "    # Calculate the intersection\n",
    "    clipped_shp = gpd.overlay(slope, selected_buffer, how='intersection')\n",
    "\n",
    "    # Check if the required columns ('id', 'CL_PENT', 'SUPERFICIE') exist in clipped_shp\n",
    "    if 'id' in clipped_shp.columns and 'CL_PENT' in clipped_shp.columns and 'SUPERFICIE' in clipped_shp.columns:\n",
    "        # Group the data by 'id' and 'CL_PENT' and calculate the sum of 'SUPERFICIE'\n",
    "        grouped_data = clipped_shp.groupby(['id', 'CL_PENT'])['SUPERFICIE'].sum().reset_index()\n",
    "        \n",
    "        # Append the grouped data to the aggregated_results DataFrame\n",
    "        aggregated_results = pd.concat([aggregated_results, grouped_data], ignore_index=True)\n",
    "\n",
    "# Optional: You can group and sum again in case there are overlapping ids and CL_PENTs across different buffer zones\n",
    "        \n",
    "# Export the grouped data to a CSV file\n",
    "aggregated_results.to_csv(r\"C:\\Users\\thier\\Downloads\\Projet\\Projet\\slope_buffers_500m.csv\", index=False)\n"
   ]
  },
  {
   "cell_type": "code",
   "execution_count": null,
   "metadata": {},
   "outputs": [],
   "source": [
    "# Export the grouped data to a CSV file\n",
    "grouped_data.to_csv(r\"C:\\Users\\thier\\Downloads\\Projet\\Projet\\slope_buffers_500m.csv\", index=False)"
   ]
  },
  {
   "cell_type": "markdown",
   "metadata": {},
   "source": [
    "### Slope buffers 1km"
   ]
  },
  {
   "cell_type": "code",
   "execution_count": null,
   "metadata": {},
   "outputs": [],
   "source": [
    "import geopandas as gpd\n",
    "import pandas as pd\n",
    "\n",
    "aggregated_results = pd.DataFrame()\n",
    "\n",
    "for selected_buffer_index in range(len(buffered_camera_df_1km)):\n",
    "    selected_buffer = buffered_camera_df_1km.iloc[selected_buffer_index:selected_buffer_index + 1]\n",
    "    # Calculate the intersection\n",
    "    clipped_shp = gpd.overlay(slope, selected_buffer, how='intersection')\n",
    "\n",
    "    if 'id' in clipped_shp.columns and 'CL_PENT' in clipped_shp.columns and 'SUPERFICIE' in clipped_shp.columns:\n",
    "        grouped_data = clipped_shp.groupby(['id', 'CL_PENT'])['SUPERFICIE'].sum().reset_index()\n",
    "        \n",
    "        # Append the grouped data to the aggregated_results DataFrame\n",
    "        aggregated_results = pd.concat([aggregated_results, grouped_data], ignore_index=True)\n",
    "        \n",
    "# Export the grouped data to a CSV file\n",
    "aggregated_results.to_csv(r\"C:\\Users\\thier\\Downloads\\Projet\\Projet\\slope_buffers_1km.csv\", index=False)"
   ]
  },
  {
   "cell_type": "code",
   "execution_count": null,
   "metadata": {},
   "outputs": [],
   "source": [
    "buffered_camera_df_1km"
   ]
  },
  {
   "cell_type": "markdown",
   "metadata": {},
   "source": [
    "### Slope buffers 2km"
   ]
  },
  {
   "cell_type": "code",
   "execution_count": null,
   "metadata": {},
   "outputs": [],
   "source": [
    "import geopandas as gpd\n",
    "import pandas as pd\n",
    "\n",
    "aggregated_results = pd.DataFrame()\n",
    "\n",
    "for selected_buffer_index in range(len(buffered_camera_df_2km)):\n",
    "    selected_buffer = buffered_camera_df_2km.iloc[selected_buffer_index:selected_buffer_index + 1]\n",
    "    # Calculate the intersection\n",
    "    clipped_shp = gpd.overlay(slope, selected_buffer, how='intersection')\n",
    "\n",
    "    if 'id' in clipped_shp.columns and 'CL_PENT' in clipped_shp.columns and 'SUPERFICIE' in clipped_shp.columns:\n",
    "        grouped_data = clipped_shp.groupby(['id', 'CL_PENT'])['SUPERFICIE'].sum().reset_index()\n",
    "        \n",
    "        # Append the grouped data to the aggregated_results DataFrame\n",
    "        aggregated_results = pd.concat([aggregated_results, grouped_data], ignore_index=True)\n",
    "        \n",
    "# Export the grouped data to a CSV file\n",
    "aggregated_results.to_file(r\"C:\\Users\\thier\\Downloads\\Projet\\Projet\\slope_buffers_2km.shp\")"
   ]
  },
  {
   "cell_type": "markdown",
   "metadata": {},
   "source": [
    "## Landcover type"
   ]
  },
  {
   "cell_type": "code",
   "execution_count": null,
   "metadata": {},
   "outputs": [],
   "source": [
    "import pandas as pd"
   ]
  },
  {
   "cell_type": "code",
   "execution_count": null,
   "metadata": {},
   "outputs": [],
   "source": [
    "print(\"CRS of roads:\", landcover.crs)\n",
    "print(\"CRS of buffered_camera_df_500m:\", buffered_camera_df_1km.crs)"
   ]
  },
  {
   "cell_type": "code",
   "execution_count": null,
   "metadata": {},
   "outputs": [],
   "source": [
    "pd.set_option('display.max_columns', None)\n",
    "landcover.head(20)"
   ]
  },
  {
   "cell_type": "code",
   "execution_count": null,
   "metadata": {},
   "outputs": [],
   "source": [
    "landcover.to_csv(r\"C:\\Users\\thier\\Downloads\\Projet\\Projet\\landcover.csv\", index=False)"
   ]
  },
  {
   "cell_type": "code",
   "execution_count": null,
   "metadata": {},
   "outputs": [],
   "source": [
    "#Clip the rivers with the buffers\n",
    "clip_rivers_500m = gpd.clip(roads, buffered_camera_df_1km)\n",
    "clip_rivers_500m"
   ]
  },
  {
   "cell_type": "markdown",
   "metadata": {},
   "source": [
    "### Landcover buffers 500m"
   ]
  },
  {
   "cell_type": "code",
   "execution_count": null,
   "metadata": {},
   "outputs": [],
   "source": [
    "import geopandas as gpd\n",
    "import pandas as pd\n",
    "\n",
    "aggregated_results = pd.DataFrame()\n",
    "\n",
    "for selected_buffer_index in range(len(buffered_camera_df_500m)):\n",
    "    selected_buffer = buffered_camera_df_500m.iloc[selected_buffer_index:selected_buffer_index + 1]\n",
    "    # Calculate the intersection\n",
    "    clipped_shp = gpd.overlay(landcover, selected_buffer, how='intersection')\n",
    "\n",
    "    if 'id' in clipped_shp.columns and 'CL_PENT' in clipped_shp.columns and 'SUPERFICIE' in clipped_shp.columns:\n",
    "        grouped_data = clipped_shp.groupby(['id', 'TYPE_ECO'])['SUPERFICIE'].sum().reset_index()\n",
    "        \n",
    "        # Append the grouped data to the aggregated_results DataFrame\n",
    "        aggregated_results = pd.concat([aggregated_results, grouped_data], ignore_index=True)\n",
    "        \n",
    "# Export the grouped data to a CSV file\n",
    "aggregated_results.to_csv(r\"C:\\Users\\thier\\Downloads\\Projet\\Projet\\landcover_buffers_500m.csv\", index=False)\n",
    "aggregated_results\n"
   ]
  },
  {
   "cell_type": "markdown",
   "metadata": {},
   "source": [
    "### Landcover buffers 1km"
   ]
  },
  {
   "cell_type": "code",
   "execution_count": null,
   "metadata": {},
   "outputs": [],
   "source": [
    "import geopandas as gpd\n",
    "import pandas as pd\n",
    "\n",
    "aggregated_results = pd.DataFrame()\n",
    "\n",
    "for selected_buffer_index in range(len(buffered_camera_df_1km)):\n",
    "    selected_buffer = buffered_camera_df_1km.iloc[selected_buffer_index:selected_buffer_index + 1]\n",
    "    # Calculate the intersection\n",
    "    clipped_shp = gpd.overlay(landcover, selected_buffer, how='intersection')\n",
    "\n",
    "    if 'id' in clipped_shp.columns and 'CL_PENT' in clipped_shp.columns and 'SUPERFICIE' in clipped_shp.columns:\n",
    "        grouped_data = clipped_shp.groupby(['id', 'TYPE_ECO'])['SUPERFICIE'].sum().reset_index()\n",
    "        \n",
    "        # Append the grouped data to the aggregated_results DataFrame\n",
    "        aggregated_results = pd.concat([aggregated_results, grouped_data], ignore_index=True)\n",
    "        \n",
    "# Export the grouped data to a CSV file\n",
    "aggregated_results.to_csv(r\"C:\\Users\\thier\\Downloads\\Projet\\Projet\\landcover_buffers_1km.csv\", index=False)\n",
    "aggregated_results"
   ]
  },
  {
   "cell_type": "markdown",
   "metadata": {},
   "source": [
    "### Landcover buffers 2km"
   ]
  },
  {
   "cell_type": "code",
   "execution_count": null,
   "metadata": {},
   "outputs": [],
   "source": [
    "import geopandas as gpd\n",
    "import pandas as pd\n",
    "\n",
    "aggregated_results = pd.DataFrame()\n",
    "\n",
    "for selected_buffer_index in range(len(buffered_camera_df_2km)):\n",
    "    selected_buffer = buffered_camera_df_2km.iloc[selected_buffer_index:selected_buffer_index + 1]\n",
    "    # Calculate the intersection\n",
    "    clipped_shp = gpd.overlay(landcover, selected_buffer, how='intersection')\n",
    "\n",
    "    if 'id' in clipped_shp.columns and 'CL_PENT' in clipped_shp.columns and 'SUPERFICIE' in clipped_shp.columns:\n",
    "        grouped_data = clipped_shp.groupby(['id', 'TYPE_ECO'])['SUPERFICIE'].sum().reset_index()\n",
    "        \n",
    "        # Append the grouped data to the aggregated_results DataFrame\n",
    "        aggregated_results = pd.concat([aggregated_results, grouped_data], ignore_index=True)\n",
    "        \n",
    "# Export the grouped data to a CSV file\n",
    "aggregated_results.to_csv(r\"C:\\Users\\thier\\Downloads\\Projet\\Projet\\landcover_buffers_2km.csv\", index=False)\n",
    "aggregated_results"
   ]
  },
  {
   "cell_type": "markdown",
   "metadata": {},
   "source": [
    "## Utilisation du sol"
   ]
  },
  {
   "cell_type": "markdown",
   "metadata": {},
   "source": [
    "### Check projection first\n"
   ]
  },
  {
   "cell_type": "code",
   "execution_count": null,
   "metadata": {},
   "outputs": [],
   "source": [
    "print(\"CRS of roads:\", sol.crs)\n",
    "print(\"CRS of buffered_camera_df_500m:\", buffered_camera_df_500m.crs)"
   ]
  },
  {
   "cell_type": "markdown",
   "metadata": {},
   "source": [
    "### Sol buffers 500m"
   ]
  },
  {
   "cell_type": "code",
   "execution_count": null,
   "metadata": {},
   "outputs": [],
   "source": [
    "buffered_camera_df_500m"
   ]
  },
  {
   "cell_type": "code",
   "execution_count": null,
   "metadata": {},
   "outputs": [],
   "source": [
    "import geopandas as gpd\n",
    "import pandas as pd\n",
    "\n",
    "aggregated_results = pd.DataFrame()\n",
    "\n",
    "for selected_buffer_index in range(len(buffered_camera_df_500m)):\n",
    "    selected_buffer = buffered_camera_df_500m.iloc[selected_buffer_index:selected_buffer_index + 1]\n",
    "    clipped_shp = gpd.overlay(sol, selected_buffer, how='intersection')\n",
    "\n",
    "    if 'Camera' in clipped_shp.columns and 'DESC_CAT' in clipped_shp.columns and 'Shape_Area' in clipped_shp.columns:\n",
    "        grouped_data = clipped_shp.groupby(['Camera', 'DESC_CAT'])['Shape_Area'].sum().reset_index()\n",
    "        grouped_data = grouped_data.rename(columns={'Shape_Area': 'Superficie_m2', 'DESC_CAT': 'Type sol'})\n",
    "        aggregated_results = pd.concat([aggregated_results, grouped_data], ignore_index=True)\n",
    "        \n",
    "# Export the file\n",
    "aggregated_results.to_csv(r\"C:\\Users\\thier\\Downloads\\Projet\\Projet\\sol_buffers_500m_4.csv\", index=False)\n",
    "aggregated_results"
   ]
  },
  {
   "cell_type": "code",
   "execution_count": null,
   "metadata": {},
   "outputs": [],
   "source": [
    "import fiona\n",
    "fiona.supported_drivers "
   ]
  },
  {
   "cell_type": "code",
   "execution_count": null,
   "metadata": {},
   "outputs": [],
   "source": [
    "roads"
   ]
  },
  {
   "cell_type": "code",
   "execution_count": null,
   "metadata": {},
   "outputs": [],
   "source": [
    "#Clip the roads with the buffers\n",
    "sol_500m = gpd.overlay(roads, buffered_camera_df_500m, how='intersection')\n",
    "#Clean the dataframe    \n",
    "df_clean = [\"Camera\", \"Shape_Leng\", \"geometry\", \"ClsRte\"]\n",
    "sol_500m= sol_500m[df_clean]\n",
    "#Aggregate the data\n",
    "df_sol_500m = sol_500m.dissolve(by='Camera', aggfunc='sum').drop(columns=\"ClsRte\").reset_index()\n",
    "#Export the file in shp or csv\n",
    "#df_sol_500m.to_file(r\"C:\\Users\\thier\\Downloads\\Projet\\Projet\\sol_buffers_500m_9.shp\")\n",
    "df_sol_500m.to_csv(r\"C:\\Users\\thier\\Downloads\\Projet\\Projet\\sol_buffers_500m_9.csv\", index=False)\n"
   ]
  },
  {
   "cell_type": "code",
   "execution_count": null,
   "metadata": {},
   "outputs": [],
   "source": [
    "test3 = df_sol_500m.rename(columns={'Shape_Leng': 'Longueur_m2'})"
   ]
  },
  {
   "cell_type": "code",
   "execution_count": null,
   "metadata": {},
   "outputs": [],
   "source": [
    "test3"
   ]
  },
  {
   "cell_type": "code",
   "execution_count": null,
   "metadata": {},
   "outputs": [],
   "source": [
    "print(type(df_sol_500m))"
   ]
  },
  {
   "cell_type": "code",
   "execution_count": null,
   "metadata": {},
   "outputs": [],
   "source": [
    "grouped_sol_500m = grouped_sol_500m.rename(columns={'Shape_Area': 'Superficie_m2', 'DESC_CAT': 'Type sol'})\n"
   ]
  },
  {
   "cell_type": "code",
   "execution_count": null,
   "metadata": {},
   "outputs": [],
   "source": [
    "import geopandas as gpd\n",
    "\n",
    "# Create a GeoDataFrame from grouped_sol_500m\n",
    "grouped_sol_500m_gdf = gpd.GeoDataFrame(grouped_sol_500m)\n",
    "\n",
    "# Now you have a GeoDataFrame with the \"geometry\" column assigned\n"
   ]
  },
  {
   "cell_type": "code",
   "execution_count": null,
   "metadata": {},
   "outputs": [],
   "source": [
    "grouped_sol_500m.to_file(r\"C:\\Users\\thier\\Downloads\\Projet\\Projet\\roads_buffers_500m_5.shp\")"
   ]
  },
  {
   "cell_type": "code",
   "execution_count": null,
   "metadata": {},
   "outputs": [],
   "source": [
    "grouped_sol_500m.to_file(r\"C:\\Users\\thier\\Downloads\\Projet\\Projet\\sol_buffers_500m_5.shp\")"
   ]
  },
  {
   "cell_type": "markdown",
   "metadata": {},
   "source": [
    "### Sol buffer 1km"
   ]
  },
  {
   "cell_type": "code",
   "execution_count": null,
   "metadata": {},
   "outputs": [],
   "source": [
    "import geopandas as gpd\n",
    "import pandas as pd\n",
    "\n",
    "aggregated_results = pd.DataFrame()\n",
    "\n",
    "for selected_buffer_index in range(len(buffered_camera_df_1km)):\n",
    "    selected_buffer = buffered_camera_df_1km.iloc[selected_buffer_index:selected_buffer_index + 1]\n",
    "    clipped_shp = gpd.overlay(sol, selected_buffer, how='intersection')\n",
    "\n",
    "    if 'id' in clipped_shp.columns and 'DESC_CAT' in clipped_shp.columns and 'Shape_Area' in clipped_shp.columns:\n",
    "        grouped_data = clipped_shp.groupby(['id', 'DESC_CAT'])['Shape_Area'].sum().reset_index()\n",
    "        grouped_data = grouped_data.rename(columns={'Shape_Area': 'Superficie_m2', 'DESC_CAT': 'Type sol'})\n",
    "        aggregated_results = pd.concat([aggregated_results, grouped_data], ignore_index=True)\n",
    "        \n",
    "# Export the file\n",
    "aggregated_results.to_csv(r\"C:\\Users\\thier\\Downloads\\Projet\\Projet\\sol_buffers_1km.csv\", index=False)\n",
    "aggregated_results"
   ]
  },
  {
   "cell_type": "markdown",
   "metadata": {},
   "source": [
    "### Sol buffer 2km"
   ]
  },
  {
   "cell_type": "code",
   "execution_count": null,
   "metadata": {},
   "outputs": [],
   "source": [
    "import geopandas as gpd\n",
    "import pandas as pd\n",
    "\n",
    "aggregated_results = pd.DataFrame()\n",
    "\n",
    "for selected_buffer_index in range(len(buffered_camera_df_2km)):\n",
    "    selected_buffer = buffered_camera_df_2km.iloc[selected_buffer_index:selected_buffer_index + 1]\n",
    "    clipped_shp = gpd.overlay(sol, selected_buffer, how='intersection')\n",
    "\n",
    "    if 'id' in clipped_shp.columns and 'id' in clipped_shp.columns and 'Shape_Area' in clipped_shp.columns:\n",
    "        grouped_data = clipped_shp.groupby(['Site', 'DESC_CAT'])['Shape_Area'].sum().reset_index()\n",
    "        grouped_data = grouped_data.rename(columns={'Shape_Area': 'Superficie_m2', 'DESC_CAT': 'Type sol'})\n",
    "        aggregated_results = pd.concat([aggregated_results, grouped_data], ignore_index=True)\n",
    "        \n",
    "# Export the file\n",
    "aggregated_results.to_csv(r\"C:\\Users\\thier\\Downloads\\Projet\\Projet\\sol_buffers_2km.csv\", index=False)\n",
    "aggregated_results"
   ]
  },
  {
   "cell_type": "code",
   "execution_count": null,
   "metadata": {},
   "outputs": [],
   "source": [
    "import geopandas as gpd\n",
    "import pandas as pd\n",
    "\n",
    "def process_buffers(buffer_df, buffer_name, rivers_gdf, output_csv_path):\n",
    "    results_df = pd.DataFrame(columns=[\"Buffer Index\", \"Clipped Length\"])\n",
    "    clipped_results_gdf = gpd.GeoDataFrame()\n",
    "\n",
    "    for selected_buffer_index in range(len(buffer_df)):\n",
    "        selected_buffer = buffer_df.iloc[selected_buffer_index:selected_buffer_index + 1]\n",
    "        clipped_shp = gpd.overlay(rivers_gdf, selected_buffer, how='intersection')\n",
    "        clipped_length = clipped_shp.length.sum()\n",
    "        print(f\"{buffer_name} - Buffer Index {selected_buffer_index}: Clipped Length = {clipped_length}\")\n",
    "\n",
    "        results_df = pd.concat([results_df, pd.DataFrame({\"Buffer Index\": [selected_buffer_index], \"Clipped Length\": [clipped_length]})], ignore_index=True)\n",
    "        clipped_results_gdf = gpd.GeoDataFrame(pd.concat([clipped_results_gdf, clipped_shp]), crs=rivers_gdf.crs)\n",
    "\n",
    "    results_df.to_csv(output_csv_path, index=False)\n",
    "    # Optionally save the GeoDataFrame as well\n",
    "    # clipped_results_gdf.to_file(output_csv_path.replace('.csv', '.shp'))\n",
    "\n",
    "# Assuming 'rivieres' is your rivers GeoDataFrame\n",
    "# And you have buffered_camera_df_500m, buffered_camera_df_1km, buffered_camera_df_2km defined\n",
    "\n",
    "process_buffers(buffered_camera_df_500m, \"Rivers buffers 500m\", rivieres, r\"C:\\Users\\thier\\Downloads\\Projet\\Projet\\rivers_buffers_500m_test.csv\")\n",
    "process_buffers(buffered_camera_df_1km, \"Rivers buffers 1km\", rivieres, r\"C:\\Users\\thier\\Downloads\\Projet\\Projet\\rivers_buffers_1km_test.csv\")\n",
    "process_buffers(buffered_camera_df_2km, \"Rivers buffers 2km\", rivieres, r\"C:\\Users\\thier\\Downloads\\Projet\\\\Projet\\rivers_buffers_2km_test.csv\")\n"
   ]
  },
  {
   "cell_type": "markdown",
   "metadata": {},
   "source": []
  }
 ],
 "metadata": {
  "kernelspec": {
   "display_name": "Python 3",
   "language": "python",
   "name": "python3"
  },
  "language_info": {
   "codemirror_mode": {
    "name": "ipython",
    "version": 3
   },
   "file_extension": ".py",
   "mimetype": "text/x-python",
   "name": "python",
   "nbconvert_exporter": "python",
   "pygments_lexer": "ipython3",
   "version": "3.12.1"
  }
 },
 "nbformat": 4,
 "nbformat_minor": 2
}
