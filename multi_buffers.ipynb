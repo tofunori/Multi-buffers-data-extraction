{
 "cells": [
  {
   "cell_type": "markdown",
   "metadata": {},
   "source": [
    "# Project PICOM"
   ]
  },
  {
   "cell_type": "markdown",
   "metadata": {},
   "source": [
    "## Import the libraries and files"
   ]
  },
  {
   "cell_type": "code",
   "execution_count": null,
   "metadata": {},
   "outputs": [],
   "source": [
    "#Importing libraries\n",
    "import geopandas as gpd\n",
    "import pandas as pd \n",
    "import matplotlib.pyplot as plt"
   ]
  },
  {
   "cell_type": "code",
   "execution_count": null,
   "metadata": {},
   "outputs": [],
   "source": [
    "#Import the files\n",
    "camera_df = gpd.read_file(r\"C:\\Users\\thier\\Downloads\\Projet\\Projet\\Cameras.shp\")\n",
    "rivieres = gpd.read_file(r\"C:\\Users\\thier\\Downloads\\Projet\\Projet\\Rivieres.shp\")\n",
    "roads = gpd.read_file(r\"C:\\Users\\thier\\Downloads\\Projet\\Projet\\Reseau_Routier.shp\")\n",
    "railroad = gpd.read_file(r\"C:\\Users\\thier\\Downloads\\Projet\\Projet\\Reseau_Ferroviaire.shp\")\n",
    "slope = gpd.read_file(r\"C:\\Users\\thier\\Downloads\\Projet\\Projet\\Pente.shp\")\n",
    "landcover = gpd.read_file(r\"C:\\Users\\thier\\Downloads\\Projet\\Projet\\Type_Couverture.shp\")\n",
    "sol = gpd.read_file(r\"C:\\Users\\thier\\Downloads\\Projet\\Projet\\utilisation_territoire2.shp\")\n"
   ]
  },
  {
   "cell_type": "code",
   "execution_count": null,
   "metadata": {},
   "outputs": [],
   "source": [
    "#export the camera dataframe\n",
    "camera_df.to_file(r\"C:\\Users\\thier\\Downloads\\Projet\\Projet\\points.shp\", )\n",
    "camera_df"
   ]
  },
  {
   "cell_type": "code",
   "execution_count": null,
   "metadata": {},
   "outputs": [],
   "source": [
    "camera_df = camera_df.set_index(\"Site\")"
   ]
  },
  {
   "cell_type": "code",
   "execution_count": null,
   "metadata": {},
   "outputs": [],
   "source": [
    "#Make sure the projection is the right one\n",
    "camera_df = camera_df.to_crs('EPSG:26918')"
   ]
  },
  {
   "cell_type": "markdown",
   "metadata": {},
   "source": [
    "### Create buffers of 500m, 1km and 2km"
   ]
  },
  {
   "cell_type": "code",
   "execution_count": null,
   "metadata": {},
   "outputs": [],
   "source": [
    "#Create buffers for each cameras\n",
    "buffered_geometries_500m = camera_df.geometry.apply(lambda geom: geom.buffer(500))\n",
    "buffered_geometries_1km = camera_df.geometry.apply(lambda geom: geom.buffer(1000))\n",
    "buffered_geometries_2km = camera_df.geometry.apply(lambda geom: geom.buffer(2000))\n",
    "\n",
    "# Create GeoDataFrames for each buffer\n",
    "buffered_camera_df_500m = gpd.GeoDataFrame(geometry=buffered_geometries_500m, crs=camera_df.crs)\n",
    "buffered_camera_df_1km = gpd.GeoDataFrame(geometry=buffered_geometries_1km, crs=camera_df.crs)\n",
    "buffered_camera_df_2km = gpd.GeoDataFrame(geometry=buffered_geometries_2km, crs=camera_df.crs)\n"
   ]
  },
  {
   "cell_type": "code",
   "execution_count": null,
   "metadata": {},
   "outputs": [],
   "source": [
    "#Export the buffers shp\n",
    "buffered_camera_df_500m.to_file(r\"C:\\Users\\thier\\Downloads\\Projet\\Projet\\buffers_500m.shp\")\n",
    "buffered_camera_df_1km.to_file(r\"C:\\Users\\thier\\Downloads\\Projet\\Projet\\buffers_1km.shp\")\n",
    "buffered_camera_df_2km.to_file(r\"C:\\Users\\thier\\Downloads\\Projet\\Projet\\buffers_2km.shp\")"
   ]
  },
  {
   "cell_type": "code",
   "execution_count": null,
   "metadata": {},
   "outputs": [],
   "source": [
    "# Rename the index column to 'camera'\n",
    "buffered_camera_df_500m = buffered_camera_df_500m.reset_index().rename(columns={'index': 'camera'}) \n",
    "buffered_camera_df_1km = buffered_camera_df_1km.reset_index().rename(columns={'index': 'camera'})\n",
    "buffered_camera_df_2km = buffered_camera_df_2km.reset_index().rename(columns={'index': 'camera'})\n"
   ]
  },
  {
   "cell_type": "code",
   "execution_count": null,
   "metadata": {},
   "outputs": [],
   "source": [
    "# Create a new column 'id' with index values for 500m, 1km and 2km buffers\n",
    "buffered_camera_df_500m['id'] = buffered_camera_df_500m.index\n",
    "buffered_camera_df_500m\n",
    "buffered_camera_df_1km['id'] = buffered_camera_df_1km.index\n",
    "buffered_camera_df_1km\n",
    "buffered_camera_df_2km['id'] = buffered_camera_df_2km.index\n",
    "buffered_camera_df_2km"
   ]
  },
  {
   "cell_type": "markdown",
   "metadata": {},
   "source": [
    "## Rivers"
   ]
  },
  {
   "cell_type": "markdown",
   "metadata": {},
   "source": [
    "### Set the rivers shp projection"
   ]
  },
  {
   "cell_type": "code",
   "execution_count": null,
   "metadata": {},
   "outputs": [],
   "source": [
    "#Print the CRS of each file\n",
    "print(\"CRS of rivieres:\", rivieres.crs)\n",
    "print(\"CRS of buffered_camera_df_500m:\", buffered_camera_df_500m.crs)"
   ]
  },
  {
   "cell_type": "code",
   "execution_count": null,
   "metadata": {},
   "outputs": [],
   "source": [
    "#Print the CRS of each file\n",
    "if rivieres.crs is None:\n",
    "    rivieres.crs = 'EPSG:26918'\n",
    "rivieres = rivieres.to_crs(buffered_camera_df_500m.crs)"
   ]
  },
  {
   "cell_type": "markdown",
   "metadata": {},
   "source": [
    "### Rivers buffers 500m"
   ]
  },
  {
   "cell_type": "code",
   "execution_count": null,
   "metadata": {},
   "outputs": [],
   "source": [
    "import geopandas as gpd\n",
    "import pandas as pd\n",
    "\n",
    "# Replace rivieres_1km with rivieres_500m, and buffered_camera_df_1km with buffered_camera_df_500m\n",
    "rivieres_500m = rivieres.overlay(buffered_camera_df_500m, how='intersection')\n",
    "rivieres_500m['length'] = rivieres_500m.geometry.length\n",
    "\n",
    "# Ensure that 'Site' and other necessary columns are included\n",
    "rivieres_500m_clean = rivieres_500m[['Site', 'length', 'geometry']]\n",
    "rivieres_500m_sum = rivieres_500m_clean.dissolve(by='Site', aggfunc='sum')\n",
    "\n",
    "# Update the file paths in the to_file and to_csv methods\n",
    "rivieres_500m_sum.to_file(r\"C:\\Users\\thier\\Downloads\\Projet\\rivieres_buffers_500m.shp\")\n",
    "rivieres_500m_sum.to_csv(r\"C:\\Users\\thier\\Downloads\\Projet\\rivieres_buffers_500m.csv\")\n",
    "\n",
    "# Print the result and plot it\n",
    "print(rivieres_500m_sum)\n",
    "rivieres_500m_sum.plot()\n"
   ]
  },
  {
   "cell_type": "markdown",
   "metadata": {},
   "source": [
    "### Rivers buffers 1km   "
   ]
  },
  {
   "cell_type": "code",
   "execution_count": null,
   "metadata": {},
   "outputs": [],
   "source": [
    "import geopandas as gpd\n",
    "import pandas as pd\n",
    "\n",
    "# Replace rivieres_2km with rivieres_1km, and buffered_camera_df_2km with buffered_camera_df_1km\n",
    "rivieres_1km = rivieres.overlay(buffered_camera_df_1km, how='intersection')\n",
    "rivieres_1km['length'] = rivieres_1km.geometry.length\n",
    "\n",
    "# Ensure that 'Site' and other necessary columns are included\n",
    "rivieres_1km_clean = rivieres_1km[['Site', 'length', 'geometry']]\n",
    "rivieres_1km_sum = rivieres_1km_clean.dissolve(by='Site', aggfunc='sum')\n",
    "\n",
    "# Update the file paths in the to_file and to_csv methods\n",
    "rivieres_1km_sum.to_file(r\"C:\\Users\\thier\\Downloads\\Projet\\rivieres_buffers_1km.shp\")\n",
    "rivieres_1km_sum.to_csv(r\"C:\\Users\\thier\\Downloads\\Projet\\rivieres_buffers_1km.csv\")\n",
    "\n",
    "# Print the result and plot it\n",
    "print(rivieres_1km_sum)\n",
    "rivieres_1km_sum.plot()\n"
   ]
  },
  {
   "cell_type": "markdown",
   "metadata": {},
   "source": [
    "### Rivers buffers 2km"
   ]
  },
  {
   "cell_type": "code",
   "execution_count": null,
   "metadata": {},
   "outputs": [],
   "source": [
    "import geopandas as gpd\n",
    "import pandas as pd\n",
    "\n",
    "# Replace roads_2km with rivieres_2km, and ensure buffered_camera_df_2km is correct\n",
    "rivieres_2km = rivieres.overlay(buffered_camera_df_2km, how='intersection')\n",
    "rivieres_2km['length'] = rivieres_2km.geometry.length\n",
    "\n",
    "# Ensure that 'Site' and other necessary columns are included\n",
    "rivieres_2km_clean = rivieres_2km[['Site', 'length', 'geometry']]\n",
    "rivieres_2km_sum = rivieres_2km_clean.dissolve(by='Site', aggfunc='sum')\n",
    "\n",
    "# Update the file paths in the to_file and to_csv methods\n",
    "rivieres_2km_sum.to_file(r\"C:\\Users\\thier\\Downloads\\Projet\\rivieres_buffers_2km.shp\")\n",
    "rivieres_2km_sum.to_csv(r\"C:\\Users\\thier\\Downloads\\Projet\\rivieres_buffers_2km.csv\")\n",
    "\n",
    "# Print the result and plot it\n",
    "print(rivieres_2km_sum)\n",
    "rivieres_2km_sum.plot()\n"
   ]
  },
  {
   "cell_type": "markdown",
   "metadata": {},
   "source": [
    "## Roads"
   ]
  },
  {
   "cell_type": "code",
   "execution_count": null,
   "metadata": {},
   "outputs": [],
   "source": [
    "print(\"CRS of roads:\", roads.crs)\n",
    "print(\"CRS of buffered_camera_df_500m:\", buffered_camera_df_1km.crs)"
   ]
  },
  {
   "cell_type": "code",
   "execution_count": null,
   "metadata": {},
   "outputs": [],
   "source": [
    "if roads.crs is None:\n",
    "    roads.crs = 'EPSG:26918'\n",
    "roads = roads.to_crs(buffered_camera_df_1km.crs)"
   ]
  },
  {
   "cell_type": "markdown",
   "metadata": {},
   "source": [
    "### Roads buffers 500m"
   ]
  },
  {
   "cell_type": "code",
   "execution_count": null,
   "metadata": {},
   "outputs": [],
   "source": [
    "import geopandas as gpd\n",
    "import pandas as pd\n",
    "\n",
    "# Replace railroad_500m with roads_500m, and ensure buffered_camera_df_500m is correct\n",
    "roads_500m = roads.overlay(buffered_camera_df_500m, how='intersection')\n",
    "roads_500m['length'] = roads_500m.geometry.length\n",
    "\n",
    "# Ensure that 'Site' and other necessary columns are included\n",
    "roads_500m_clean = roads_500m[['Site', 'length', 'geometry']]\n",
    "roads_500m_sum = roads_500m_clean.dissolve(by='Site', aggfunc='sum')\n",
    "\n",
    "# Update the file paths in the to_file and to_csv methods\n",
    "roads_500m_sum.to_file(r\"C:\\Users\\thier\\Downloads\\Projet\\roads_buffers_500m.shp\")\n",
    "roads_500m_sum.to_csv(r\"C:\\Users\\thier\\Downloads\\Projet\\roads_buffers_500m.csv\")\n",
    "\n",
    "# Print the result and plot it\n",
    "print(roads_500m_sum)\n",
    "roads_500m_sum.plot()\n"
   ]
  },
  {
   "cell_type": "markdown",
   "metadata": {},
   "source": [
    "### Roads buffers 1km"
   ]
  },
  {
   "cell_type": "code",
   "execution_count": null,
   "metadata": {},
   "outputs": [],
   "source": [
    "import geopandas as gpd\n",
    "import pandas as pd\n",
    "\n",
    "# Replace roads_500m with roads_1km, and buffered_camera_df_500m with buffered_camera_df_1km\n",
    "roads_1km = roads.overlay(buffered_camera_df_1km, how='intersection')\n",
    "roads_1km['length'] = roads_1km.geometry.length\n",
    "\n",
    "# Ensure that 'Site' and other necessary columns are included\n",
    "roads_1km_clean = roads_1km[['Site', 'length', 'geometry']]\n",
    "roads_1km_sum = roads_1km_clean.dissolve(by='Site', aggfunc='sum')\n",
    "\n",
    "# Update the file paths in the to_file and to_csv methods\n",
    "roads_1km_sum.to_file(r\"C:\\Users\\thier\\Downloads\\Projet\\roads_buffers_1km.shp\")\n",
    "roads_1km_sum.to_csv(r\"C:\\Users\\thier\\Downloads\\Projet\\roads_buffers_1km.csv\")\n",
    "\n",
    "# Print the result and plot it\n",
    "print(roads_1km_sum)\n",
    "roads_1km_sum.plot()\n"
   ]
  },
  {
   "cell_type": "markdown",
   "metadata": {},
   "source": [
    "### Roads buffers 2km"
   ]
  },
  {
   "cell_type": "code",
   "execution_count": null,
   "metadata": {},
   "outputs": [],
   "source": [
    "import geopandas as gpd\n",
    "import pandas as pd\n",
    "\n",
    "# Replace roads_1km with roads_2km, and buffered_camera_df_1km with buffered_camera_df_2km\n",
    "roads_2km = roads.overlay(buffered_camera_df_2km, how='intersection')\n",
    "roads_2km['length'] = roads_2km.geometry.length\n",
    "\n",
    "# Ensure that 'Site' and other necessary columns are included\n",
    "roads_2km_clean = roads_2km[['Site', 'length', 'geometry']]\n",
    "roads_2km_sum = roads_2km_clean.dissolve(by='Site', aggfunc='sum')\n",
    "\n",
    "# Update the file paths in the to_file and to_csv methods\n",
    "roads_2km_sum.to_file(r\"C:\\Users\\thier\\Downloads\\Projet\\roads_buffers_2km.shp\")\n",
    "roads_2km_sum.to_csv(r\"C:\\Users\\thier\\Downloads\\Projet\\roads_buffers_2km.csv\")\n",
    "\n",
    "# Print the result and plot it\n",
    "print(roads_2km_sum)\n",
    "roads_2km_sum.plot()\n"
   ]
  },
  {
   "cell_type": "markdown",
   "metadata": {},
   "source": [
    "## Railroads"
   ]
  },
  {
   "cell_type": "code",
   "execution_count": null,
   "metadata": {},
   "outputs": [],
   "source": [
    "print(\"CRS of roads:\", railroad.crs)\n",
    "print(\"CRS of buffered_camera_df_500m:\", buffered_camera_df_1km.crs)"
   ]
  },
  {
   "cell_type": "code",
   "execution_count": null,
   "metadata": {},
   "outputs": [],
   "source": [
    "if railroad.crs is None:\n",
    "    railroad.crs = 'EPSG:26918'\n",
    "railroad = railroad.to_crs(buffered_camera_df_1km.crs)"
   ]
  },
  {
   "cell_type": "markdown",
   "metadata": {},
   "source": [
    "### Railroad buffer 500m"
   ]
  },
  {
   "cell_type": "code",
   "execution_count": null,
   "metadata": {},
   "outputs": [],
   "source": [
    "import geopandas as gpd\n",
    "import pandas as pd\n",
    "\n",
    "# Replace railroad_1km with railroad_500m, and buffered_camera_df_1km with buffered_camera_df_500m\n",
    "railroad_500m = railroad.overlay(buffered_camera_df_500m, how='intersection')\n",
    "railroad_500m['length'] = railroad_500m.geometry.length\n",
    "\n",
    "# Ensure that 'Site' and other necessary columns are included\n",
    "railroad_500m_clean = railroad_500m[['Site', 'length', 'geometry']]\n",
    "railroad_500m_sum = railroad_500m_clean.dissolve(by='Site', aggfunc='sum')\n",
    "\n",
    "# Update the file paths in the to_file and to_csv methods\n",
    "railroad_500m_sum.to_file(r\"C:\\Users\\thier\\Downloads\\Projet\\railroad_buffers_500m.shp\")\n",
    "railroad_500m_sum.to_csv(r\"C:\\Users\\thier\\Downloads\\Projet\\railroad_buffers_500m.csv\")\n",
    "\n",
    "# Print the result and plot it\n",
    "print(railroad_500m_sum)\n",
    "railroad_500m_sum.plot()\n",
    "\n"
   ]
  },
  {
   "cell_type": "markdown",
   "metadata": {},
   "source": [
    "### Railroad buffers 1km"
   ]
  },
  {
   "cell_type": "code",
   "execution_count": null,
   "metadata": {},
   "outputs": [],
   "source": [
    "import geopandas as gpd\n",
    "import pandas as pd\n",
    "\n",
    "# Replace railroad_2km with railroad_1km, and buffered_camera_df_2km with buffered_camera_df_1km\n",
    "railroad_1km = railroad.overlay(buffered_camera_df_1km, how='intersection')\n",
    "railroad_1km['length'] = railroad_1km.geometry.length\n",
    "\n",
    "# Ensure that 'Site' and other necessary columns are included\n",
    "railroad_1km_clean = railroad_1km[['Site', 'length', 'geometry']]\n",
    "railroad_1km_sum = railroad_1km_clean.dissolve(by='Site', aggfunc='sum')\n",
    "\n",
    "# Update the file paths in the to_file and to_csv methods\n",
    "railroad_1km_sum.to_file(r\"C:\\Users\\thier\\Downloads\\Projet\\railroad_buffers_1km.shp\")\n",
    "railroad_1km_sum.to_csv(r\"C:\\Users\\thier\\Downloads\\Projet\\railroad_buffers_1km.csv\")\n",
    "\n",
    "# Print the result and plot it\n",
    "print(railroad_1km_sum)\n",
    "railroad_1km_sum.plot()\n"
   ]
  },
  {
   "cell_type": "markdown",
   "metadata": {},
   "source": [
    "### Railroad buffers 2km"
   ]
  },
  {
   "cell_type": "code",
   "execution_count": null,
   "metadata": {},
   "outputs": [],
   "source": [
    "import geopandas as gpd\n",
    "import pandas as pd\n",
    "\n",
    "# Replace railroad_1km with railroad_2km, and buffered_camera_df_1km with buffered_camera_df_2km\n",
    "railroad_2km = railroad.overlay(buffered_camera_df_2km, how='intersection')\n",
    "railroad_2km['length'] = railroad_2km.geometry.length\n",
    "\n",
    "# Ensure that 'Site' and other necessary columns are included\n",
    "railroad_2km_clean = railroad_2km[['Site', 'length', 'geometry']]\n",
    "railroad_2km_sum = railroad_2km_clean.dissolve(by='Site', aggfunc='sum')\n",
    "\n",
    "\n",
    "# Update the file paths in the to_file and to_csv methods\n",
    "railroad_2km_sum.to_file(r\"C:\\Users\\thier\\Downloads\\Projet\\railroad_buffers_2km_2.shp\")\n",
    "railroad_2km_sum.to_csv(r\"C:\\Users\\thier\\Downloads\\Projet\\railroad_buffers_2km.csv\")\n",
    "\n",
    "# Print the result and plot it\n",
    "print(railroad_2km_sum)\n",
    "railroad_2km_sum.plot()\n"
   ]
  },
  {
   "cell_type": "markdown",
   "metadata": {},
   "source": [
    "## Slope"
   ]
  },
  {
   "cell_type": "code",
   "execution_count": null,
   "metadata": {},
   "outputs": [],
   "source": [
    "print(\"CRS of roads:\", slope.crs)\n",
    "print(\"CRS of buffered_camera_df_500m:\", buffered_camera_df_1km.crs)"
   ]
  },
  {
   "cell_type": "code",
   "execution_count": null,
   "metadata": {},
   "outputs": [],
   "source": [
    "if slope.crs is None:\n",
    "    slope.crs = 'EPSG:26918'\n",
    "slope = slope.to_crs(buffered_camera_df_1km.crs)"
   ]
  },
  {
   "cell_type": "markdown",
   "metadata": {},
   "source": [
    "### Slope buffer 500m"
   ]
  },
  {
   "cell_type": "code",
   "execution_count": null,
   "metadata": {},
   "outputs": [],
   "source": [
    "import geopandas as gpd\n",
    "import pandas as pd\n",
    "\n",
    "slope_500m = slope.overlay(buffered_camera_df_500m, how='intersection')\n",
    "slope_500m[\"area\"]=slope_500m[\"geometry\"].area\n",
    "# Initialize an empty list to store the results\n",
    "all_sites = []\n",
    "\n",
    "# Iterate over each unique site\n",
    "for site in slope_500m['Site'].unique():\n",
    "    # Filter the data for the current site\n",
    "    slope_site = slope_500m[slope_500m[\"Site\"] == site]\n",
    "\n",
    "    # Dissolve by 'CL_PENT' and sum 'superficie'\n",
    "    dissolved = slope_site.dissolve(by=['CL_PENT', 'Site'], aggfunc={'area':'sum'})\n",
    "\n",
    "    # Store the result\n",
    "    all_sites.append(dissolved)\n",
    "\n",
    "# Concatenate all the results into a single GeoDataFrame\n",
    "slope_500m_gdf = pd.concat(all_sites).reset_index()\n",
    "\n",
    "# Save the GeoDataFrame\n",
    "slope_500m_gdf.to_file(r\"C:\\Users\\thier\\Downloads\\Projet\\slope_500m.shp\")\n",
    "slope_500m_gdf.to_csv(r\"C:\\Users\\thier\\Downloads\\Projet\\slope_500m.csv\")\n",
    "\n",
    "# Print and plot the result\n",
    "slope_500m_gdf, slope_500m_gdf.plot()\n"
   ]
  },
  {
   "cell_type": "markdown",
   "metadata": {},
   "source": [
    "### Slope buffers 1km"
   ]
  },
  {
   "cell_type": "code",
   "execution_count": null,
   "metadata": {},
   "outputs": [],
   "source": [
    "import geopandas as gpd\n",
    "import pandas as pd\n",
    "\n",
    "# Assuming buffered_camera_df_1km is your new GeoDataFrame with 1 km buffers\n",
    "slope_1km = slope.overlay(buffered_camera_df_1km, how='intersection')\n",
    "slope_1km[\"area\"] = slope_1km[\"geometry\"].area\n",
    "\n",
    "# Initialize an empty list to store the results\n",
    "all_sites = []\n",
    "\n",
    "# Iterate over each unique site\n",
    "for site in slope_1km['Site'].unique():\n",
    "    # Filter the data for the current site\n",
    "    slope_site = slope_1km[slope_1km[\"Site\"] == site]\n",
    "\n",
    "    # Dissolve by 'CL_PENT' and sum 'area'\n",
    "    dissolved = slope_site.dissolve(by=['CL_PENT', 'Site'], aggfunc={'area': 'sum'})\n",
    "\n",
    "    # Store the result\n",
    "    all_sites.append(dissolved)\n",
    "\n",
    "# Concatenate all the results into a single GeoDataFrame\n",
    "slope_1km_gdf = pd.concat(all_sites).reset_index()\n",
    "\n",
    "# Save the GeoDataFrame\n",
    "slope_1km_gdf.to_file(r\"C:\\Users\\thier\\Downloads\\Projet\\slope_1km.shp\")\n",
    "slope_1km_gdf.to_csv(r\"C:\\Users\\thier\\Downloads\\Projet\\slope_1km.csv\")\n",
    "\n",
    "# Print and plot the result\n",
    "slope_1km_gdf, slope_1km_gdf.plot()\n"
   ]
  },
  {
   "cell_type": "markdown",
   "metadata": {},
   "source": [
    "### Slope buffers 2km"
   ]
  },
  {
   "cell_type": "code",
   "execution_count": null,
   "metadata": {},
   "outputs": [],
   "source": [
    "import geopandas as gpd\n",
    "import pandas as pd\n",
    "\n",
    "# Assuming buffered_camera_df_2km is your new GeoDataFrame with 2 km buffers\n",
    "slope_2km = slope.overlay(buffered_camera_df_2km, how='intersection')\n",
    "slope_2km[\"area\"] = slope_2km[\"geometry\"].area\n",
    "\n",
    "# Initialize an empty list to store the results\n",
    "all_sites = []\n",
    "\n",
    "# Iterate over each unique site\n",
    "for site in slope_2km['Site'].unique():\n",
    "    # Filter the data for the current site\n",
    "    slope_site = slope_2km[slope_2km[\"Site\"] == site]\n",
    "\n",
    "    # Dissolve by 'CL_PENT' and sum 'area'\n",
    "    dissolved = slope_site.dissolve(by=['CL_PENT', 'Site'], aggfunc={'area': 'sum'})\n",
    "\n",
    "    # Store the result\n",
    "    all_sites.append(dissolved)\n",
    "\n",
    "# Concatenate all the results into a single GeoDataFrame\n",
    "slope_2km_gdf = pd.concat(all_sites).reset_index()\n",
    "\n",
    "# Save the GeoDataFrame\n",
    "slope_2km_gdf.to_file(r\"C:\\Users\\thier\\Downloads\\Projet\\slope_2km.shp\")\n",
    "slope_2km_gdf.to_csv(r\"C:\\Users\\thier\\Downloads\\Projet\\slope_2km.csv\")\n",
    "\n",
    "# Print and plot the result\n",
    "slope_2km_gdf, slope_2km_gdf.plot()\n"
   ]
  },
  {
   "cell_type": "markdown",
   "metadata": {},
   "source": [
    "## Landcover type"
   ]
  },
  {
   "cell_type": "code",
   "execution_count": null,
   "metadata": {},
   "outputs": [],
   "source": [
    "print(\"CRS of roads:\", landcover.crs)\n",
    "print(\"CRS of buffered_camera_df_500m:\", buffered_camera_df_1km.crs)"
   ]
  },
  {
   "cell_type": "markdown",
   "metadata": {},
   "source": [
    "### Landcover buffers 500m"
   ]
  },
  {
   "cell_type": "code",
   "execution_count": null,
   "metadata": {},
   "outputs": [],
   "source": [
    "import geopandas as gpd\n",
    "import pandas as pd\n",
    "\n",
    "# Assuming buffered_camera_df_500m is your GeoDataFrame with 500m buffers\n",
    "landcover_500m = landcover.overlay(buffered_camera_df_500m, how='intersection')\n",
    "landcover_500m[\"area\"] = landcover_500m[\"geometry\"].area\n",
    "\n",
    "# Initialize an empty list to store the results\n",
    "all_sites = []\n",
    "\n",
    "# Iterate over each unique site\n",
    "for site in landcover_500m['Site'].unique():\n",
    "    # Filter the data for the current site\n",
    "    landcover_site = landcover_500m[landcover_500m[\"Site\"] == site]\n",
    "\n",
    "    # Dissolve by 'CL_PENT' and sum 'area'\n",
    "    dissolved = landcover_site.dissolve(by=['TYPE_TER', 'Site'], aggfunc={'area': 'sum'})\n",
    "\n",
    "    # Store the result\n",
    "    all_sites.append(dissolved)\n",
    "\n",
    "# Concatenate all the results into a single GeoDataFrame\n",
    "landcover_500m_gdf = pd.concat(all_sites).reset_index()\n",
    "\n",
    "# Save the GeoDataFrame\n",
    "landcover_500m_gdf.to_file(r\"C:\\Users\\thier\\Downloads\\Projet\\landcover_500m.shp\")\n",
    "landcover_500m_gdf.to_csv(r\"C:\\Users\\thier\\Downloads\\Projet\\landcover_500m.csv\")\n",
    "\n",
    "# Print and plot the result\n",
    "landcover_500m_gdf, landcover_500m_gdf.plot()\n"
   ]
  },
  {
   "cell_type": "markdown",
   "metadata": {},
   "source": [
    "### Landcover buffers 1km"
   ]
  },
  {
   "cell_type": "code",
   "execution_count": null,
   "metadata": {},
   "outputs": [],
   "source": [
    "import geopandas as gpd\n",
    "import pandas as pd\n",
    "\n",
    "# Assuming buffered_camera_df_1km is your GeoDataFrame with 1km buffers\n",
    "landcover_1km = landcover.overlay(buffered_camera_df_1km, how='intersection')\n",
    "landcover_1km[\"area\"] = landcover_1km[\"geometry\"].area\n",
    "\n",
    "# Initialize an empty list to store the results\n",
    "all_sites = []\n",
    "\n",
    "# Iterate over each unique site\n",
    "for site in landcover_1km['Site'].unique():\n",
    "    # Filter the data for the current site\n",
    "    landcover_site = landcover_1km[landcover_1km[\"Site\"] == site]\n",
    "\n",
    "    # Dissolve by 'TYPE_TER' and sum 'area'\n",
    "    dissolved = landcover_site.dissolve(by=['TYPE_TER', 'Site'], aggfunc={'area': 'sum'})\n",
    "\n",
    "    # Store the result\n",
    "    all_sites.append(dissolved)\n",
    "\n",
    "# Concatenate all the results into a single GeoDataFrame\n",
    "landcover_1km_gdf = pd.concat(all_sites).reset_index()\n",
    "\n",
    "# Save the GeoDataFrame\n",
    "landcover_1km_gdf.to_file(r\"C:\\Users\\thier\\Downloads\\Projet\\landcover_1km.shp\")\n",
    "landcover_1km_gdf.to_csv(r\"C:\\Users\\thier\\Downloads\\Projet\\landcover_1km.csv\")\n",
    "\n",
    "# Print and plot the result\n",
    "landcover_1km_gdf, landcover_1km_gdf.plot()\n"
   ]
  },
  {
   "cell_type": "code",
   "execution_count": null,
   "metadata": {},
   "outputs": [],
   "source": [
    "import folium\n",
    "landcover_1km_gdf.explore(column='TYPE_TER', cmap='tab20', legend_name='Land Cover')"
   ]
  },
  {
   "cell_type": "markdown",
   "metadata": {},
   "source": [
    "### Landcover buffers 2km"
   ]
  },
  {
   "cell_type": "code",
   "execution_count": null,
   "metadata": {},
   "outputs": [],
   "source": [
    "import geopandas as gpd\n",
    "import pandas as pd\n",
    "\n",
    "# Assuming buffered_camera_df_2km is your GeoDataFrame with 2km buffers\n",
    "landcover_2km = landcover.overlay(buffered_camera_df_2km, how='intersection')\n",
    "landcover_2km[\"area\"] = landcover_2km[\"geometry\"].area\n",
    "\n",
    "# Initialize an empty list to store the results\n",
    "all_sites = []\n",
    "\n",
    "# Iterate over each unique site\n",
    "for site in landcover_2km['Site'].unique():\n",
    "    # Filter the data for the current site\n",
    "    landcover_site = landcover_2km[landcover_2km[\"Site\"] == site]\n",
    "\n",
    "    # Dissolve by 'TYPE_TER' and sum 'area'\n",
    "    dissolved = landcover_site.dissolve(by=['TYPE_TER', 'Site'], aggfunc={'area': 'sum'})\n",
    "\n",
    "    # Store the result\n",
    "    all_sites.append(dissolved)\n",
    "\n",
    "# Concatenate all the results into a single GeoDataFrame\n",
    "landcover_2km_gdf = pd.concat(all_sites).reset_index()\n",
    "\n",
    "# Save the GeoDataFrame\n",
    "landcover_2km_gdf.to_file(r\"C:\\Users\\thier\\Downloads\\Projet\\landcover_2km.shp\")\n",
    "landcover_2km_gdf.to_csv(r\"C:\\Users\\thier\\Downloads\\Projet\\landcover_2km.csv\")\n",
    "\n",
    "# Print and plot the result\n",
    "landcover_2km_gdf, landcover_2km_gdf.plot()\n"
   ]
  },
  {
   "cell_type": "markdown",
   "metadata": {},
   "source": [
    "## Utilisation du sol"
   ]
  },
  {
   "cell_type": "markdown",
   "metadata": {},
   "source": [
    "### Check projection first\n"
   ]
  },
  {
   "cell_type": "code",
   "execution_count": null,
   "metadata": {},
   "outputs": [],
   "source": [
    "print(\"CRS of roads:\", sol.crs)\n",
    "print(\"CRS of buffered_camera_df_500m:\", buffered_camera_df_500m.crs)"
   ]
  },
  {
   "cell_type": "markdown",
   "metadata": {},
   "source": [
    "### Sol buffers 500m"
   ]
  },
  {
   "cell_type": "code",
   "execution_count": null,
   "metadata": {},
   "outputs": [],
   "source": [
    "import geopandas as gpd\n",
    "import pandas as pd\n",
    "\n",
    "# Assuming buffered_camera_df_500m is your GeoDataFrame with 500m buffers\n",
    "sol_500m = sol.overlay(buffered_camera_df_500m, how='intersection')\n",
    "sol_500m[\"area\"] = sol_500m[\"geometry\"].area\n",
    "\n",
    "# Initialize an empty list to store the results\n",
    "all_sites = []\n",
    "\n",
    "# Iterate over each unique site\n",
    "for site in sol_500m['Site'].unique():\n",
    "    # Filter the data for the current site\n",
    "    sol_site = sol_500m[sol_500m[\"Site\"] == site]\n",
    "\n",
    "    # Dissolve by 'TYPE_TER' and sum 'area'\n",
    "    dissolved = sol_site.dissolve(by=['DESC_CAT', 'Site'], aggfunc={'area': 'sum'})\n",
    "\n",
    "    # Store the result\n",
    "    all_sites.append(dissolved)\n",
    "\n",
    "# Concatenate all the results into a single GeoDataFrame\n",
    "sol_500m_gdf = pd.concat(all_sites).reset_index()\n",
    "\n",
    "# Save the GeoDataFrame\n",
    "sol_500m_gdf.to_file(r\"C:\\Users\\thier\\Downloads\\Projet\\sol_500m.shp\")\n",
    "sol_500m_gdf.to_csv(r\"C:\\Users\\thier\\Downloads\\Projet\\sol_500m.csv\")\n",
    "\n",
    "# Print and plot the result\n",
    "sol_500m_gdf, sol_500m_gdf.plot()\n"
   ]
  },
  {
   "cell_type": "markdown",
   "metadata": {},
   "source": [
    "### Sol buffer 1km"
   ]
  },
  {
   "cell_type": "code",
   "execution_count": null,
   "metadata": {},
   "outputs": [],
   "source": [
    "import geopandas as gpd\n",
    "import pandas as pd\n",
    "\n",
    "# Assuming buffered_camera_df_1km is your GeoDataFrame with 1km buffers\n",
    "sol_1km = sol.overlay(buffered_camera_df_1km, how='intersection')\n",
    "sol_1km[\"area\"] = sol_1km[\"geometry\"].area\n",
    "\n",
    "# Initialize an empty list to store the results\n",
    "all_sites = []\n",
    "\n",
    "# Iterate over each unique site\n",
    "for site in sol_1km['Site'].unique():\n",
    "    # Filter the data for the current site\n",
    "    sol_site = sol_1km[sol_1km[\"Site\"] == site]\n",
    "\n",
    "    # Dissolve by 'DESC_CAT' and sum 'area'\n",
    "    dissolved = sol_site.dissolve(by=['DESC_CAT', 'Site'], aggfunc={'area': 'sum'})\n",
    "\n",
    "    # Store the result\n",
    "    all_sites.append(dissolved)\n",
    "\n",
    "# Concatenate all the results into a single GeoDataFrame\n",
    "sol_1km_gdf = pd.concat(all_sites).reset_index()\n",
    "\n",
    "# Save the GeoDataFrame\n",
    "sol_1km_gdf.to_file(r\"C:\\Users\\thier\\Downloads\\Projet\\sol_1km.shp\")\n",
    "sol_1km_gdf.to_csv(r\"C:\\Users\\thier\\Downloads\\Projet\\sol_1km.csv\")\n",
    "\n",
    "# Print and plot the result\n",
    "sol_1km_gdf, sol_1km_gdf.plot()\n"
   ]
  },
  {
   "cell_type": "markdown",
   "metadata": {},
   "source": [
    "### Sol buffer 2km"
   ]
  },
  {
   "cell_type": "code",
   "execution_count": null,
   "metadata": {},
   "outputs": [],
   "source": [
    "import geopandas as gpd\n",
    "import pandas as pd\n",
    "\n",
    "# Assuming buffered_camera_df_2km is your GeoDataFrame with 2km buffers\n",
    "sol_2km = sol.overlay(buffered_camera_df_2km, how='intersection')\n",
    "sol_2km[\"area\"] = sol_2km[\"geometry\"].area\n",
    "\n",
    "# Initialize an empty list to store the results\n",
    "all_sites = []\n",
    "\n",
    "# Iterate over each unique site\n",
    "for site in sol_2km['Site'].unique():\n",
    "    # Filter the data for the current site\n",
    "    sol_site = sol_2km[sol_2km[\"Site\"] == site]\n",
    "\n",
    "    # Dissolve by 'DESC_CAT' and sum 'area'\n",
    "    dissolved = sol_site.dissolve(by=['DESC_CAT', 'Site'], aggfunc={'area': 'sum'})\n",
    "\n",
    "    # Store the result\n",
    "    all_sites.append(dissolved)\n",
    "\n",
    "# Concatenate all the results into a single GeoDataFrame\n",
    "sol_2km_gdf = pd.concat(all_sites).reset_index()\n",
    "# Save the GeoDataFrame\n",
    "sol_2km_gdf.to_file(r\"C:\\Users\\thier\\Downloads\\Projet\\sol_2km.shp\")\n",
    "sol_2km_gdf.to_csv(r\"C:\\Users\\thier\\Downloads\\Projet\\sol_2km.csv\")\n",
    "\n",
    "# Print and plot the result\n",
    "sol_2km_gdf, sol_2km_gdf.plot()\n"
   ]
  },
  {
   "cell_type": "markdown",
   "metadata": {},
   "source": [
    "## Visualisation"
   ]
  },
  {
   "cell_type": "markdown",
   "metadata": {},
   "source": [
    "### Select the file that you want to visualize"
   ]
  },
  {
   "cell_type": "code",
   "execution_count": null,
   "metadata": {},
   "outputs": [],
   "source": [
    "# Import the folium package for creating interactive maps\n",
    "import folium\n",
    "\n",
    "# Create a map object centered on the coordinates above and zoom level 10\n",
    "sol = sol_2km_gdf.explore(\n",
    "    column='DESC_CAT', \n",
    "    cmap='tab20', \n",
    "    legend_name='Land Cover', \n",
    "    name=\"Landcover\"\n",
    ")\n",
    "# Add the rivers to the map\n",
    "rivieres_2km_sum.explore(\n",
    "    m=sol,  \n",
    "    color='blue', \n",
    "    name='Rivers'\n",
    ")\n",
    "# Add the roads to the map\n",
    "roads_2km_sum.explore(\n",
    "    m=sol,  \n",
    "    color='black', \n",
    "    name='Roads'\n",
    ")\n",
    "# Add the railroad to the map\n",
    "railroad_2km_sum.explore(\n",
    "    m=sol,  \n",
    "    color='red', \n",
    "    name='railroad'\n",
    ")\n",
    "# Add the slope to the map\n",
    "slope_2km_gdf.explore(\n",
    "    column='CL_PENT',\n",
    "    m=sol,  \n",
    "    color='green', \n",
    "    name='Slope'\n",
    ")\n",
    "# Add the landcover to the map\n",
    "landcover_2km_gdf.explore(\n",
    "    column='TYPE_TER',\n",
    "    m=sol,  \n",
    "    color='Set3', \n",
    "    name='Sol'\n",
    ")\n",
    "# Add the Layer Control to the map.\n",
    "folium.LayerControl().add_to(sol)  \n",
    "\n",
    "# Display the map\n",
    "sol  \n"
   ]
  },
  {
   "cell_type": "code",
   "execution_count": 916,
   "metadata": {},
   "outputs": [],
   "source": [
    "#Save the map\n",
    "sol.save(r\"C:\\Users\\thier\\Downloads\\Projet\\my_map.html\")\n"
   ]
  }
 ],
 "metadata": {
  "kernelspec": {
   "display_name": "Python 3",
   "language": "python",
   "name": "python3"
  },
  "language_info": {
   "codemirror_mode": {
    "name": "ipython",
    "version": 3
   },
   "file_extension": ".py",
   "mimetype": "text/x-python",
   "name": "python",
   "nbconvert_exporter": "python",
   "pygments_lexer": "ipython3",
   "version": "3.12.1"
  }
 },
 "nbformat": 4,
 "nbformat_minor": 2
}
