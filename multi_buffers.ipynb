{
 "cells": [
  {
   "cell_type": "markdown",
   "metadata": {},
   "source": [
    "# Project PICOM"
   ]
  },
  {
   "cell_type": "markdown",
   "metadata": {},
   "source": [
    "## Import the libraries and files"
   ]
  },
  {
   "cell_type": "code",
   "execution_count": null,
   "metadata": {},
   "outputs": [],
   "source": [
    "import geopandas as gpd\n",
    "import pandas as pd \n",
    "import matplotlib.pyplot as plt"
   ]
  },
  {
   "cell_type": "code",
   "execution_count": null,
   "metadata": {},
   "outputs": [],
   "source": [
    "#Import the files\n",
    "camera_df = gpd.read_file(r\"C:\\Users\\thier\\Downloads\\Projet\\Projet\\Cameras.shp\")\n",
    "rivieres = gpd.read_file(r\"C:\\Users\\thier\\Downloads\\Projet\\Projet\\Rivieres.shp\")\n",
    "roads = gpd.read_file(r\"C:\\Users\\thier\\Downloads\\Projet\\Projet\\Reseau_Routier.shp\")\n",
    "railroad = gpd.read_file(r\"C:\\Users\\thier\\Downloads\\Projet\\Projet\\Reseau_Ferroviaire.shp\")\n",
    "slope = gpd.read_file(r\"C:\\Users\\thier\\Downloads\\Projet\\Projet\\Pente.shp\")\n",
    "landcover = gpd.read_file(r\"C:\\Users\\thier\\Downloads\\Projet\\Projet\\Type_Couverture.shp\")\n",
    "sol = gpd.read_file(r\"C:\\Users\\thier\\Downloads\\Projet\\Projet\\utilisation_territoire2.shp\")\n"
   ]
  },
  {
   "cell_type": "code",
   "execution_count": null,
   "metadata": {},
   "outputs": [],
   "source": [
    "#export the camera dataframe\n",
    "camera_df.to_file(r\"C:\\Users\\thier\\Downloads\\Projet\\Projet\\points.shp\", )\n",
    "camera_df"
   ]
  },
  {
   "cell_type": "code",
   "execution_count": null,
   "metadata": {},
   "outputs": [],
   "source": [
    "roads.plot()    "
   ]
  },
  {
   "cell_type": "code",
   "execution_count": null,
   "metadata": {},
   "outputs": [],
   "source": [
    "camera_df"
   ]
  },
  {
   "cell_type": "code",
   "execution_count": null,
   "metadata": {},
   "outputs": [],
   "source": [
    "camera_df = camera_df.set_index(\"Site\")"
   ]
  },
  {
   "cell_type": "code",
   "execution_count": null,
   "metadata": {},
   "outputs": [],
   "source": [
    "camera_df.plot()"
   ]
  },
  {
   "cell_type": "code",
   "execution_count": null,
   "metadata": {},
   "outputs": [],
   "source": [
    "#Make sure the projection is the right one\n",
    "camera_df = camera_df.to_crs('EPSG:26918')"
   ]
  },
  {
   "cell_type": "markdown",
   "metadata": {},
   "source": [
    "### Create buffers of 500m, 1km and 2km"
   ]
  },
  {
   "cell_type": "code",
   "execution_count": null,
   "metadata": {},
   "outputs": [],
   "source": [
    "#Create buffers for each cameras\n",
    "buffered_geometries_500m = camera_df.geometry.apply(lambda geom: geom.buffer(500))\n",
    "buffered_geometries_1km = camera_df.geometry.apply(lambda geom: geom.buffer(1000))\n",
    "buffered_geometries_2km = camera_df.geometry.apply(lambda geom: geom.buffer(2000))\n",
    "\n",
    "# Create GeoDataFrames for each buffer\n",
    "buffered_camera_df_500m = gpd.GeoDataFrame(geometry=buffered_geometries_500m, crs=camera_df.crs)\n",
    "buffered_camera_df_1km = gpd.GeoDataFrame(geometry=buffered_geometries_1km, crs=camera_df.crs)\n",
    "buffered_camera_df_2km = gpd.GeoDataFrame(geometry=buffered_geometries_2km, crs=camera_df.crs)\n"
   ]
  },
  {
   "cell_type": "code",
   "execution_count": null,
   "metadata": {},
   "outputs": [],
   "source": [
    "#Export the buffers shp\n",
    "buffered_camera_df_500m.to_file(r\"C:\\Users\\thier\\Downloads\\Projet\\Projet\\buffers_500m.shp\")\n",
    "buffered_camera_df_1km.to_file(r\"C:\\Users\\thier\\Downloads\\Projet\\Projet\\buffers_1km.shp\")\n",
    "buffered_camera_df_2km.to_file(r\"C:\\Users\\thier\\Downloads\\Projet\\Projet\\buffers_2km.shp\")"
   ]
  },
  {
   "cell_type": "code",
   "execution_count": null,
   "metadata": {},
   "outputs": [],
   "source": [
    "buffered_camera_df_500m = buffered_camera_df_500m.reset_index().rename(columns={'index': 'camera'}) \n",
    "buffered_camera_df_1km = buffered_camera_df_1km.reset_index().rename(columns={'index': 'camera'})\n",
    "buffered_camera_df_2km = buffered_camera_df_2km.reset_index().rename(columns={'index': 'camera'})\n"
   ]
  },
  {
   "cell_type": "code",
   "execution_count": null,
   "metadata": {},
   "outputs": [],
   "source": [
    "buffered_camera_df_1km"
   ]
  },
  {
   "cell_type": "code",
   "execution_count": null,
   "metadata": {},
   "outputs": [],
   "source": [
    "# Create a new column 'id' with index values for 500m, 1km and 2km buffers\n",
    "buffered_camera_df_500m['id'] = buffered_camera_df_500m.index\n",
    "buffered_camera_df_500m\n",
    "buffered_camera_df_1km['id'] = buffered_camera_df_1km.index\n",
    "buffered_camera_df_1km\n",
    "buffered_camera_df_2km['id'] = buffered_camera_df_2km.index\n",
    "buffered_camera_df_2km"
   ]
  },
  {
   "cell_type": "code",
   "execution_count": null,
   "metadata": {},
   "outputs": [],
   "source": []
  },
  {
   "cell_type": "markdown",
   "metadata": {},
   "source": [
    "## Rivers"
   ]
  },
  {
   "cell_type": "markdown",
   "metadata": {},
   "source": [
    "### Set the rivers shp projection"
   ]
  },
  {
   "cell_type": "code",
   "execution_count": null,
   "metadata": {},
   "outputs": [],
   "source": [
    "print(\"CRS of rivieres:\", rivieres.crs)\n",
    "print(\"CRS of buffered_camera_df_500m:\", buffered_camera_df_500m.crs)"
   ]
  },
  {
   "cell_type": "code",
   "execution_count": null,
   "metadata": {},
   "outputs": [],
   "source": [
    "if rivieres.crs is None:\n",
    "    rivieres.crs = 'EPSG:26918'\n",
    "rivieres = rivieres.to_crs(buffered_camera_df_500m.crs)"
   ]
  },
  {
   "cell_type": "markdown",
   "metadata": {},
   "source": [
    "### Rivers buffers 500m"
   ]
  },
  {
   "cell_type": "code",
   "execution_count": null,
   "metadata": {},
   "outputs": [],
   "source": [
    "import geopandas as gpd\n",
    "import pandas as pd\n",
    "\n",
    "# Replace rivieres_1km with rivieres_500m, and buffered_camera_df_1km with buffered_camera_df_500m\n",
    "rivieres_500m = rivieres.overlay(buffered_camera_df_500m, how='intersection')\n",
    "rivieres_500m['length'] = rivieres_500m.geometry.length\n",
    "\n",
    "# Ensure that 'Site' and other necessary columns are included\n",
    "rivieres_500m_clean = rivieres_500m[['Site', 'length', 'geometry']]\n",
    "rivieres_500m_sum = rivieres_500m_clean.dissolve(by='Site', aggfunc='sum')\n",
    "\n",
    "# Update the file paths in the to_file and to_csv methods\n",
    "rivieres_500m_sum.to_file(r\"C:\\Users\\thier\\Downloads\\Projet\\rivieres_buffers_500m.shp\")\n",
    "rivieres_500m_sum.to_csv(r\"C:\\Users\\thier\\Downloads\\Projet\\rivieres_buffers_500m.csv\")\n",
    "\n",
    "# Print the result and plot it\n",
    "print(rivieres_500m_sum)\n",
    "rivieres_500m_sum.plot()\n"
   ]
  },
  {
   "cell_type": "markdown",
   "metadata": {},
   "source": [
    "### Rivers buffers 1km   "
   ]
  },
  {
   "cell_type": "code",
   "execution_count": null,
   "metadata": {},
   "outputs": [],
   "source": [
    "import geopandas as gpd\n",
    "import pandas as pd\n",
    "\n",
    "# Replace rivieres_2km with rivieres_1km, and buffered_camera_df_2km with buffered_camera_df_1km\n",
    "rivieres_1km = rivieres.overlay(buffered_camera_df_1km, how='intersection')\n",
    "rivieres_1km['length'] = rivieres_1km.geometry.length\n",
    "\n",
    "# Ensure that 'Site' and other necessary columns are included\n",
    "rivieres_1km_clean = rivieres_1km[['Site', 'length', 'geometry']]\n",
    "rivieres_1km_sum = rivieres_1km_clean.dissolve(by='Site', aggfunc='sum')\n",
    "\n",
    "# Update the file paths in the to_file and to_csv methods\n",
    "rivieres_1km_sum.to_file(r\"C:\\Users\\thier\\Downloads\\Projet\\rivieres_buffers_1km.shp\")\n",
    "rivieres_1km_sum.to_csv(r\"C:\\Users\\thier\\Downloads\\Projet\\rivieres_buffers_1km.csv\")\n",
    "\n",
    "# Print the result and plot it\n",
    "print(rivieres_1km_sum)\n",
    "rivieres_1km_sum.plot()\n"
   ]
  },
  {
   "cell_type": "markdown",
   "metadata": {},
   "source": [
    "### Rivers buffers 2km"
   ]
  },
  {
   "cell_type": "code",
   "execution_count": null,
   "metadata": {},
   "outputs": [],
   "source": [
    "import geopandas as gpd\n",
    "import pandas as pd\n",
    "\n",
    "# Replace roads_2km with rivieres_2km, and ensure buffered_camera_df_2km is correct\n",
    "rivieres_2km = rivieres.overlay(buffered_camera_df_2km, how='intersection')\n",
    "rivieres_2km['length'] = rivieres_2km.geometry.length\n",
    "\n",
    "# Ensure that 'Site' and other necessary columns are included\n",
    "rivieres_2km_clean = rivieres_2km[['Site', 'length', 'geometry']]\n",
    "rivieres_2km_sum = rivieres_2km_clean.dissolve(by='Site', aggfunc='sum')\n",
    "\n",
    "# Update the file paths in the to_file and to_csv methods\n",
    "rivieres_2km_sum.to_file(r\"C:\\Users\\thier\\Downloads\\Projet\\rivieres_buffers_2km.shp\")\n",
    "rivieres_2km_sum.to_csv(r\"C:\\Users\\thier\\Downloads\\Projet\\rivieres_buffers_2km.csv\")\n",
    "\n",
    "# Print the result and plot it\n",
    "print(rivieres_2km_sum)\n",
    "rivieres_2km_sum.plot()\n"
   ]
  },
  {
   "cell_type": "markdown",
   "metadata": {},
   "source": [
    "### ALL 3 buffers at the same time with a for loop"
   ]
  },
  {
   "cell_type": "code",
   "execution_count": null,
   "metadata": {},
   "outputs": [],
   "source": [
    "import openpyxl"
   ]
  },
  {
   "cell_type": "code",
   "execution_count": null,
   "metadata": {},
   "outputs": [],
   "source": [
    "import geopandas as gpd\n",
    "import pandas as pd\n",
    "\n",
    "def process_buffers(buffer_df, buffer_name, rivers_gdf, output_csv_path):\n",
    "    results_df = pd.DataFrame(columns=[\"Buffer Index\", \"Clipped Length\"])\n",
    "    clipped_results_gdf = gpd.GeoDataFrame()\n",
    "\n",
    "    for selected_buffer_index in range(len(buffer_df)):\n",
    "        selected_buffer = buffer_df.iloc[selected_buffer_index:selected_buffer_index + 1]\n",
    "        clipped_shp = gpd.overlay(rivers_gdf, selected_buffer, how='intersection')\n",
    "        clipped_length = clipped_shp.length.sum()\n",
    "        print(f\"{buffer_name} - Buffer Index {selected_buffer_index}: Clipped Length = {clipped_length}\")\n",
    "\n",
    "        results_df = pd.concat([results_df, pd.DataFrame({\"Buffer Index\": [selected_buffer_index], \"Clipped Length\": [clipped_length]})], ignore_index=True)\n",
    "        clipped_results_gdf = gpd.GeoDataFrame(pd.concat([clipped_results_gdf, clipped_shp]), crs=rivers_gdf.crs)\n",
    "\n",
    "    results_df.to_csv(output_csv_path, index=False)\n",
    "\n",
    "process_buffers(buffered_camera_df_500m, \"Rivers buffers 500m\", rivieres, r\"C:\\Users\\thier\\Downloads\\Projet\\Projet\\rivers_buffers_500m_test2.csv\")\n",
    "process_buffers(buffered_camera_df_1km, \"Rivers buffers 1km\", rivieres, r\"C:\\Users\\thier\\Downloads\\Projet\\Projet\\rivers_buffers_1km_test2.csv\")\n",
    "process_buffers(buffered_camera_df_2km, \"Rivers buffers 2km\", rivieres, r\"C:\\Users\\thier\\Downloads\\Projet\\\\Projet\\rivers_buffers_2km_test2.csv\")"
   ]
  },
  {
   "cell_type": "markdown",
   "metadata": {},
   "source": [
    "## Roads"
   ]
  },
  {
   "cell_type": "code",
   "execution_count": null,
   "metadata": {},
   "outputs": [],
   "source": [
    "print(\"CRS of roads:\", roads.crs)\n",
    "print(\"CRS of buffered_camera_df_500m:\", buffered_camera_df_1km.crs)"
   ]
  },
  {
   "cell_type": "code",
   "execution_count": null,
   "metadata": {},
   "outputs": [],
   "source": [
    "if roads.crs is None:\n",
    "    roads.crs = 'EPSG:26918'\n",
    "roads = roads.to_crs(buffered_camera_df_1km.crs)"
   ]
  },
  {
   "cell_type": "markdown",
   "metadata": {},
   "source": [
    "### Roads buffers 500m"
   ]
  },
  {
   "cell_type": "code",
   "execution_count": null,
   "metadata": {},
   "outputs": [],
   "source": [
    "import geopandas as gpd\n",
    "import pandas as pd\n",
    "\n",
    "# Replace railroad_500m with roads_500m, and ensure buffered_camera_df_500m is correct\n",
    "roads_500m = roads.overlay(buffered_camera_df_500m, how='intersection')\n",
    "roads_500m['length'] = roads_500m.geometry.length\n",
    "\n",
    "# Ensure that 'Site' and other necessary columns are included\n",
    "roads_500m_clean = roads_500m[['Site', 'length', 'geometry']]\n",
    "roads_500m_sum = roads_500m_clean.dissolve(by='Site', aggfunc='sum')\n",
    "\n",
    "# Update the file paths in the to_file and to_csv methods\n",
    "roads_500m_sum.to_file(r\"C:\\Users\\thier\\Downloads\\Projet\\roads_buffers_500m.shp\")\n",
    "roads_500m_sum.to_csv(r\"C:\\Users\\thier\\Downloads\\Projet\\roads_buffers_500m.csv\")\n",
    "\n",
    "# Print the result and plot it\n",
    "print(roads_500m_sum)\n",
    "roads_500m_sum.plot()\n"
   ]
  },
  {
   "cell_type": "markdown",
   "metadata": {},
   "source": [
    "### Roads buffers 1km"
   ]
  },
  {
   "cell_type": "code",
   "execution_count": null,
   "metadata": {},
   "outputs": [],
   "source": [
    "import geopandas as gpd\n",
    "import pandas as pd\n",
    "\n",
    "# Replace roads_500m with roads_1km, and buffered_camera_df_500m with buffered_camera_df_1km\n",
    "roads_1km = roads.overlay(buffered_camera_df_1km, how='intersection')\n",
    "roads_1km['length'] = roads_1km.geometry.length\n",
    "\n",
    "# Ensure that 'Site' and other necessary columns are included\n",
    "roads_1km_clean = roads_1km[['Site', 'length', 'geometry']]\n",
    "roads_1km_sum = roads_1km_clean.dissolve(by='Site', aggfunc='sum')\n",
    "\n",
    "# Update the file paths in the to_file and to_csv methods\n",
    "roads_1km_sum.to_file(r\"C:\\Users\\thier\\Downloads\\Projet\\roads_buffers_1km.shp\")\n",
    "roads_1km_sum.to_csv(r\"C:\\Users\\thier\\Downloads\\Projet\\roads_buffers_1km.csv\")\n",
    "\n",
    "# Print the result and plot it\n",
    "print(roads_1km_sum)\n",
    "roads_1km_sum.plot()\n"
   ]
  },
  {
   "cell_type": "markdown",
   "metadata": {},
   "source": [
    "### Roads buffers 2km"
   ]
  },
  {
   "cell_type": "code",
   "execution_count": null,
   "metadata": {},
   "outputs": [],
   "source": [
    "import geopandas as gpd\n",
    "import pandas as pd\n",
    "\n",
    "# Replace roads_1km with roads_2km, and buffered_camera_df_1km with buffered_camera_df_2km\n",
    "roads_2km = roads.overlay(buffered_camera_df_2km, how='intersection')\n",
    "roads_2km['length'] = roads_2km.geometry.length\n",
    "\n",
    "# Ensure that 'Site' and other necessary columns are included\n",
    "roads_2km_clean = roads_2km[['Site', 'length', 'geometry']]\n",
    "roads_2km_sum = roads_2km_clean.dissolve(by='Site', aggfunc='sum')\n",
    "\n",
    "# Update the file paths in the to_file and to_csv methods\n",
    "roads_2km_sum.to_file(r\"C:\\Users\\thier\\Downloads\\Projet\\roads_buffers_2km.shp\")\n",
    "roads_2km_sum.to_csv(r\"C:\\Users\\thier\\Downloads\\Projet\\roads_buffers_2km.csv\")\n",
    "\n",
    "# Print the result and plot it\n",
    "print(roads_2km_sum)\n",
    "roads_2km_sum.plot()\n"
   ]
  },
  {
   "cell_type": "markdown",
   "metadata": {},
   "source": [
    "## Railroads"
   ]
  },
  {
   "cell_type": "code",
   "execution_count": null,
   "metadata": {},
   "outputs": [],
   "source": [
    "print(\"CRS of roads:\", railroad.crs)\n",
    "print(\"CRS of buffered_camera_df_500m:\", buffered_camera_df_1km.crs)"
   ]
  },
  {
   "cell_type": "code",
   "execution_count": null,
   "metadata": {},
   "outputs": [],
   "source": [
    "if railroad.crs is None:\n",
    "    railroad.crs = 'EPSG:26918'\n",
    "railroad = railroad.to_crs(buffered_camera_df_1km.crs)"
   ]
  },
  {
   "cell_type": "markdown",
   "metadata": {},
   "source": [
    "### Railroad buffer 500m"
   ]
  },
  {
   "cell_type": "code",
   "execution_count": null,
   "metadata": {},
   "outputs": [],
   "source": [
    "import geopandas as gpd\n",
    "import pandas as pd\n",
    "\n",
    "# Replace railroad_1km with railroad_500m, and buffered_camera_df_1km with buffered_camera_df_500m\n",
    "railroad_500m = railroad.overlay(buffered_camera_df_500m, how='intersection')\n",
    "railroad_500m['length'] = railroad_500m.geometry.length\n",
    "\n",
    "# Ensure that 'Site' and other necessary columns are included\n",
    "railroad_500m_clean = railroad_500m[['Site', 'length', 'geometry']]\n",
    "railroad_500m_sum = railroad_500m_clean.dissolve(by='Site', aggfunc='sum')\n",
    "\n",
    "# Update the file paths in the to_file and to_csv methods\n",
    "railroad_500m_sum.to_file(r\"C:\\Users\\thier\\Downloads\\Projet\\railroad_buffers_500m.shp\")\n",
    "railroad_500m_sum.to_csv(r\"C:\\Users\\thier\\Downloads\\Projet\\railroad_buffers_500m.csv\")\n",
    "\n",
    "# Print the result and plot it\n",
    "print(railroad_500m_sum)\n",
    "railroad_500m_sum.plot()\n",
    "\n"
   ]
  },
  {
   "cell_type": "markdown",
   "metadata": {},
   "source": [
    "### Railroad buffers 1km"
   ]
  },
  {
   "cell_type": "code",
   "execution_count": null,
   "metadata": {},
   "outputs": [],
   "source": [
    "import geopandas as gpd\n",
    "import pandas as pd\n",
    "\n",
    "# Replace railroad_2km with railroad_1km, and buffered_camera_df_2km with buffered_camera_df_1km\n",
    "railroad_1km = railroad.overlay(buffered_camera_df_1km, how='intersection')\n",
    "railroad_1km['length'] = railroad_1km.geometry.length\n",
    "\n",
    "# Ensure that 'Site' and other necessary columns are included\n",
    "railroad_1km_clean = railroad_1km[['Site', 'length', 'geometry']]\n",
    "railroad_1km_sum = railroad_1km_clean.dissolve(by='Site', aggfunc='sum')\n",
    "\n",
    "# Update the file paths in the to_file and to_csv methods\n",
    "railroad_1km_sum.to_file(r\"C:\\Users\\thier\\Downloads\\Projet\\railroad_buffers_1km.shp\")\n",
    "railroad_1km_sum.to_csv(r\"C:\\Users\\thier\\Downloads\\Projet\\railroad_buffers_1km.csv\")\n",
    "\n",
    "# Print the result and plot it\n",
    "print(railroad_1km_sum)\n",
    "railroad_1km_sum.plot()\n"
   ]
  },
  {
   "cell_type": "markdown",
   "metadata": {},
   "source": [
    "### Railroad buffers 2km"
   ]
  },
  {
   "cell_type": "code",
   "execution_count": null,
   "metadata": {},
   "outputs": [],
   "source": [
    "import geopandas as gpd\n",
    "import pandas as pd\n",
    "\n",
    "# Replace railroad_1km with railroad_2km, and buffered_camera_df_1km with buffered_camera_df_2km\n",
    "railroad_2km = railroad.overlay(buffered_camera_df_2km, how='intersection')\n",
    "railroad_2km['length'] = railroad_2km.geometry.length\n",
    "\n",
    "# Ensure that 'Site' and other necessary columns are included\n",
    "railroad_2km_clean = railroad_2km[['Site', 'length', 'geometry']]\n",
    "railroad_2km_sum = railroad_2km_clean.dissolve(by='Site', aggfunc='sum')\n",
    "\n",
    "\n",
    "# Update the file paths in the to_file and to_csv methods\n",
    "railroad_2km_sum.to_file(r\"C:\\Users\\thier\\Downloads\\Projet\\railroad_buffers_2km_2.shp\")\n",
    "railroad_2km_sum.to_csv(r\"C:\\Users\\thier\\Downloads\\Projet\\railroad_buffers_2km.csv\")\n",
    "\n",
    "# Print the result and plot it\n",
    "print(railroad_2km_sum)\n",
    "railroad_2km_sum.plot()\n"
   ]
  },
  {
   "cell_type": "code",
   "execution_count": null,
   "metadata": {},
   "outputs": [],
   "source": [
    "railroad_2km_clean = railroad_2km[['Site', 'length', 'geometry']]"
   ]
  },
  {
   "cell_type": "code",
   "execution_count": null,
   "metadata": {},
   "outputs": [],
   "source": [
    "railroad_2km_clean"
   ]
  },
  {
   "cell_type": "code",
   "execution_count": null,
   "metadata": {},
   "outputs": [],
   "source": [
    "railroad_2km"
   ]
  },
  {
   "cell_type": "code",
   "execution_count": null,
   "metadata": {},
   "outputs": [],
   "source": [
    "import geopandas as gpd\n",
    "import pandas as pd\n",
    "\n",
    "# Join the railroad data with the individual buffers\n",
    "railroad_buffers_join_2km = gpd.sjoin(railroad, buffered_camera_df_2km, how='inner', predicate='intersects')\n",
    "\n",
    "# Calculate the length of each railroad segment\n",
    "railroad_buffers_join_2km['length'] = railroad_buffers_join_2km.geometry.length\n",
    "\n",
    "# Create an empty GeoDataFrame for the results\n",
    "results = gpd.GeoDataFrame(columns=railroad_buffers_join_2km.columns)\n",
    "\n",
    "# Iterate over each buffer and process individually\n",
    "for buffer_id, buffer_geom in buffered_camera_df_2km.iterrows():\n",
    "    # Clip the railroad data to the current buffer\n",
    "    clipped_railroad = railroad_buffers_join_2km[railroad_buffers_join_2km.intersects(buffer_geom.geometry)]\n",
    "\n",
    "    # Ensure clipped_railroad is a GeoDataFrame\n",
    "    if not isinstance(clipped_railroad, gpd.GeoDataFrame):\n",
    "        clipped_railroad = gpd.GeoDataFrame(clipped_railroad)\n",
    "\n",
    "    # Add the clipped data to the results GeoDataFrame\n",
    "    results = pd.concat([results, clipped_railroad])\n",
    "\n",
    "# Drop duplicates to handle overlaps\n",
    "# Replace 'railroad_id' and 'buffer_id' with actual column names\n",
    "#results = results.drop_duplicates(subset=['railroad_id', 'buffer_id'])\n",
    "\n",
    "# Group by 'Site' and sum lengths\n",
    "railroad_2km_grouped = results.dissolve('Site', aggfunc='sum')\n",
    "\n",
    "# Export in shp or CSV\n",
    "output_folder = r\"C:\\Users\\thier\\Downloads\\Projet\"\n",
    "railroad_2km_grouped.to_file(f\"{output_folder}\\\\railroad_buffers_2km.shp\")\n",
    "railroad_2km_grouped.to_csv(f\"{output_folder}\\\\railroad_buffers_2km.csv\")\n",
    "\n",
    "# Print the result\n",
    "print(railroad_2km_grouped)\n"
   ]
  },
  {
   "cell_type": "code",
   "execution_count": null,
   "metadata": {},
   "outputs": [],
   "source": [
    "print(type(results))"
   ]
  },
  {
   "cell_type": "markdown",
   "metadata": {},
   "source": [
    "## Slope"
   ]
  },
  {
   "cell_type": "code",
   "execution_count": null,
   "metadata": {},
   "outputs": [],
   "source": [
    "print(\"CRS of roads:\", slope.crs)\n",
    "print(\"CRS of buffered_camera_df_500m:\", buffered_camera_df_1km.crs)"
   ]
  },
  {
   "cell_type": "code",
   "execution_count": null,
   "metadata": {},
   "outputs": [],
   "source": [
    "if slope.crs is None:\n",
    "    slope.crs = 'EPSG:26918'\n",
    "slope = slope.to_crs(buffered_camera_df_1km.crs)"
   ]
  },
  {
   "cell_type": "code",
   "execution_count": null,
   "metadata": {},
   "outputs": [],
   "source": [
    "slope"
   ]
  },
  {
   "cell_type": "markdown",
   "metadata": {},
   "source": [
    "### Slope buffer 500m"
   ]
  },
  {
   "cell_type": "code",
   "execution_count": null,
   "metadata": {},
   "outputs": [],
   "source": [
    "slope"
   ]
  },
  {
   "cell_type": "code",
   "execution_count": null,
   "metadata": {},
   "outputs": [],
   "source": [
    "slope[\"SHAPE\"]=slope[\"geometry\"].area"
   ]
  },
  {
   "cell_type": "code",
   "execution_count": null,
   "metadata": {},
   "outputs": [],
   "source": [
    "slope.to_file(r\"C:\\Users\\thier\\Downloads\\Projet\\slope.shp\")"
   ]
  },
  {
   "cell_type": "code",
   "execution_count": null,
   "metadata": {},
   "outputs": [],
   "source": [
    "slope_500m = slope.overlay(buffered_camera_df_500m, how='intersection')\n"
   ]
  },
  {
   "cell_type": "code",
   "execution_count": null,
   "metadata": {},
   "outputs": [],
   "source": [
    "slope_500m[\"area\"]=slope_500m[\"geometry\"].area"
   ]
  },
  {
   "cell_type": "code",
   "execution_count": null,
   "metadata": {},
   "outputs": [],
   "source": [
    "slope_500m.to_file(r\"C:\\Users\\thier\\Downloads\\Projet\\slope_500m_test2.shp\")"
   ]
  },
  {
   "cell_type": "code",
   "execution_count": null,
   "metadata": {},
   "outputs": [],
   "source": [
    "slope_500m.set_index(\"Site\")"
   ]
  },
  {
   "cell_type": "code",
   "execution_count": null,
   "metadata": {},
   "outputs": [],
   "source": [
    "slope_500m.reset_index(inplace=True)"
   ]
  },
  {
   "cell_type": "code",
   "execution_count": null,
   "metadata": {},
   "outputs": [],
   "source": [
    "slope_500m[[\"Site\", \"SUPERFICIE\", \"Site\", \"area\"]]"
   ]
  },
  {
   "cell_type": "code",
   "execution_count": null,
   "metadata": {},
   "outputs": [],
   "source": [
    "slope_10 = slope_500m[slope_500m[\"Site\"]==\"10\"]\n",
    "slope_10 = slope_10.dissolve(by='CL_PENT', aggfunc='sum')"
   ]
  },
  {
   "cell_type": "code",
   "execution_count": null,
   "metadata": {},
   "outputs": [],
   "source": [
    "slope_500m.set_index(\"Site\")"
   ]
  },
  {
   "cell_type": "code",
   "execution_count": null,
   "metadata": {},
   "outputs": [],
   "source": [
    "ax = slope_10.plot(cmap=\"Accent_r\", figsize=(10,10))\n"
   ]
  },
  {
   "cell_type": "code",
   "execution_count": null,
   "metadata": {},
   "outputs": [],
   "source": [
    "\n"
   ]
  },
  {
   "cell_type": "code",
   "execution_count": 768,
   "metadata": {},
   "outputs": [
    {
     "data": {
      "text/plain": [
       "(   CL_PENT Site                                           geometry  \\\n",
       " 0        A    5  MULTIPOLYGON Z (((665052.240 5141929.652 0.000...   \n",
       " 1        B    5  MULTIPOLYGON Z (((665567.181 5141779.394 0.000...   \n",
       " 2        C    5  MULTIPOLYGON Z (((665347.265 5141720.212 0.000...   \n",
       " 3        D    5  MULTIPOLYGON Z (((665366.130 5142043.631 0.000...   \n",
       " 4        F    5  MULTIPOLYGON Z (((665514.366 5141716.376 0.000...   \n",
       " 5        A   12  POLYGON Z ((672955.436 5140627.715 0.000, 6729...   \n",
       " 6        A   14  POLYGON Z ((679533.966 5138336.393 0.000, 6795...   \n",
       " 7        A    2  MULTIPOLYGON Z (((659948.612 5146195.627 0.000...   \n",
       " 8        B    2  MULTIPOLYGON Z (((660407.891 5146041.341 0.000...   \n",
       " 9        C    2  MULTIPOLYGON Z (((660497.535 5146087.971 0.000...   \n",
       " 10       D    2  POLYGON Z ((660205.901 5146434.504 0.000, 6601...   \n",
       " 11       A    4  MULTIPOLYGON Z (((664393.051 5149310.492 0.000...   \n",
       " 12       B    4  MULTIPOLYGON Z (((664418.081 5149308.969 0.000...   \n",
       " 13       C    4  MULTIPOLYGON Z (((664795.291 5148722.030 0.000...   \n",
       " 14       D    4  MULTIPOLYGON Z (((664512.290 5149298.759 0.000...   \n",
       " 15       F    4  MULTIPOLYGON Z (((664555.295 5148877.500 0.000...   \n",
       " 16       A    6  MULTIPOLYGON Z (((667728.332 5142794.574 0.000...   \n",
       " 17       B    6  MULTIPOLYGON Z (((667062.030 5142827.569 0.000...   \n",
       " 18       C    6  MULTIPOLYGON Z (((667885.287 5143167.624 0.000...   \n",
       " 19       D    6  MULTIPOLYGON Z (((667541.463 5142733.019 0.000...   \n",
       " 20       A   19  POLYGON Z ((673336.442 5131823.661 0.000, 6734...   \n",
       " 21       B   19  MULTIPOLYGON Z (((673113.402 5131843.622 0.000...   \n",
       " 22       C   19  POLYGON Z ((673447.331 5131933.799 0.000, 6734...   \n",
       " 23       A  20B  POLYGON Z ((681912.925 5134112.631 0.000, 6819...   \n",
       " 24       B  20B  POLYGON Z ((681960.375 5134036.514 0.000, 6819...   \n",
       " 25       A   11  POLYGON Z ((671863.171 5139735.392 0.000, 6718...   \n",
       " 26       B   11  POLYGON Z ((672020.782 5139810.394 0.000, 6720...   \n",
       " 27       A  18A  POLYGON Z ((676719.739 5129549.854 0.000, 6767...   \n",
       " 28       B  18A  MULTIPOLYGON Z (((675880.852 5129398.344 0.000...   \n",
       " 29       C  18A  POLYGON Z ((675907.338 5129425.851 0.000, 6759...   \n",
       " 30       A  18B  POLYGON Z ((676122.699 5129725.992 0.000, 6760...   \n",
       " 31       B  18B  MULTIPOLYGON Z (((676109.480 5129367.664 0.000...   \n",
       " 32       C  18B  POLYGON Z ((676055.167 5129436.654 0.000, 6760...   \n",
       " 33       A   10  POLYGON Z ((670812.932 5138052.287 0.000, 6708...   \n",
       " 34       B   10  POLYGON Z ((671018.726 5138090.572 0.000, 6709...   \n",
       " 35       A    8  POLYGON Z ((667356.785 5136915.084 0.000, 6674...   \n",
       " 36       B    8  MULTIPOLYGON Z (((667975.270 5136380.002 0.000...   \n",
       " 37       C    8  MULTIPOLYGON Z (((668123.089 5136463.160 0.000...   \n",
       " 38       D    8  MULTIPOLYGON Z (((668167.497 5136504.867 0.000...   \n",
       " 39       F    8  MULTIPOLYGON Z (((668132.534 5136512.033 0.000...   \n",
       " 40       A   16  POLYGON Z ((674950.602 5130139.296 0.000, 6749...   \n",
       " 41       B   16  POLYGON Z ((674754.449 5130463.242 0.000, 6747...   \n",
       " 42       A  20A  POLYGON Z ((681896.182 5133857.391 0.000, 6818...   \n",
       " \n",
       "              area  \n",
       " 0   121479.447847  \n",
       " 1   314218.248235  \n",
       " 2   169367.815454  \n",
       " 3   136457.387227  \n",
       " 4    42614.223874  \n",
       " 5   784137.122636  \n",
       " 6   784137.122636  \n",
       " 7   237110.421865  \n",
       " 8   296301.363750  \n",
       " 9   223260.175832  \n",
       " 10   27465.161189  \n",
       " 11  298747.801919  \n",
       " 12  228497.128879  \n",
       " 13   73292.973230  \n",
       " 14  165180.197624  \n",
       " 15   18419.020984  \n",
       " 16  302522.646108  \n",
       " 17  270607.779675  \n",
       " 18  113289.770690  \n",
       " 19   97716.926163  \n",
       " 20  714558.487872  \n",
       " 21   59234.674002  \n",
       " 22   10343.960762  \n",
       " 23  777216.906941  \n",
       " 24    6920.215695  \n",
       " 25  730785.113261  \n",
       " 26   53352.009375  \n",
       " 27  627557.518509  \n",
       " 28  139076.598844  \n",
       " 29   17503.005284  \n",
       " 30  659561.386330  \n",
       " 31  116169.761723  \n",
       " 32    8405.974583  \n",
       " 33  659734.795648  \n",
       " 34  124402.326988  \n",
       " 35  184031.923205  \n",
       " 36  199311.602629  \n",
       " 37  156913.232991  \n",
       " 38  227390.876525  \n",
       " 39   16489.487287  \n",
       " 40  773840.977438  \n",
       " 41   10296.145199  \n",
       " 42  784137.122636  ,\n",
       " <Axes: >)"
      ]
     },
     "execution_count": 768,
     "metadata": {},
     "output_type": "execute_result"
    },
    {
     "data": {
      "image/png": "[encoded data removed]",
      "text/plain": [
       "<Figure size 640x480 with 1 Axes>"
      ]
     },
     "metadata": {},
     "output_type": "display_data"
    }
   ],
   "source": [
    "import geopandas as gpd\n",
    "import pandas as pd\n",
    "\n",
    "slope_500m = slope.overlay(buffered_camera_df_500m, how='intersection')\n",
    "slope_500m[\"area\"]=slope_500m[\"geometry\"].area\n",
    "# Initialize an empty list to store the results\n",
    "all_sites = []\n",
    "\n",
    "# Iterate over each unique site\n",
    "for site in slope_500m['Site'].unique():\n",
    "    # Filter the data for the current site\n",
    "    slope_site = slope_500m[slope_500m[\"Site\"] == site]\n",
    "\n",
    "    # Dissolve by 'CL_PENT' and sum 'superficie'\n",
    "    dissolved = slope_site.dissolve(by=['CL_PENT', 'Site'], aggfunc={'area':'sum'})\n",
    "\n",
    "    # Store the result\n",
    "    all_sites.append(dissolved)\n",
    "\n",
    "# Concatenate all the results into a single GeoDataFrame\n",
    "slope_500m_gdf = pd.concat(all_sites).reset_index()\n",
    "\n",
    "# Save the GeoDataFrame\n",
    "slope_500m_gdf.to_file(r\"C:\\Users\\thier\\Downloads\\Projet\\slope_500m_2.shp\")\n",
    "slope_500m_gdf.to_csv(r\"C:\\Users\\thier\\Downloads\\Projet\\slope_500m.csv\")\n",
    "\n",
    "# Print and plot the result\n",
    "slope_500m_gdf, slope_500m_gdf.plot()\n"
   ]
  },
  {
   "cell_type": "code",
   "execution_count": 767,
   "metadata": {},
   "outputs": [
    {
     "data": {
      "text/html": [
       "<div>\n",
       "<style scoped>\n",
       "    .dataframe tbody tr th:only-of-type {\n",
       "        vertical-align: middle;\n",
       "    }\n",
       "\n",
       "    .dataframe tbody tr th {\n",
       "        vertical-align: top;\n",
       "    }\n",
       "\n",
       "    .dataframe thead th {\n",
       "        text-align: right;\n",
       "    }\n",
       "</style>\n",
       "<table border=\"1\" class=\"dataframe\">\n",
       "  <thead>\n",
       "    <tr style=\"text-align: right;\">\n",
       "      <th></th>\n",
       "      <th>CL_PENT</th>\n",
       "      <th>Site</th>\n",
       "      <th>geometry</th>\n",
       "      <th>area</th>\n",
       "    </tr>\n",
       "  </thead>\n",
       "  <tbody>\n",
       "    <tr>\n",
       "      <th>0</th>\n",
       "      <td>A</td>\n",
       "      <td>5</td>\n",
       "      <td>MULTIPOLYGON Z (((665052.240 5141929.652 0.000...</td>\n",
       "      <td>121479.447847</td>\n",
       "    </tr>\n",
       "    <tr>\n",
       "      <th>1</th>\n",
       "      <td>B</td>\n",
       "      <td>5</td>\n",
       "      <td>MULTIPOLYGON Z (((665567.181 5141779.394 0.000...</td>\n",
       "      <td>314218.248235</td>\n",
       "    </tr>\n",
       "    <tr>\n",
       "      <th>2</th>\n",
       "      <td>C</td>\n",
       "      <td>5</td>\n",
       "      <td>MULTIPOLYGON Z (((665347.265 5141720.212 0.000...</td>\n",
       "      <td>169367.815454</td>\n",
       "    </tr>\n",
       "    <tr>\n",
       "      <th>3</th>\n",
       "      <td>D</td>\n",
       "      <td>5</td>\n",
       "      <td>MULTIPOLYGON Z (((665366.130 5142043.631 0.000...</td>\n",
       "      <td>136457.387227</td>\n",
       "    </tr>\n",
       "    <tr>\n",
       "      <th>4</th>\n",
       "      <td>F</td>\n",
       "      <td>5</td>\n",
       "      <td>MULTIPOLYGON Z (((665514.366 5141716.376 0.000...</td>\n",
       "      <td>42614.223874</td>\n",
       "    </tr>\n",
       "    <tr>\n",
       "      <th>5</th>\n",
       "      <td>A</td>\n",
       "      <td>12</td>\n",
       "      <td>POLYGON Z ((672955.436 5140627.715 0.000, 6729...</td>\n",
       "      <td>784137.122636</td>\n",
       "    </tr>\n",
       "    <tr>\n",
       "      <th>6</th>\n",
       "      <td>A</td>\n",
       "      <td>14</td>\n",
       "      <td>POLYGON Z ((679533.966 5138336.393 0.000, 6795...</td>\n",
       "      <td>784137.122636</td>\n",
       "    </tr>\n",
       "    <tr>\n",
       "      <th>7</th>\n",
       "      <td>A</td>\n",
       "      <td>2</td>\n",
       "      <td>MULTIPOLYGON Z (((659948.612 5146195.627 0.000...</td>\n",
       "      <td>237110.421865</td>\n",
       "    </tr>\n",
       "    <tr>\n",
       "      <th>8</th>\n",
       "      <td>B</td>\n",
       "      <td>2</td>\n",
       "      <td>MULTIPOLYGON Z (((660407.891 5146041.341 0.000...</td>\n",
       "      <td>296301.363750</td>\n",
       "    </tr>\n",
       "    <tr>\n",
       "      <th>9</th>\n",
       "      <td>C</td>\n",
       "      <td>2</td>\n",
       "      <td>MULTIPOLYGON Z (((660497.535 5146087.971 0.000...</td>\n",
       "      <td>223260.175832</td>\n",
       "    </tr>\n",
       "    <tr>\n",
       "      <th>10</th>\n",
       "      <td>D</td>\n",
       "      <td>2</td>\n",
       "      <td>POLYGON Z ((660205.901 5146434.504 0.000, 6601...</td>\n",
       "      <td>27465.161189</td>\n",
       "    </tr>\n",
       "    <tr>\n",
       "      <th>11</th>\n",
       "      <td>A</td>\n",
       "      <td>4</td>\n",
       "      <td>MULTIPOLYGON Z (((664393.051 5149310.492 0.000...</td>\n",
       "      <td>298747.801919</td>\n",
       "    </tr>\n",
       "    <tr>\n",
       "      <th>12</th>\n",
       "      <td>B</td>\n",
       "      <td>4</td>\n",
       "      <td>MULTIPOLYGON Z (((664418.081 5149308.969 0.000...</td>\n",
       "      <td>228497.128879</td>\n",
       "    </tr>\n",
       "    <tr>\n",
       "      <th>13</th>\n",
       "      <td>C</td>\n",
       "      <td>4</td>\n",
       "      <td>MULTIPOLYGON Z (((664795.291 5148722.030 0.000...</td>\n",
       "      <td>73292.973230</td>\n",
       "    </tr>\n",
       "    <tr>\n",
       "      <th>14</th>\n",
       "      <td>D</td>\n",
       "      <td>4</td>\n",
       "      <td>MULTIPOLYGON Z (((664512.290 5149298.759 0.000...</td>\n",
       "      <td>165180.197624</td>\n",
       "    </tr>\n",
       "    <tr>\n",
       "      <th>15</th>\n",
       "      <td>F</td>\n",
       "      <td>4</td>\n",
       "      <td>MULTIPOLYGON Z (((664555.295 5148877.500 0.000...</td>\n",
       "      <td>18419.020984</td>\n",
       "    </tr>\n",
       "    <tr>\n",
       "      <th>16</th>\n",
       "      <td>A</td>\n",
       "      <td>6</td>\n",
       "      <td>MULTIPOLYGON Z (((667728.332 5142794.574 0.000...</td>\n",
       "      <td>302522.646108</td>\n",
       "    </tr>\n",
       "    <tr>\n",
       "      <th>17</th>\n",
       "      <td>B</td>\n",
       "      <td>6</td>\n",
       "      <td>MULTIPOLYGON Z (((667062.030 5142827.569 0.000...</td>\n",
       "      <td>270607.779675</td>\n",
       "    </tr>\n",
       "    <tr>\n",
       "      <th>18</th>\n",
       "      <td>C</td>\n",
       "      <td>6</td>\n",
       "      <td>MULTIPOLYGON Z (((667885.287 5143167.624 0.000...</td>\n",
       "      <td>113289.770690</td>\n",
       "    </tr>\n",
       "    <tr>\n",
       "      <th>19</th>\n",
       "      <td>D</td>\n",
       "      <td>6</td>\n",
       "      <td>MULTIPOLYGON Z (((667541.463 5142733.019 0.000...</td>\n",
       "      <td>97716.926163</td>\n",
       "    </tr>\n",
       "    <tr>\n",
       "      <th>20</th>\n",
       "      <td>A</td>\n",
       "      <td>19</td>\n",
       "      <td>POLYGON Z ((673336.442 5131823.661 0.000, 6734...</td>\n",
       "      <td>714558.487872</td>\n",
       "    </tr>\n",
       "    <tr>\n",
       "      <th>21</th>\n",
       "      <td>B</td>\n",
       "      <td>19</td>\n",
       "      <td>MULTIPOLYGON Z (((673113.402 5131843.622 0.000...</td>\n",
       "      <td>59234.674002</td>\n",
       "    </tr>\n",
       "    <tr>\n",
       "      <th>22</th>\n",
       "      <td>C</td>\n",
       "      <td>19</td>\n",
       "      <td>POLYGON Z ((673447.331 5131933.799 0.000, 6734...</td>\n",
       "      <td>10343.960762</td>\n",
       "    </tr>\n",
       "    <tr>\n",
       "      <th>23</th>\n",
       "      <td>A</td>\n",
       "      <td>20B</td>\n",
       "      <td>POLYGON Z ((681912.925 5134112.631 0.000, 6819...</td>\n",
       "      <td>777216.906941</td>\n",
       "    </tr>\n",
       "    <tr>\n",
       "      <th>24</th>\n",
       "      <td>B</td>\n",
       "      <td>20B</td>\n",
       "      <td>POLYGON Z ((681960.375 5134036.514 0.000, 6819...</td>\n",
       "      <td>6920.215695</td>\n",
       "    </tr>\n",
       "    <tr>\n",
       "      <th>25</th>\n",
       "      <td>A</td>\n",
       "      <td>11</td>\n",
       "      <td>POLYGON Z ((671863.171 5139735.392 0.000, 6718...</td>\n",
       "      <td>730785.113261</td>\n",
       "    </tr>\n",
       "    <tr>\n",
       "      <th>26</th>\n",
       "      <td>B</td>\n",
       "      <td>11</td>\n",
       "      <td>POLYGON Z ((672020.782 5139810.394 0.000, 6720...</td>\n",
       "      <td>53352.009375</td>\n",
       "    </tr>\n",
       "    <tr>\n",
       "      <th>27</th>\n",
       "      <td>A</td>\n",
       "      <td>18A</td>\n",
       "      <td>POLYGON Z ((676719.739 5129549.854 0.000, 6767...</td>\n",
       "      <td>627557.518509</td>\n",
       "    </tr>\n",
       "    <tr>\n",
       "      <th>28</th>\n",
       "      <td>B</td>\n",
       "      <td>18A</td>\n",
       "      <td>MULTIPOLYGON Z (((675880.852 5129398.344 0.000...</td>\n",
       "      <td>139076.598844</td>\n",
       "    </tr>\n",
       "    <tr>\n",
       "      <th>29</th>\n",
       "      <td>C</td>\n",
       "      <td>18A</td>\n",
       "      <td>POLYGON Z ((675907.338 5129425.851 0.000, 6759...</td>\n",
       "      <td>17503.005284</td>\n",
       "    </tr>\n",
       "    <tr>\n",
       "      <th>30</th>\n",
       "      <td>A</td>\n",
       "      <td>18B</td>\n",
       "      <td>POLYGON Z ((676122.699 5129725.992 0.000, 6760...</td>\n",
       "      <td>659561.386330</td>\n",
       "    </tr>\n",
       "    <tr>\n",
       "      <th>31</th>\n",
       "      <td>B</td>\n",
       "      <td>18B</td>\n",
       "      <td>MULTIPOLYGON Z (((676109.480 5129367.664 0.000...</td>\n",
       "      <td>116169.761723</td>\n",
       "    </tr>\n",
       "    <tr>\n",
       "      <th>32</th>\n",
       "      <td>C</td>\n",
       "      <td>18B</td>\n",
       "      <td>POLYGON Z ((676055.167 5129436.654 0.000, 6760...</td>\n",
       "      <td>8405.974583</td>\n",
       "    </tr>\n",
       "    <tr>\n",
       "      <th>33</th>\n",
       "      <td>A</td>\n",
       "      <td>10</td>\n",
       "      <td>POLYGON Z ((670812.932 5138052.287 0.000, 6708...</td>\n",
       "      <td>659734.795648</td>\n",
       "    </tr>\n",
       "    <tr>\n",
       "      <th>34</th>\n",
       "      <td>B</td>\n",
       "      <td>10</td>\n",
       "      <td>POLYGON Z ((671018.726 5138090.572 0.000, 6709...</td>\n",
       "      <td>124402.326988</td>\n",
       "    </tr>\n",
       "    <tr>\n",
       "      <th>35</th>\n",
       "      <td>A</td>\n",
       "      <td>8</td>\n",
       "      <td>POLYGON Z ((667356.785 5136915.084 0.000, 6674...</td>\n",
       "      <td>184031.923205</td>\n",
       "    </tr>\n",
       "    <tr>\n",
       "      <th>36</th>\n",
       "      <td>B</td>\n",
       "      <td>8</td>\n",
       "      <td>MULTIPOLYGON Z (((667975.270 5136380.002 0.000...</td>\n",
       "      <td>199311.602629</td>\n",
       "    </tr>\n",
       "    <tr>\n",
       "      <th>37</th>\n",
       "      <td>C</td>\n",
       "      <td>8</td>\n",
       "      <td>MULTIPOLYGON Z (((668123.089 5136463.160 0.000...</td>\n",
       "      <td>156913.232991</td>\n",
       "    </tr>\n",
       "    <tr>\n",
       "      <th>38</th>\n",
       "      <td>D</td>\n",
       "      <td>8</td>\n",
       "      <td>MULTIPOLYGON Z (((668167.497 5136504.867 0.000...</td>\n",
       "      <td>227390.876525</td>\n",
       "    </tr>\n",
       "    <tr>\n",
       "      <th>39</th>\n",
       "      <td>F</td>\n",
       "      <td>8</td>\n",
       "      <td>MULTIPOLYGON Z (((668132.534 5136512.033 0.000...</td>\n",
       "      <td>16489.487287</td>\n",
       "    </tr>\n",
       "    <tr>\n",
       "      <th>40</th>\n",
       "      <td>A</td>\n",
       "      <td>16</td>\n",
       "      <td>POLYGON Z ((674950.602 5130139.296 0.000, 6749...</td>\n",
       "      <td>773840.977438</td>\n",
       "    </tr>\n",
       "    <tr>\n",
       "      <th>41</th>\n",
       "      <td>B</td>\n",
       "      <td>16</td>\n",
       "      <td>POLYGON Z ((674754.449 5130463.242 0.000, 6747...</td>\n",
       "      <td>10296.145199</td>\n",
       "    </tr>\n",
       "    <tr>\n",
       "      <th>42</th>\n",
       "      <td>A</td>\n",
       "      <td>20A</td>\n",
       "      <td>POLYGON Z ((681896.182 5133857.391 0.000, 6818...</td>\n",
       "      <td>784137.122636</td>\n",
       "    </tr>\n",
       "  </tbody>\n",
       "</table>\n",
       "</div>"
      ],
      "text/plain": [
       "   CL_PENT Site                                           geometry  \\\n",
       "0        A    5  MULTIPOLYGON Z (((665052.240 5141929.652 0.000...   \n",
       "1        B    5  MULTIPOLYGON Z (((665567.181 5141779.394 0.000...   \n",
       "2        C    5  MULTIPOLYGON Z (((665347.265 5141720.212 0.000...   \n",
       "3        D    5  MULTIPOLYGON Z (((665366.130 5142043.631 0.000...   \n",
       "4        F    5  MULTIPOLYGON Z (((665514.366 5141716.376 0.000...   \n",
       "5        A   12  POLYGON Z ((672955.436 5140627.715 0.000, 6729...   \n",
       "6        A   14  POLYGON Z ((679533.966 5138336.393 0.000, 6795...   \n",
       "7        A    2  MULTIPOLYGON Z (((659948.612 5146195.627 0.000...   \n",
       "8        B    2  MULTIPOLYGON Z (((660407.891 5146041.341 0.000...   \n",
       "9        C    2  MULTIPOLYGON Z (((660497.535 5146087.971 0.000...   \n",
       "10       D    2  POLYGON Z ((660205.901 5146434.504 0.000, 6601...   \n",
       "11       A    4  MULTIPOLYGON Z (((664393.051 5149310.492 0.000...   \n",
       "12       B    4  MULTIPOLYGON Z (((664418.081 5149308.969 0.000...   \n",
       "13       C    4  MULTIPOLYGON Z (((664795.291 5148722.030 0.000...   \n",
       "14       D    4  MULTIPOLYGON Z (((664512.290 5149298.759 0.000...   \n",
       "15       F    4  MULTIPOLYGON Z (((664555.295 5148877.500 0.000...   \n",
       "16       A    6  MULTIPOLYGON Z (((667728.332 5142794.574 0.000...   \n",
       "17       B    6  MULTIPOLYGON Z (((667062.030 5142827.569 0.000...   \n",
       "18       C    6  MULTIPOLYGON Z (((667885.287 5143167.624 0.000...   \n",
       "19       D    6  MULTIPOLYGON Z (((667541.463 5142733.019 0.000...   \n",
       "20       A   19  POLYGON Z ((673336.442 5131823.661 0.000, 6734...   \n",
       "21       B   19  MULTIPOLYGON Z (((673113.402 5131843.622 0.000...   \n",
       "22       C   19  POLYGON Z ((673447.331 5131933.799 0.000, 6734...   \n",
       "23       A  20B  POLYGON Z ((681912.925 5134112.631 0.000, 6819...   \n",
       "24       B  20B  POLYGON Z ((681960.375 5134036.514 0.000, 6819...   \n",
       "25       A   11  POLYGON Z ((671863.171 5139735.392 0.000, 6718...   \n",
       "26       B   11  POLYGON Z ((672020.782 5139810.394 0.000, 6720...   \n",
       "27       A  18A  POLYGON Z ((676719.739 5129549.854 0.000, 6767...   \n",
       "28       B  18A  MULTIPOLYGON Z (((675880.852 5129398.344 0.000...   \n",
       "29       C  18A  POLYGON Z ((675907.338 5129425.851 0.000, 6759...   \n",
       "30       A  18B  POLYGON Z ((676122.699 5129725.992 0.000, 6760...   \n",
       "31       B  18B  MULTIPOLYGON Z (((676109.480 5129367.664 0.000...   \n",
       "32       C  18B  POLYGON Z ((676055.167 5129436.654 0.000, 6760...   \n",
       "33       A   10  POLYGON Z ((670812.932 5138052.287 0.000, 6708...   \n",
       "34       B   10  POLYGON Z ((671018.726 5138090.572 0.000, 6709...   \n",
       "35       A    8  POLYGON Z ((667356.785 5136915.084 0.000, 6674...   \n",
       "36       B    8  MULTIPOLYGON Z (((667975.270 5136380.002 0.000...   \n",
       "37       C    8  MULTIPOLYGON Z (((668123.089 5136463.160 0.000...   \n",
       "38       D    8  MULTIPOLYGON Z (((668167.497 5136504.867 0.000...   \n",
       "39       F    8  MULTIPOLYGON Z (((668132.534 5136512.033 0.000...   \n",
       "40       A   16  POLYGON Z ((674950.602 5130139.296 0.000, 6749...   \n",
       "41       B   16  POLYGON Z ((674754.449 5130463.242 0.000, 6747...   \n",
       "42       A  20A  POLYGON Z ((681896.182 5133857.391 0.000, 6818...   \n",
       "\n",
       "             area  \n",
       "0   121479.447847  \n",
       "1   314218.248235  \n",
       "2   169367.815454  \n",
       "3   136457.387227  \n",
       "4    42614.223874  \n",
       "5   784137.122636  \n",
       "6   784137.122636  \n",
       "7   237110.421865  \n",
       "8   296301.363750  \n",
       "9   223260.175832  \n",
       "10   27465.161189  \n",
       "11  298747.801919  \n",
       "12  228497.128879  \n",
       "13   73292.973230  \n",
       "14  165180.197624  \n",
       "15   18419.020984  \n",
       "16  302522.646108  \n",
       "17  270607.779675  \n",
       "18  113289.770690  \n",
       "19   97716.926163  \n",
       "20  714558.487872  \n",
       "21   59234.674002  \n",
       "22   10343.960762  \n",
       "23  777216.906941  \n",
       "24    6920.215695  \n",
       "25  730785.113261  \n",
       "26   53352.009375  \n",
       "27  627557.518509  \n",
       "28  139076.598844  \n",
       "29   17503.005284  \n",
       "30  659561.386330  \n",
       "31  116169.761723  \n",
       "32    8405.974583  \n",
       "33  659734.795648  \n",
       "34  124402.326988  \n",
       "35  184031.923205  \n",
       "36  199311.602629  \n",
       "37  156913.232991  \n",
       "38  227390.876525  \n",
       "39   16489.487287  \n",
       "40  773840.977438  \n",
       "41   10296.145199  \n",
       "42  784137.122636  "
      ]
     },
     "execution_count": 767,
     "metadata": {},
     "output_type": "execute_result"
    }
   ],
   "source": [
    "slope_500m_gdf['Site'] "
   ]
  },
  {
   "cell_type": "code",
   "execution_count": null,
   "metadata": {},
   "outputs": [],
   "source": [
    "import geopandas as gpd\n",
    "import pandas as pd\n",
    "\n",
    "# Replace rivieres_500m with slope_500m, and ensure buffered_camera_df_500m is correct\n",
    "slope_500m = slope.overlay(buffered_camera_df_500m, how='intersection')\n",
    "slope_500m['superficie'] = slope_500m.geometry.area\n",
    "\n",
    "# Ensure that 'Site' and other necessary columns are included\n",
    "slope_500m_clean = slope_500m[['Site', 'superficie', 'geometry', 'CL_PENT', 'SHAPE_Area']]\n",
    "\n",
    "\n",
    "slope_500m_sum = slope_500m_clean.dissolve(by='Site', aggfunc= {'CL_PENT':'sum'})\n",
    "\n",
    "# Update the file paths in the to_file and to_csv methods\n",
    "#slope_500m_sum.to_file(r\"C:\\Users\\thier\\Downloads\\Projet\\slope_buffers_500m.shp\")\n",
    "#slope_500m_sum.to_csv(r\"C:\\Users\\thier\\Downloads\\Projet\\slope_buffers_500m.csv\")\n",
    "\n",
    "# Print the result and plot it\n",
    "print(slope_500m_sum)\n",
    "slope_500m_sum.plot()\n"
   ]
  },
  {
   "cell_type": "code",
   "execution_count": null,
   "metadata": {},
   "outputs": [],
   "source": []
  },
  {
   "cell_type": "code",
   "execution_count": null,
   "metadata": {},
   "outputs": [],
   "source": [
    "import geopandas as gpd\n",
    "import pandas as pd\n",
    "\n",
    "# Assuming slope_500m is your prepared GeoDataFrame\n",
    "slope_500m = slope.overlay(buffered_camera_df_500m, how='intersection')\n",
    "slope_500m['superficie'] = slope_500m.geometry.area\n",
    "slope_500m_clean = slope_500m[['Site', 'superficie', 'CL_PENT']]\n",
    "\n",
    "#slope_500m_clean.dissolve(by='Site', aggfunc= {'CL_PENT':'sum'})\n",
    "\n",
    "# Group by 'Site' and 'CL_PENT' and sum 'superficie'\n",
    "slope_grouped = slope_500m_clean.groupby(['Site', 'CL_PENT']).sum().reset_index()\n",
    "\n",
    "# Save the pivot table to a CSV file\n",
    "slope_grouped.to_csv(r\"C:\\Users\\thier\\Downloads\\Projet\\slope_superficie_by_category_and_site_2.csv\")\n",
    "\n",
    "# Print the pivot table\n",
    "print(slope_grouped)\n"
   ]
  },
  {
   "cell_type": "code",
   "execution_count": null,
   "metadata": {},
   "outputs": [],
   "source": [
    "import geopandas as gpd\n",
    "import pandas as pd\n",
    "\n",
    "# Assuming slope_500m is your prepared GeoDataFrame\n",
    "slope_500m = slope.overlay(buffered_camera_df_500m, how='intersection')\n",
    "slope_500m['superficie'] = slope_500m.geometry.area\n",
    "slope_500m_clean = slope_500m[['Site', 'superficie', 'CL_PENT', 'geometry']]\n",
    "\n",
    "# Group by 'Site' and 'CL_PENT' and sum 'superficie'\n",
    "grouped_non_spatial = slope_500m_clean.groupby(['Site', 'CL_PENT'])['superficie'].sum().reset_index()\n",
    "\n",
    "# Get the first geometry for each 'Site' as a representative geometry\n",
    "first_geometry = slope_500m_clean.groupby('Site')['geometry'].first().reset_index()\n",
    "\n",
    "# Merge the non-spatial and spatial data\n",
    "merged = pd.merge(grouped_non_spatial, first_geometry, on='Site', how='left')\n",
    "\n",
    "# Convert back to a GeoDataFrame\n",
    "gdf = gpd.GeoDataFrame(merged, geometry='geometry')\n",
    "\n",
    "# Save the GeoDataFrame\n",
    "gdf.to_file(r\"C:\\Users\\thier\\Downloads\\Projet\\slope_superficie_by_category_and_site.shp\")\n",
    "gdf.to_csv(r\"C:\\Users\\thier\\Downloads\\Projet\\slope_superficie_by_category_and_site.csv\")\n",
    "\n",
    "# Print and plot the result\n",
    "print(gdf)\n",
    "gdf.plot()\n"
   ]
  },
  {
   "cell_type": "code",
   "execution_count": null,
   "metadata": {},
   "outputs": [],
   "source": [
    "grouped"
   ]
  },
  {
   "cell_type": "code",
   "execution_count": null,
   "metadata": {},
   "outputs": [],
   "source": [
    "print(type(pivot_table))"
   ]
  },
  {
   "cell_type": "code",
   "execution_count": null,
   "metadata": {},
   "outputs": [],
   "source": [
    "pivot_table = slope_500m_clean.pivot(index='Site', columns='CL_PENT', values='superficie').fillna(0)\n"
   ]
  },
  {
   "cell_type": "code",
   "execution_count": null,
   "metadata": {},
   "outputs": [],
   "source": [
    "slope_500m_sum"
   ]
  },
  {
   "cell_type": "code",
   "execution_count": null,
   "metadata": {},
   "outputs": [],
   "source": [
    "slope_500m_clean.to_file(r\"C:\\Users\\thier\\Downloads\\Projet\\slope_buffers_500m.shp\")\n",
    "slope_500m_clean.plot()\n"
   ]
  },
  {
   "cell_type": "code",
   "execution_count": null,
   "metadata": {},
   "outputs": [],
   "source": [
    "# Export the grouped data to a CSV file\n",
    "grouped_data.to_csv(r\"C:\\Users\\thier\\Downloads\\Projet\\Projet\\slope_buffers_500m.csv\", index=False)"
   ]
  },
  {
   "cell_type": "markdown",
   "metadata": {},
   "source": [
    "### Slope buffers 1km"
   ]
  },
  {
   "cell_type": "code",
   "execution_count": null,
   "metadata": {},
   "outputs": [],
   "source": [
    "import geopandas as gpd\n",
    "import pandas as pd\n",
    "\n",
    "aggregated_results = pd.DataFrame()\n",
    "\n",
    "for selected_buffer_index in range(len(buffered_camera_df_1km)):\n",
    "    selected_buffer = buffered_camera_df_1km.iloc[selected_buffer_index:selected_buffer_index + 1]\n",
    "    # Calculate the intersection\n",
    "    clipped_shp = gpd.overlay(slope, selected_buffer, how='intersection')\n",
    "\n",
    "    if 'id' in clipped_shp.columns and 'CL_PENT' in clipped_shp.columns and 'SUPERFICIE' in clipped_shp.columns:\n",
    "        grouped_data = clipped_shp.groupby(['id', 'CL_PENT'])['SUPERFICIE'].sum().reset_index()\n",
    "        \n",
    "        # Append the grouped data to the aggregated_results DataFrame\n",
    "        aggregated_results = pd.concat([aggregated_results, grouped_data], ignore_index=True)\n",
    "        \n",
    "# Export the grouped data to a CSV file\n",
    "aggregated_results.to_csv(r\"C:\\Users\\thier\\Downloads\\Projet\\Projet\\slope_buffers_1km.csv\", index=False)"
   ]
  },
  {
   "cell_type": "code",
   "execution_count": null,
   "metadata": {},
   "outputs": [],
   "source": [
    "buffered_camera_df_1km"
   ]
  },
  {
   "cell_type": "markdown",
   "metadata": {},
   "source": [
    "### Slope buffers 2km"
   ]
  },
  {
   "cell_type": "code",
   "execution_count": null,
   "metadata": {},
   "outputs": [],
   "source": [
    "import geopandas as gpd\n",
    "import pandas as pd\n",
    "\n",
    "aggregated_results = pd.DataFrame()\n",
    "\n",
    "for selected_buffer_index in range(len(buffered_camera_df_2km)):\n",
    "    selected_buffer = buffered_camera_df_2km.iloc[selected_buffer_index:selected_buffer_index + 1]\n",
    "    # Calculate the intersection\n",
    "    clipped_shp = gpd.overlay(slope, selected_buffer, how='intersection')\n",
    "\n",
    "    if 'id' in clipped_shp.columns and 'CL_PENT' in clipped_shp.columns and 'SUPERFICIE' in clipped_shp.columns:\n",
    "        grouped_data = clipped_shp.groupby(['id', 'CL_PENT'])['SUPERFICIE'].sum().reset_index()\n",
    "        \n",
    "        # Append the grouped data to the aggregated_results DataFrame\n",
    "        aggregated_results = pd.concat([aggregated_results, grouped_data], ignore_index=True)\n",
    "        \n",
    "# Export the grouped data to a CSV file\n",
    "aggregated_results.to_file(r\"C:\\Users\\thier\\Downloads\\Projet\\Projet\\slope_buffers_2km.shp\")"
   ]
  },
  {
   "cell_type": "markdown",
   "metadata": {},
   "source": [
    "## Landcover type"
   ]
  },
  {
   "cell_type": "code",
   "execution_count": null,
   "metadata": {},
   "outputs": [],
   "source": [
    "import pandas as pd"
   ]
  },
  {
   "cell_type": "code",
   "execution_count": null,
   "metadata": {},
   "outputs": [],
   "source": [
    "print(\"CRS of roads:\", landcover.crs)\n",
    "print(\"CRS of buffered_camera_df_500m:\", buffered_camera_df_1km.crs)"
   ]
  },
  {
   "cell_type": "code",
   "execution_count": null,
   "metadata": {},
   "outputs": [],
   "source": [
    "pd.set_option('display.max_columns', None)\n",
    "landcover.head(20)"
   ]
  },
  {
   "cell_type": "code",
   "execution_count": null,
   "metadata": {},
   "outputs": [],
   "source": [
    "landcover.to_csv(r\"C:\\Users\\thier\\Downloads\\Projet\\Projet\\landcover.csv\", index=False)"
   ]
  },
  {
   "cell_type": "code",
   "execution_count": null,
   "metadata": {},
   "outputs": [],
   "source": [
    "#Clip the rivers with the buffers\n",
    "clip_rivers_500m = gpd.clip(roads, buffered_camera_df_1km)\n",
    "clip_rivers_500m"
   ]
  },
  {
   "cell_type": "markdown",
   "metadata": {},
   "source": [
    "### Landcover buffers 500m"
   ]
  },
  {
   "cell_type": "code",
   "execution_count": null,
   "metadata": {},
   "outputs": [],
   "source": [
    "import geopandas as gpd\n",
    "import pandas as pd\n",
    "\n",
    "aggregated_results = pd.DataFrame()\n",
    "\n",
    "for selected_buffer_index in range(len(buffered_camera_df_500m)):\n",
    "    selected_buffer = buffered_camera_df_500m.iloc[selected_buffer_index:selected_buffer_index + 1]\n",
    "    # Calculate the intersection\n",
    "    clipped_shp = gpd.overlay(landcover, selected_buffer, how='intersection')\n",
    "\n",
    "    if 'id' in clipped_shp.columns and 'CL_PENT' in clipped_shp.columns and 'SUPERFICIE' in clipped_shp.columns:\n",
    "        grouped_data = clipped_shp.groupby(['id', 'TYPE_ECO'])['SUPERFICIE'].sum().reset_index()\n",
    "        \n",
    "        # Append the grouped data to the aggregated_results DataFrame\n",
    "        aggregated_results = pd.concat([aggregated_results, grouped_data], ignore_index=True)\n",
    "        \n",
    "# Export the grouped data to a CSV file\n",
    "aggregated_results.to_csv(r\"C:\\Users\\thier\\Downloads\\Projet\\Projet\\landcover_buffers_500m.csv\", index=False)\n",
    "aggregated_results\n"
   ]
  },
  {
   "cell_type": "markdown",
   "metadata": {},
   "source": [
    "### Landcover buffers 1km"
   ]
  },
  {
   "cell_type": "code",
   "execution_count": null,
   "metadata": {},
   "outputs": [],
   "source": [
    "import geopandas as gpd\n",
    "import pandas as pd\n",
    "\n",
    "aggregated_results = pd.DataFrame()\n",
    "\n",
    "for selected_buffer_index in range(len(buffered_camera_df_1km)):\n",
    "    selected_buffer = buffered_camera_df_1km.iloc[selected_buffer_index:selected_buffer_index + 1]\n",
    "    # Calculate the intersection\n",
    "    clipped_shp = gpd.overlay(landcover, selected_buffer, how='intersection')\n",
    "\n",
    "    if 'id' in clipped_shp.columns and 'CL_PENT' in clipped_shp.columns and 'SUPERFICIE' in clipped_shp.columns:\n",
    "        grouped_data = clipped_shp.groupby(['id', 'TYPE_ECO'])['SUPERFICIE'].sum().reset_index()\n",
    "        \n",
    "        # Append the grouped data to the aggregated_results DataFrame\n",
    "        aggregated_results = pd.concat([aggregated_results, grouped_data], ignore_index=True)\n",
    "        \n",
    "# Export the grouped data to a CSV file\n",
    "aggregated_results.to_csv(r\"C:\\Users\\thier\\Downloads\\Projet\\Projet\\landcover_buffers_1km.csv\", index=False)\n",
    "aggregated_results"
   ]
  },
  {
   "cell_type": "markdown",
   "metadata": {},
   "source": [
    "### Landcover buffers 2km"
   ]
  },
  {
   "cell_type": "code",
   "execution_count": null,
   "metadata": {},
   "outputs": [],
   "source": [
    "import geopandas as gpd\n",
    "import pandas as pd\n",
    "\n",
    "aggregated_results = pd.DataFrame()\n",
    "\n",
    "for selected_buffer_index in range(len(buffered_camera_df_2km)):\n",
    "    selected_buffer = buffered_camera_df_2km.iloc[selected_buffer_index:selected_buffer_index + 1]\n",
    "    # Calculate the intersection\n",
    "    clipped_shp = gpd.overlay(landcover, selected_buffer, how='intersection')\n",
    "\n",
    "    if 'id' in clipped_shp.columns and 'CL_PENT' in clipped_shp.columns and 'SUPERFICIE' in clipped_shp.columns:\n",
    "        grouped_data = clipped_shp.groupby(['id', 'TYPE_ECO'])['SUPERFICIE'].sum().reset_index()\n",
    "        \n",
    "        # Append the grouped data to the aggregated_results DataFrame\n",
    "        aggregated_results = pd.concat([aggregated_results, grouped_data], ignore_index=True)\n",
    "        \n",
    "# Export the grouped data to a CSV file\n",
    "aggregated_results.to_csv(r\"C:\\Users\\thier\\Downloads\\Projet\\Projet\\landcover_buffers_2km.csv\", index=False)\n",
    "aggregated_results"
   ]
  },
  {
   "cell_type": "markdown",
   "metadata": {},
   "source": [
    "## Utilisation du sol"
   ]
  },
  {
   "cell_type": "markdown",
   "metadata": {},
   "source": [
    "### Check projection first\n"
   ]
  },
  {
   "cell_type": "code",
   "execution_count": null,
   "metadata": {},
   "outputs": [],
   "source": [
    "print(\"CRS of roads:\", sol.crs)\n",
    "print(\"CRS of buffered_camera_df_500m:\", buffered_camera_df_500m.crs)"
   ]
  },
  {
   "cell_type": "markdown",
   "metadata": {},
   "source": [
    "### Sol buffers 500m"
   ]
  },
  {
   "cell_type": "code",
   "execution_count": null,
   "metadata": {},
   "outputs": [],
   "source": [
    "buffered_camera_df_500m"
   ]
  },
  {
   "cell_type": "code",
   "execution_count": null,
   "metadata": {},
   "outputs": [],
   "source": [
    "import geopandas as gpd\n",
    "import pandas as pd\n",
    "\n",
    "aggregated_results = pd.DataFrame()\n",
    "\n",
    "for selected_buffer_index in range(len(buffered_camera_df_500m)):\n",
    "    selected_buffer = buffered_camera_df_500m.iloc[selected_buffer_index:selected_buffer_index + 1]\n",
    "    clipped_shp = gpd.overlay(sol, selected_buffer, how='intersection')\n",
    "\n",
    "    if 'Camera' in clipped_shp.columns and 'DESC_CAT' in clipped_shp.columns and 'Shape_Area' in clipped_shp.columns:\n",
    "        grouped_data = clipped_shp.groupby(['Camera', 'DESC_CAT'])['Shape_Area'].sum().reset_index()\n",
    "        grouped_data = grouped_data.rename(columns={'Shape_Area': 'Superficie_m2', 'DESC_CAT': 'Type sol'})\n",
    "        aggregated_results = pd.concat([aggregated_results, grouped_data], ignore_index=True)\n",
    "        \n",
    "# Export the file\n",
    "aggregated_results.to_csv(r\"C:\\Users\\thier\\Downloads\\Projet\\Projet\\sol_buffers_500m_4.csv\", index=False)\n",
    "aggregated_results"
   ]
  },
  {
   "cell_type": "code",
   "execution_count": null,
   "metadata": {},
   "outputs": [],
   "source": [
    "import fiona\n",
    "fiona.supported_drivers "
   ]
  },
  {
   "cell_type": "code",
   "execution_count": null,
   "metadata": {},
   "outputs": [],
   "source": [
    "roads"
   ]
  },
  {
   "cell_type": "code",
   "execution_count": null,
   "metadata": {},
   "outputs": [],
   "source": [
    "#Clip the roads with the buffers\n",
    "sol_500m = gpd.overlay(roads, buffered_camera_df_500m, how='intersection')\n",
    "#Clean the dataframe    \n",
    "df_clean = [\"Camera\", \"Shape_Leng\", \"geometry\", \"ClsRte\"]\n",
    "sol_500m= sol_500m[df_clean]\n",
    "#Aggregate the data\n",
    "df_sol_500m = sol_500m.dissolve(by='Camera', aggfunc='sum').drop(columns=\"ClsRte\").reset_index()\n",
    "#Export the file in shp or csv\n",
    "#df_sol_500m.to_file(r\"C:\\Users\\thier\\Downloads\\Projet\\Projet\\sol_buffers_500m_9.shp\")\n",
    "df_sol_500m.to_csv(r\"C:\\Users\\thier\\Downloads\\Projet\\Projet\\sol_buffers_500m_9.csv\", index=False)\n"
   ]
  },
  {
   "cell_type": "code",
   "execution_count": null,
   "metadata": {},
   "outputs": [],
   "source": [
    "test3 = df_sol_500m.rename(columns={'Shape_Leng': 'Longueur_m2'})"
   ]
  },
  {
   "cell_type": "code",
   "execution_count": null,
   "metadata": {},
   "outputs": [],
   "source": [
    "test3"
   ]
  },
  {
   "cell_type": "code",
   "execution_count": null,
   "metadata": {},
   "outputs": [],
   "source": [
    "print(type(df_sol_500m))"
   ]
  },
  {
   "cell_type": "code",
   "execution_count": null,
   "metadata": {},
   "outputs": [],
   "source": [
    "grouped_sol_500m = grouped_sol_500m.rename(columns={'Shape_Area': 'Superficie_m2', 'DESC_CAT': 'Type sol'})\n"
   ]
  },
  {
   "cell_type": "code",
   "execution_count": null,
   "metadata": {},
   "outputs": [],
   "source": [
    "import geopandas as gpd\n",
    "\n",
    "# Create a GeoDataFrame from grouped_sol_500m\n",
    "grouped_sol_500m_gdf = gpd.GeoDataFrame(grouped_sol_500m)\n",
    "\n",
    "# Now you have a GeoDataFrame with the \"geometry\" column assigned\n"
   ]
  },
  {
   "cell_type": "code",
   "execution_count": null,
   "metadata": {},
   "outputs": [],
   "source": [
    "grouped_sol_500m.to_file(r\"C:\\Users\\thier\\Downloads\\Projet\\Projet\\roads_buffers_500m_5.shp\")"
   ]
  },
  {
   "cell_type": "code",
   "execution_count": null,
   "metadata": {},
   "outputs": [],
   "source": [
    "grouped_sol_500m.to_file(r\"C:\\Users\\thier\\Downloads\\Projet\\Projet\\sol_buffers_500m_5.shp\")"
   ]
  },
  {
   "cell_type": "markdown",
   "metadata": {},
   "source": [
    "### Sol buffer 1km"
   ]
  },
  {
   "cell_type": "code",
   "execution_count": null,
   "metadata": {},
   "outputs": [],
   "source": [
    "import geopandas as gpd\n",
    "import pandas as pd\n",
    "\n",
    "aggregated_results = pd.DataFrame()\n",
    "\n",
    "for selected_buffer_index in range(len(buffered_camera_df_1km)):\n",
    "    selected_buffer = buffered_camera_df_1km.iloc[selected_buffer_index:selected_buffer_index + 1]\n",
    "    clipped_shp = gpd.overlay(sol, selected_buffer, how='intersection')\n",
    "\n",
    "    if 'id' in clipped_shp.columns and 'DESC_CAT' in clipped_shp.columns and 'Shape_Area' in clipped_shp.columns:\n",
    "        grouped_data = clipped_shp.groupby(['id', 'DESC_CAT'])['Shape_Area'].sum().reset_index()\n",
    "        grouped_data = grouped_data.rename(columns={'Shape_Area': 'Superficie_m2', 'DESC_CAT': 'Type sol'})\n",
    "        aggregated_results = pd.concat([aggregated_results, grouped_data], ignore_index=True)\n",
    "        \n",
    "# Export the file\n",
    "aggregated_results.to_csv(r\"C:\\Users\\thier\\Downloads\\Projet\\Projet\\sol_buffers_1km.csv\", index=False)\n",
    "aggregated_results"
   ]
  },
  {
   "cell_type": "markdown",
   "metadata": {},
   "source": [
    "### Sol buffer 2km"
   ]
  },
  {
   "cell_type": "code",
   "execution_count": null,
   "metadata": {},
   "outputs": [],
   "source": [
    "import geopandas as gpd\n",
    "import pandas as pd\n",
    "\n",
    "aggregated_results = pd.DataFrame()\n",
    "\n",
    "for selected_buffer_index in range(len(buffered_camera_df_2km)):\n",
    "    selected_buffer = buffered_camera_df_2km.iloc[selected_buffer_index:selected_buffer_index + 1]\n",
    "    clipped_shp = gpd.overlay(sol, selected_buffer, how='intersection')\n",
    "\n",
    "    if 'id' in clipped_shp.columns and 'id' in clipped_shp.columns and 'Shape_Area' in clipped_shp.columns:\n",
    "        grouped_data = clipped_shp.groupby(['Site', 'DESC_CAT'])['Shape_Area'].sum().reset_index()\n",
    "        grouped_data = grouped_data.rename(columns={'Shape_Area': 'Superficie_m2', 'DESC_CAT': 'Type sol'})\n",
    "        aggregated_results = pd.concat([aggregated_results, grouped_data], ignore_index=True)\n",
    "        \n",
    "# Export the file\n",
    "aggregated_results.to_csv(r\"C:\\Users\\thier\\Downloads\\Projet\\Projet\\sol_buffers_2km.csv\", index=False)\n",
    "aggregated_results"
   ]
  },
  {
   "cell_type": "code",
   "execution_count": null,
   "metadata": {},
   "outputs": [],
   "source": [
    "import geopandas as gpd\n",
    "import pandas as pd\n",
    "\n",
    "def process_buffers(buffer_df, buffer_name, rivers_gdf, output_csv_path):\n",
    "    results_df = pd.DataFrame(columns=[\"Buffer Index\", \"Clipped Length\"])\n",
    "    clipped_results_gdf = gpd.GeoDataFrame()\n",
    "\n",
    "    for selected_buffer_index in range(len(buffer_df)):\n",
    "        selected_buffer = buffer_df.iloc[selected_buffer_index:selected_buffer_index + 1]\n",
    "        clipped_shp = gpd.overlay(rivers_gdf, selected_buffer, how='intersection')\n",
    "        clipped_length = clipped_shp.length.sum()\n",
    "        print(f\"{buffer_name} - Buffer Index {selected_buffer_index}: Clipped Length = {clipped_length}\")\n",
    "\n",
    "        results_df = pd.concat([results_df, pd.DataFrame({\"Buffer Index\": [selected_buffer_index], \"Clipped Length\": [clipped_length]})], ignore_index=True)\n",
    "        clipped_results_gdf = gpd.GeoDataFrame(pd.concat([clipped_results_gdf, clipped_shp]), crs=rivers_gdf.crs)\n",
    "\n",
    "    results_df.to_csv(output_csv_path, index=False)\n",
    "    # Optionally save the GeoDataFrame as well\n",
    "    # clipped_results_gdf.to_file(output_csv_path.replace('.csv', '.shp'))\n",
    "\n",
    "# Assuming 'rivieres' is your rivers GeoDataFrame\n",
    "# And you have buffered_camera_df_500m, buffered_camera_df_1km, buffered_camera_df_2km defined\n",
    "\n",
    "process_buffers(buffered_camera_df_500m, \"Rivers buffers 500m\", rivieres, r\"C:\\Users\\thier\\Downloads\\Projet\\Projet\\rivers_buffers_500m_test.csv\")\n",
    "process_buffers(buffered_camera_df_1km, \"Rivers buffers 1km\", rivieres, r\"C:\\Users\\thier\\Downloads\\Projet\\Projet\\rivers_buffers_1km_test.csv\")\n",
    "process_buffers(buffered_camera_df_2km, \"Rivers buffers 2km\", rivieres, r\"C:\\Users\\thier\\Downloads\\Projet\\\\Projet\\rivers_buffers_2km_test.csv\")\n"
   ]
  },
  {
   "cell_type": "markdown",
   "metadata": {},
   "source": []
  }
 ],
 "metadata": {
  "kernelspec": {
   "display_name": "Python 3",
   "language": "python",
   "name": "python3"
  },
  "language_info": {
   "codemirror_mode": {
    "name": "ipython",
    "version": 3
   },
   "file_extension": ".py",
   "mimetype": "text/x-python",
   "name": "python",
   "nbconvert_exporter": "python",
   "pygments_lexer": "ipython3",
   "version": "3.12.1"
  }
 },
 "nbformat": 4,
 "nbformat_minor": 2
}
